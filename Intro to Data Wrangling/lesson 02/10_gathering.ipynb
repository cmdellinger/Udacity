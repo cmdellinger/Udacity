{
 "cells": [
  {
   "cell_type": "markdown",
   "metadata": {},
   "source": [
    "## Quiz"
   ]
  },
  {
   "cell_type": "code",
   "execution_count": 1,
   "metadata": {},
   "outputs": [],
   "source": [
    "from bs4 import BeautifulSoup\n",
    "import os\n",
    "import pandas as pd"
   ]
  },
  {
   "cell_type": "code",
   "execution_count": 19,
   "metadata": {},
   "outputs": [
    {
     "name": "stdout",
     "output_type": "stream",
     "text": [
      "32313030\n"
     ]
    }
   ],
   "source": [
    "# List of dictionaries to build file by file and later convert to a DataFrame\n",
    "df_list = []\n",
    "folder = 'rt_html'\n",
    "for movie_html in ['et_the_extraterrestrial.html']:\n",
    "    with open(os.path.join(folder, movie_html)) as file:\n",
    "        soup = BeautifulSoup(file, 'lxml')\n",
    "        title = soup.find('title').contents[0][:-len(' - Rotten Tomatoes')]\n",
    "        audience_score = soup.find('div', class_='audience-score meter').find('span').contents[0][:-1]\n",
    "        num_audience_ratings = soup.find('div', class_=\"audience-info hidden-xs superPageFontColor\")\n",
    "        num_audience_ratings = num_audience_ratings.find_all('div')[1].contents[-1].strip().replace(',','')\n",
    "        print(num_audience_ratings)\n",
    "        break\n",
    "        # Append to list of dictionaries\n",
    "        df_list.append({'title': title,\n",
    "                        'audience_score': int(audience_score),\n",
    "                        'number_of_audience_ratings': int(num_audience_ratings)})\n",
    "df = pd.DataFrame(df_list, columns = ['title', 'audience_score', 'number_of_audience_ratings'])"
   ]
  },
  {
   "cell_type": "code",
   "execution_count": 20,
   "metadata": {},
   "outputs": [],
   "source": [
    "# List of dictionaries to build file by file and later convert to a DataFrame\n",
    "df_list = []\n",
    "folder = 'rt_html'\n",
    "for movie_html in os.listdir(folder):\n",
    "    with open(os.path.join(folder, movie_html)) as file:\n",
    "        soup = BeautifulSoup(file, 'lxml')\n",
    "        title = soup.find('title').contents[0][:-len(' - Rotten Tomatoes')]\n",
    "        audience_score = soup.find('div', class_='audience-score meter').find('span').contents[0][:-1]\n",
    "        num_audience_ratings = soup.find('div', class_=\"audience-info hidden-xs superPageFontColor\")\n",
    "        num_audience_ratings = num_audience_ratings.find_all('div')[1].contents[-1].strip().replace(',','')\n",
    "        # Append to list of dictionaries\n",
    "        df_list.append({'title': title,\n",
    "                        'audience_score': int(audience_score),\n",
    "                        'number_of_audience_ratings': int(num_audience_ratings)})\n",
    "df = pd.DataFrame(df_list, columns = ['title', 'audience_score', 'number_of_audience_ratings'])"
   ]
  },
  {
   "cell_type": "code",
   "execution_count": 21,
   "metadata": {},
   "outputs": [
    {
     "data": {
      "text/html": [
       "<div>\n",
       "<style scoped>\n",
       "    .dataframe tbody tr th:only-of-type {\n",
       "        vertical-align: middle;\n",
       "    }\n",
       "\n",
       "    .dataframe tbody tr th {\n",
       "        vertical-align: top;\n",
       "    }\n",
       "\n",
       "    .dataframe thead th {\n",
       "        text-align: right;\n",
       "    }\n",
       "</style>\n",
       "<table border=\"1\" class=\"dataframe\">\n",
       "  <thead>\n",
       "    <tr style=\"text-align: right;\">\n",
       "      <th></th>\n",
       "      <th>title</th>\n",
       "      <th>audience_score</th>\n",
       "      <th>number_of_audience_ratings</th>\n",
       "    </tr>\n",
       "  </thead>\n",
       "  <tbody>\n",
       "    <tr>\n",
       "      <th>0</th>\n",
       "      <td>Zootopia (2016)</td>\n",
       "      <td>92</td>\n",
       "      <td>98633</td>\n",
       "    </tr>\n",
       "    <tr>\n",
       "      <th>1</th>\n",
       "      <td>The Treasure of the Sierra Madre (1948)</td>\n",
       "      <td>93</td>\n",
       "      <td>25627</td>\n",
       "    </tr>\n",
       "    <tr>\n",
       "      <th>2</th>\n",
       "      <td>All Quiet on the Western Front (1930)</td>\n",
       "      <td>89</td>\n",
       "      <td>17768</td>\n",
       "    </tr>\n",
       "    <tr>\n",
       "      <th>3</th>\n",
       "      <td>Rear Window (1954)</td>\n",
       "      <td>95</td>\n",
       "      <td>149458</td>\n",
       "    </tr>\n",
       "    <tr>\n",
       "      <th>4</th>\n",
       "      <td>Selma (2015)</td>\n",
       "      <td>86</td>\n",
       "      <td>60533</td>\n",
       "    </tr>\n",
       "  </tbody>\n",
       "</table>\n",
       "</div>"
      ],
      "text/plain": [
       "                                     title  audience_score  \\\n",
       "0                          Zootopia (2016)              92   \n",
       "1  The Treasure of the Sierra Madre (1948)              93   \n",
       "2    All Quiet on the Western Front (1930)              89   \n",
       "3                       Rear Window (1954)              95   \n",
       "4                             Selma (2015)              86   \n",
       "\n",
       "   number_of_audience_ratings  \n",
       "0                       98633  \n",
       "1                       25627  \n",
       "2                       17768  \n",
       "3                      149458  \n",
       "4                       60533  "
      ]
     },
     "execution_count": 21,
     "metadata": {},
     "output_type": "execute_result"
    }
   ],
   "source": [
    "df.head()"
   ]
  },
  {
   "cell_type": "markdown",
   "metadata": {},
   "source": [
    "## Solution Test\n",
    "Run the cell below the see if your solution is correct. If an `AssertionError` is thrown, your solution is incorrect. If no error is thrown, your solution is correct."
   ]
  },
  {
   "cell_type": "code",
   "execution_count": 22,
   "metadata": {},
   "outputs": [
    {
     "ename": "AssertionError",
     "evalue": "DataFrame.iloc[:, 0] are different\n\nDataFrame.iloc[:, 0] values are different (98.0 %)\n[left]:  [Zootopia (2016), The Treasure of the Sierra Madre (1948), All Quiet on the Western Front (1930), Rear Window (1954), Selma (2015), Citizen Kane (1941), Casablanca (1942), Inside Out (2015), Gravity (2013), Dr. Strangelove Or How I Learned to Stop Worrying and Love the Bomb (1964), Seven Samurai (Shichinin no Samurai) (1956), Open City (1946), Touch of Evil (1958), Get Out (2017), The Battle of Algiers (La Battaglia di Algeri) (1967), Star Wars: Episode VII - The Force Awakens (2015), Rosemary's Baby (1968), Brooklyn (2015), The Grapes of Wrath (1940), The Conformist (1970), All About Eve (1950), Bicycle Thieves (Ladri di biciclette) (1949), Gone With the Wind (1939), Argo (2012), Moonlight (2016), The Bride of Frankenstein (1935), The 39 Steps (1935), Toy Story 2 (1999), Snow White and the Seven Dwarfs (1937), High Noon (1952), Psycho (1960), 12 Years a Slave (2013), 12 Angry Men (Twelve Angry Men) (1957), La La Land (2016), Rashômon (1951), The Wizard of Oz (1939), The Good, the Bad and the Ugly (1966), The 400 Blows (Les Quatre cents coups) (1959), Manchester by the Sea (2016), Battleship Potemkin (1925), Man on Wire (2008), Toy Story 3 (2010), Up (2009), Spotlight (2015), Boyhood (2014), Harry Potter and the Deathly Hallows - Part 2 (2011), Singin' in the Rain (1952), Tokyo Story (Tôkyô monogatari) (1953), Laura (1944), The Wrestler (2008), The Dark Knight (2008), King Kong (1933), Logan (2017), Taxi Driver (1976), The Third Man (1949), It Happened One Night (1934), Alien (1979), North by Northwest (1959), Pinocchio (1940), Vertigo (1958), Repulsion (1965), Wonder Woman (2017), Baby Driver (2017), The Philadelphia Story (1940), The Maltese Falcon (1941), Apocalypse Now (1979), The Babadook (2014), The Last Picture Show (1971), Modern Times (1936), The Godfather, Part II (1974), Army of Shadows (L'Armée des ombres) (1969), A Hard Day's Night (1964), Sunset Boulevard (1950), L.A. Confidential (1997), The Godfather (1972), La Grande illusion (Grand Illusion) (1938), The Big Sick (2017), Nosferatu, a Symphony of Horror (Nosferatu, eine Symphonie des Grauens) (Nosferatu the Vampire) (1922), The Adventures of Robin Hood (1938), Frankenstein (1931), The Jungle Book (2016), Finding Nemo (2003), Jaws (1975), Hell or High Water (2016), Rebecca (1940), M (1931), Mad Max: Fury Road (2015), E.T. The Extra-Terrestrial (1982), Dunkirk (2017), The Cabinet of Dr. Caligari (Das Cabinet des Dr. Caligari) (1920), The Wages of Fear (1953), Toy Story (1995), On the Waterfront (1954), Roman Holiday (1953), Metropolis (1927), The Night of the Hunter (1955), A Streetcar Named Desire (1951), Arrival (2016), Skyfall (2012), Star Trek (2009)]\n[right]: [Sunset Boulevard (1950), The Babadook (2014), La La Land (2016), Brooklyn (2015), The Battle of Algiers (La Battaglia di Algeri) (1967), Rashômon (1951), Zootopia (2016), High Noon (1952), Repulsion (1965), The Bride of Frankenstein (1935), Harry Potter and the Deathly Hallows - Part 2 (2011), The Godfather (1972), It Happened One Night (1934), Manchester by the Sea (2016), Rosemary's Baby (1968), Arrival (2016), A Streetcar Named Desire (1951), Army of Shadows (L'Armée des ombres) (1969), 12 Years a Slave (2013), Snow White and the Seven Dwarfs (1937), The Jungle Book (2016), Toy Story (1995), Gravity (2013), Gone With the Wind (1939), Rebecca (1940), North by Northwest (1959), The Cabinet of Dr. Caligari (Das Cabinet des Dr. Caligari) (1920), Star Trek (2009), Toy Story 3 (2010), La Grande illusion (Grand Illusion) (1938), A Hard Day's Night (1964), The 39 Steps (1935), Casablanca (1942), L.A. Confidential (1997), Singin' in the Rain (1952), The Grapes of Wrath (1940), Dunkirk (2017), Tokyo Story (Tôkyô monogatari) (1953), Rear Window (1954), The Treasure of the Sierra Madre (1948), Battleship Potemkin (1925), All About Eve (1950), Man on Wire (2008), The Dark Knight (2008), Inside Out (2015), Jaws (1975), The Conformist (1970), Roman Holiday (1953), Up (2009), Modern Times (1936), The Maltese Falcon (1941), The Big Sick (2017), Logan (2017), Selma (2015), The Night of the Hunter (1955), The Philadelphia Story (1940), King Kong (1933), Laura (1944), Pinocchio (1940), Finding Nemo (2003), Citizen Kane (1941), The Good, the Bad and the Ugly (1966), Dr. Strangelove Or How I Learned to Stop Worrying and Love the Bomb (1964), Wonder Woman (2017), Toy Story 2 (1999), M (1931), The Wrestler (2008), Apocalypse Now (1979), E.T. The Extra-Terrestrial (1982), The 400 Blows (Les Quatre cents coups) (1959), Seven Samurai (Shichinin no Samurai) (1956), Baby Driver (2017), Frankenstein (1931), Vertigo (1958), Open City (1946), Get Out (2017), Bicycle Thieves (Ladri di biciclette) (1949), Metropolis (1927), Moonlight (2016), The Third Man (1949), The Wizard of Oz (1939), On the Waterfront (1954), Touch of Evil (1958), Psycho (1960), All Quiet on the Western Front (1930), 12 Angry Men (Twelve Angry Men) (1957), Spotlight (2015), Nosferatu, a Symphony of Horror (Nosferatu, eine Symphonie des Grauens) (Nosferatu the Vampire) (1922), Alien (1979), Hell or High Water (2016), Skyfall (2012), The Adventures of Robin Hood (1938), Taxi Driver (1976), Boyhood (2014), Argo (2012), The Godfather, Part II (1974), The Last Picture Show (1971), Mad Max: Fury Road (2015), The Wages of Fear (1953), Star Wars: Episode VII - The Force Awakens (2015)]",
     "output_type": "error",
     "traceback": [
      "\u001b[0;31m---------------------------------------------------------------------------\u001b[0m",
      "\u001b[0;31mAssertionError\u001b[0m                            Traceback (most recent call last)",
      "\u001b[0;32m<ipython-input-22-3734e7da8818>\u001b[0m in \u001b[0;36m<module>\u001b[0;34m()\u001b[0m\n\u001b[1;32m      1\u001b[0m \u001b[0mdf_solution\u001b[0m \u001b[0;34m=\u001b[0m \u001b[0mpd\u001b[0m\u001b[0;34m.\u001b[0m\u001b[0mread_pickle\u001b[0m\u001b[0;34m(\u001b[0m\u001b[0;34m'df_solution.pkl'\u001b[0m\u001b[0;34m)\u001b[0m\u001b[0;34m\u001b[0m\u001b[0m\n\u001b[0;32m----> 2\u001b[0;31m \u001b[0mpd\u001b[0m\u001b[0;34m.\u001b[0m\u001b[0mtesting\u001b[0m\u001b[0;34m.\u001b[0m\u001b[0massert_frame_equal\u001b[0m\u001b[0;34m(\u001b[0m\u001b[0mdf\u001b[0m\u001b[0;34m,\u001b[0m \u001b[0mdf_solution\u001b[0m\u001b[0;34m)\u001b[0m\u001b[0;34m\u001b[0m\u001b[0m\n\u001b[0m",
      "\u001b[0;32m~/anaconda2/envs/Python3/lib/python3.6/site-packages/pandas/util/testing.py\u001b[0m in \u001b[0;36massert_frame_equal\u001b[0;34m(left, right, check_dtype, check_index_type, check_column_type, check_frame_type, check_less_precise, check_names, by_blocks, check_exact, check_datetimelike_compat, check_categorical, check_like, obj)\u001b[0m\n\u001b[1;32m   1351\u001b[0m                 \u001b[0mcheck_datetimelike_compat\u001b[0m\u001b[0;34m=\u001b[0m\u001b[0mcheck_datetimelike_compat\u001b[0m\u001b[0;34m,\u001b[0m\u001b[0;34m\u001b[0m\u001b[0m\n\u001b[1;32m   1352\u001b[0m                 \u001b[0mcheck_categorical\u001b[0m\u001b[0;34m=\u001b[0m\u001b[0mcheck_categorical\u001b[0m\u001b[0;34m,\u001b[0m\u001b[0;34m\u001b[0m\u001b[0m\n\u001b[0;32m-> 1353\u001b[0;31m                 obj='DataFrame.iloc[:, {idx}]'.format(idx=i))\n\u001b[0m\u001b[1;32m   1354\u001b[0m \u001b[0;34m\u001b[0m\u001b[0m\n\u001b[1;32m   1355\u001b[0m \u001b[0;34m\u001b[0m\u001b[0m\n",
      "\u001b[0;32m~/anaconda2/envs/Python3/lib/python3.6/site-packages/pandas/util/testing.py\u001b[0m in \u001b[0;36massert_series_equal\u001b[0;34m(left, right, check_dtype, check_index_type, check_series_type, check_less_precise, check_names, check_exact, check_datetimelike_compat, check_categorical, obj)\u001b[0m\n\u001b[1;32m   1230\u001b[0m                                      \u001b[0mcheck_less_precise\u001b[0m\u001b[0;34m=\u001b[0m\u001b[0mcheck_less_precise\u001b[0m\u001b[0;34m,\u001b[0m\u001b[0;34m\u001b[0m\u001b[0m\n\u001b[1;32m   1231\u001b[0m                                      \u001b[0mcheck_dtype\u001b[0m\u001b[0;34m=\u001b[0m\u001b[0mcheck_dtype\u001b[0m\u001b[0;34m,\u001b[0m\u001b[0;34m\u001b[0m\u001b[0m\n\u001b[0;32m-> 1232\u001b[0;31m                                      obj='{obj}'.format(obj=obj))\n\u001b[0m\u001b[1;32m   1233\u001b[0m \u001b[0;34m\u001b[0m\u001b[0m\n\u001b[1;32m   1234\u001b[0m     \u001b[0;31m# metadata comparison\u001b[0m\u001b[0;34m\u001b[0m\u001b[0;34m\u001b[0m\u001b[0m\n",
      "\u001b[0;32mpandas/_libs/testing.pyx\u001b[0m in \u001b[0;36mpandas._libs.testing.assert_almost_equal\u001b[0;34m()\u001b[0m\n",
      "\u001b[0;32mpandas/_libs/testing.pyx\u001b[0m in \u001b[0;36mpandas._libs.testing.assert_almost_equal\u001b[0;34m()\u001b[0m\n",
      "\u001b[0;32m~/anaconda2/envs/Python3/lib/python3.6/site-packages/pandas/util/testing.py\u001b[0m in \u001b[0;36mraise_assert_detail\u001b[0;34m(obj, message, left, right, diff)\u001b[0m\n\u001b[1;32m   1021\u001b[0m         \u001b[0mmsg\u001b[0m \u001b[0;34m+=\u001b[0m \u001b[0;34m\"\\n[diff]: {diff}\"\u001b[0m\u001b[0;34m.\u001b[0m\u001b[0mformat\u001b[0m\u001b[0;34m(\u001b[0m\u001b[0mdiff\u001b[0m\u001b[0;34m=\u001b[0m\u001b[0mdiff\u001b[0m\u001b[0;34m)\u001b[0m\u001b[0;34m\u001b[0m\u001b[0m\n\u001b[1;32m   1022\u001b[0m \u001b[0;34m\u001b[0m\u001b[0m\n\u001b[0;32m-> 1023\u001b[0;31m     \u001b[0;32mraise\u001b[0m \u001b[0mAssertionError\u001b[0m\u001b[0;34m(\u001b[0m\u001b[0mmsg\u001b[0m\u001b[0;34m)\u001b[0m\u001b[0;34m\u001b[0m\u001b[0m\n\u001b[0m\u001b[1;32m   1024\u001b[0m \u001b[0;34m\u001b[0m\u001b[0m\n\u001b[1;32m   1025\u001b[0m \u001b[0;34m\u001b[0m\u001b[0m\n",
      "\u001b[0;31mAssertionError\u001b[0m: DataFrame.iloc[:, 0] are different\n\nDataFrame.iloc[:, 0] values are different (98.0 %)\n[left]:  [Zootopia (2016), The Treasure of the Sierra Madre (1948), All Quiet on the Western Front (1930), Rear Window (1954), Selma (2015), Citizen Kane (1941), Casablanca (1942), Inside Out (2015), Gravity (2013), Dr. Strangelove Or How I Learned to Stop Worrying and Love the Bomb (1964), Seven Samurai (Shichinin no Samurai) (1956), Open City (1946), Touch of Evil (1958), Get Out (2017), The Battle of Algiers (La Battaglia di Algeri) (1967), Star Wars: Episode VII - The Force Awakens (2015), Rosemary's Baby (1968), Brooklyn (2015), The Grapes of Wrath (1940), The Conformist (1970), All About Eve (1950), Bicycle Thieves (Ladri di biciclette) (1949), Gone With the Wind (1939), Argo (2012), Moonlight (2016), The Bride of Frankenstein (1935), The 39 Steps (1935), Toy Story 2 (1999), Snow White and the Seven Dwarfs (1937), High Noon (1952), Psycho (1960), 12 Years a Slave (2013), 12 Angry Men (Twelve Angry Men) (1957), La La Land (2016), Rashômon (1951), The Wizard of Oz (1939), The Good, the Bad and the Ugly (1966), The 400 Blows (Les Quatre cents coups) (1959), Manchester by the Sea (2016), Battleship Potemkin (1925), Man on Wire (2008), Toy Story 3 (2010), Up (2009), Spotlight (2015), Boyhood (2014), Harry Potter and the Deathly Hallows - Part 2 (2011), Singin' in the Rain (1952), Tokyo Story (Tôkyô monogatari) (1953), Laura (1944), The Wrestler (2008), The Dark Knight (2008), King Kong (1933), Logan (2017), Taxi Driver (1976), The Third Man (1949), It Happened One Night (1934), Alien (1979), North by Northwest (1959), Pinocchio (1940), Vertigo (1958), Repulsion (1965), Wonder Woman (2017), Baby Driver (2017), The Philadelphia Story (1940), The Maltese Falcon (1941), Apocalypse Now (1979), The Babadook (2014), The Last Picture Show (1971), Modern Times (1936), The Godfather, Part II (1974), Army of Shadows (L'Armée des ombres) (1969), A Hard Day's Night (1964), Sunset Boulevard (1950), L.A. Confidential (1997), The Godfather (1972), La Grande illusion (Grand Illusion) (1938), The Big Sick (2017), Nosferatu, a Symphony of Horror (Nosferatu, eine Symphonie des Grauens) (Nosferatu the Vampire) (1922), The Adventures of Robin Hood (1938), Frankenstein (1931), The Jungle Book (2016), Finding Nemo (2003), Jaws (1975), Hell or High Water (2016), Rebecca (1940), M (1931), Mad Max: Fury Road (2015), E.T. The Extra-Terrestrial (1982), Dunkirk (2017), The Cabinet of Dr. Caligari (Das Cabinet des Dr. Caligari) (1920), The Wages of Fear (1953), Toy Story (1995), On the Waterfront (1954), Roman Holiday (1953), Metropolis (1927), The Night of the Hunter (1955), A Streetcar Named Desire (1951), Arrival (2016), Skyfall (2012), Star Trek (2009)]\n[right]: [Sunset Boulevard (1950), The Babadook (2014), La La Land (2016), Brooklyn (2015), The Battle of Algiers (La Battaglia di Algeri) (1967), Rashômon (1951), Zootopia (2016), High Noon (1952), Repulsion (1965), The Bride of Frankenstein (1935), Harry Potter and the Deathly Hallows - Part 2 (2011), The Godfather (1972), It Happened One Night (1934), Manchester by the Sea (2016), Rosemary's Baby (1968), Arrival (2016), A Streetcar Named Desire (1951), Army of Shadows (L'Armée des ombres) (1969), 12 Years a Slave (2013), Snow White and the Seven Dwarfs (1937), The Jungle Book (2016), Toy Story (1995), Gravity (2013), Gone With the Wind (1939), Rebecca (1940), North by Northwest (1959), The Cabinet of Dr. Caligari (Das Cabinet des Dr. Caligari) (1920), Star Trek (2009), Toy Story 3 (2010), La Grande illusion (Grand Illusion) (1938), A Hard Day's Night (1964), The 39 Steps (1935), Casablanca (1942), L.A. Confidential (1997), Singin' in the Rain (1952), The Grapes of Wrath (1940), Dunkirk (2017), Tokyo Story (Tôkyô monogatari) (1953), Rear Window (1954), The Treasure of the Sierra Madre (1948), Battleship Potemkin (1925), All About Eve (1950), Man on Wire (2008), The Dark Knight (2008), Inside Out (2015), Jaws (1975), The Conformist (1970), Roman Holiday (1953), Up (2009), Modern Times (1936), The Maltese Falcon (1941), The Big Sick (2017), Logan (2017), Selma (2015), The Night of the Hunter (1955), The Philadelphia Story (1940), King Kong (1933), Laura (1944), Pinocchio (1940), Finding Nemo (2003), Citizen Kane (1941), The Good, the Bad and the Ugly (1966), Dr. Strangelove Or How I Learned to Stop Worrying and Love the Bomb (1964), Wonder Woman (2017), Toy Story 2 (1999), M (1931), The Wrestler (2008), Apocalypse Now (1979), E.T. The Extra-Terrestrial (1982), The 400 Blows (Les Quatre cents coups) (1959), Seven Samurai (Shichinin no Samurai) (1956), Baby Driver (2017), Frankenstein (1931), Vertigo (1958), Open City (1946), Get Out (2017), Bicycle Thieves (Ladri di biciclette) (1949), Metropolis (1927), Moonlight (2016), The Third Man (1949), The Wizard of Oz (1939), On the Waterfront (1954), Touch of Evil (1958), Psycho (1960), All Quiet on the Western Front (1930), 12 Angry Men (Twelve Angry Men) (1957), Spotlight (2015), Nosferatu, a Symphony of Horror (Nosferatu, eine Symphonie des Grauens) (Nosferatu the Vampire) (1922), Alien (1979), Hell or High Water (2016), Skyfall (2012), The Adventures of Robin Hood (1938), Taxi Driver (1976), Boyhood (2014), Argo (2012), The Godfather, Part II (1974), The Last Picture Show (1971), Mad Max: Fury Road (2015), The Wages of Fear (1953), Star Wars: Episode VII - The Force Awakens (2015)]"
     ]
    }
   ],
   "source": [
    "df_solution = pd.read_pickle('df_solution.pkl')\n",
    "pd.testing.assert_frame_equal(df, df_solution)"
   ]
  },
  {
   "cell_type": "code",
   "execution_count": null,
   "metadata": {},
   "outputs": [],
   "source": []
  }
 ],
 "metadata": {
  "kernelspec": {
   "display_name": "Python 3",
   "language": "python",
   "name": "python3"
  },
  "language_info": {
   "codemirror_mode": {
    "name": "ipython",
    "version": 3
   },
   "file_extension": ".py",
   "mimetype": "text/x-python",
   "name": "python",
   "nbconvert_exporter": "python",
   "pygments_lexer": "ipython3",
   "version": "3.6.5"
  }
 },
 "nbformat": 4,
 "nbformat_minor": 2
}
