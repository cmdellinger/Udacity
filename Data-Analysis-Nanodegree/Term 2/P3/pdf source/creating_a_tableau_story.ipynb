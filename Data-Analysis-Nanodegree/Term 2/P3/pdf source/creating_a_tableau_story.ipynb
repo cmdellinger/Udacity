{
 "cells": [
  {
   "cell_type": "markdown",
   "metadata": {},
   "source": [
    "# Creating a Tableau Story"
   ]
  },
  {
   "cell_type": "markdown",
   "metadata": {},
   "source": [
    "## Summary\n",
    "This story focuses on the dataset of loan information from Prosper, a peer-to-peer lending marketplace. In particular, the story exaimes how assets and liabilities affect the proprietary Prosper score, which measures the risk of the lending to the borrower, similar to the more widely used credit score. "
   ]
  },
  {
   "cell_type": "markdown",
   "metadata": {},
   "source": [
    "## Design\n",
    "#### Creating the [First Draft](https://public.tableau.com/profile/cmdellinger#!/vizhome/Udacity-IntrotoDataViz-projectdraft/ProsperScore \"First draft of Tableau story\")\n",
    "\n",
    "When I set out to make my story, I prioritized the content of what I wanted to portray. In other words, my focus was on making graphs that showed the information I needed to make my points. I wasn't content with the sheet captions to convey the information, since it took a lot of scrolling in the narrow box, so I put the captions in floating text boxes on the sheets. To make the story look a little more polished, I stylized everything to a shade of blue, changing the text boxes and backgrounds to shades of blue to match the colors used in the graphics. \n",
    "\n",
    "#### Journey to the [Final Document](https://public.tableau.com/profile/cmdellinger#!/vizhome/Udacity-IntrotoDataViz-projectfinal/ProsperScore \"Final Tableau story\")\n",
    "\n",
    "Based on the feedback, I cleaned up some of the axis labels and added graph titles to all the graphs. I also added opening and closing slides. In reviewing the story myself, I decided to change all the worksheets in the story into dashboards so that I could add more elements per sheet and get rid of the floating text. I reorganized the presentation to put the caveat about the data aggregation at the end. I also changed some of the wording to make the sheets flow better and provide better explainations. I worked on stylizing the whole story and added general dataset overview visualizations as well as pictures on the opening sheet."
   ]
  },
  {
   "cell_type": "markdown",
   "metadata": {},
   "source": [
    "## Feedback\n",
    "1. Mentor from Classrooms Chat  \n",
    "\\begin{quote}\n",
    "Hi Charles, here are my slide by slide critiques  \n",
    "Slide 1) You need to have an x-axis label and a cleaner title. The title can be 'Credit score vs. Prosper loan score' \\\\\n",
    "Slide 2) Good slide\\\\\n",
    "Slide 3) Good slide\\\\\n",
    "Slide 4) I would add an income filter here since there are so many data points\\\\\n",
    "Slide 5) Your chart title is unclear\\\\\n",
    "Slide 6) What unit is the y-axis? Days? Months? Always include units\\\\\n",
    "Slide 7) Good\\\\\n",
    "Slide 8) Good\\\\\n",
    "Slide 9) What is the y-axis label? It is very hard to read/understand\\\\\n",
    "Slide 10) Once again, this metric needs to be explained\\\\\n",
    "Slide 11) Good slide\\\\\n",
    "I also recommend adding separate intro/conclusion slides to frame your problem!\\\\\n",
    "Good job\\\\\n",
    "\\end{quote}\n",
    "2. Mentor from Individual Mentorship  \n",
    "\\begin{quote}\n",
    "I just checked it via mobile. Plots look good but most of them are just line chart.\\\\\n",
    "Try to give them an overview on Prosper Score at the first page itself.\\\\\n",
    "Perhaps a bar chart with ratings or a pie chart with rating percentage\\\\\n",
    "Yes! Do add Graph titles\\\\\n",
    "\\end{quote}"
   ]
  },
  {
   "cell_type": "markdown",
   "metadata": {},
   "source": [
    "## Resources\n",
    "* [Tableau Community Forums](https://community.tableau.com/community/forums)"
   ]
  }
 ],
 "metadata": {
  "kernelspec": {
   "display_name": "Python 3",
   "language": "python",
   "name": "python3"
  },
  "language_info": {
   "codemirror_mode": {
    "name": "ipython",
    "version": 3
   },
   "file_extension": ".py",
   "mimetype": "text/x-python",
   "name": "python",
   "nbconvert_exporter": "python",
   "pygments_lexer": "ipython3",
   "version": "3.6.3"
  }
 },
 "nbformat": 4,
 "nbformat_minor": 2
}
