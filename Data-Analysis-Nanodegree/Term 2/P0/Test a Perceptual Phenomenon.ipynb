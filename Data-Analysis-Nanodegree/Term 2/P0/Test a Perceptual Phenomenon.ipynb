{
 "cells": [
  {
   "cell_type": "markdown",
   "metadata": {},
   "source": [
    "### Analyzing the Stroop Effect\n",
    "Perform the analysis in the space below. Remember to follow [the instructions](https://docs.google.com/document/d/1-OkpZLjG_kX9J6LIQ5IltsqMzVWjh36QpnP2RYpVdPU/pub?embedded=True) and review the [project rubric](https://review.udacity.com/#!/rubrics/71/view) before submitting. Once you've completed the analysis and write-up, download this file as a PDF or HTML file, upload that PDF/HTML into the workspace here (click on the orange Jupyter icon in the upper left then Upload), then use the Submit Project button at the bottom of this page. This will create a zip file containing both this .ipynb doc and the PDF/HTML doc that will be submitted for your project.\n",
    "\n",
    "\n",
    "#### (1) What is the independent variable? What is the dependent variable?"
   ]
  },
  {
   "cell_type": "markdown",
   "metadata": {},
   "source": [
    "The independent variable is the state of congruency between the color word and text color. For example, blue written in blue ink is congruent, while red written in green ink is incongruent. The dependent variable is the time it takes for the participant to name the text color."
   ]
  },
  {
   "cell_type": "markdown",
   "metadata": {},
   "source": [
    "#### (2) What is an appropriate set of hypotheses for this task? Specify your null and alternative hypotheses, and clearly define any notation used. Justify your choices."
   ]
  },
  {
   "cell_type": "markdown",
   "metadata": {},
   "source": [
    "The test will be whether the state of the text color and color word being congruent or incongruent has an effect on the time it takes for participants to name the text color. Since the samples are the same participants, the congruent time will essentially act as a control with each having a corresponding incongruent test pairing. Therefore, the best statistical test for this data set will be a paired t-test, because there are two sets of the same measure for the same sample of the population under different condition. The null hypothesis will be that there is no affect, or that their is no difference in the mean values between pair sets. The alternate or research hypothesis will be that there is an affect, or the means between sample pairs are different. Whether the null hypothesis is rejected will show whether there is a statistically significant difference in means, or that congruency between color word and text color affects the time for participants to name the text color. "
   ]
  },
  {
   "cell_type": "markdown",
   "metadata": {},
   "source": [
    "Null hypothesis: there is no difference between the sample means\n",
    "\n",
    "$H_0: \\mu_{diff} = 0$\n",
    "\n",
    "Alternative hypothesis: there is a difference between sample means\n",
    "\n",
    "$H_1: \\mu_{diff} \\neq 0$"
   ]
  },
  {
   "cell_type": "markdown",
   "metadata": {},
   "source": [
    "The standard value of $\\alpha = 0.05$ will be used to provide 95% certain."
   ]
  },
  {
   "cell_type": "markdown",
   "metadata": {},
   "source": [
    "#### (3) Report some descriptive statistics regarding this dataset. Include at least one measure of central tendency and at least one measure of variability. The name of the data file is 'stroopdata.csv'."
   ]
  },
  {
   "cell_type": "code",
   "execution_count": 34,
   "metadata": {},
   "outputs": [],
   "source": [
    "# import modules\n",
    "import matplotlib.pyplot as plt\n",
    "import numpy as np\n",
    "import pandas as pd\n",
    "import seaborn as sns\n",
    "%matplotlib inline"
   ]
  },
  {
   "cell_type": "code",
   "execution_count": 35,
   "metadata": {},
   "outputs": [],
   "source": [
    "# load data set\n",
    "filename = 'stroopdata.csv'\n",
    "stroop_df = pd.read_csv(filename)"
   ]
  },
  {
   "cell_type": "code",
   "execution_count": 36,
   "metadata": {},
   "outputs": [
    {
     "data": {
      "text/html": [
       "<div>\n",
       "<style scoped>\n",
       "    .dataframe tbody tr th:only-of-type {\n",
       "        vertical-align: middle;\n",
       "    }\n",
       "\n",
       "    .dataframe tbody tr th {\n",
       "        vertical-align: top;\n",
       "    }\n",
       "\n",
       "    .dataframe thead th {\n",
       "        text-align: right;\n",
       "    }\n",
       "</style>\n",
       "<table border=\"1\" class=\"dataframe\">\n",
       "  <thead>\n",
       "    <tr style=\"text-align: right;\">\n",
       "      <th></th>\n",
       "      <th>Congruent</th>\n",
       "      <th>Incongruent</th>\n",
       "    </tr>\n",
       "  </thead>\n",
       "  <tbody>\n",
       "    <tr>\n",
       "      <th>0</th>\n",
       "      <td>12.079</td>\n",
       "      <td>19.278</td>\n",
       "    </tr>\n",
       "    <tr>\n",
       "      <th>1</th>\n",
       "      <td>16.791</td>\n",
       "      <td>18.741</td>\n",
       "    </tr>\n",
       "    <tr>\n",
       "      <th>2</th>\n",
       "      <td>9.564</td>\n",
       "      <td>21.214</td>\n",
       "    </tr>\n",
       "  </tbody>\n",
       "</table>\n",
       "</div>"
      ],
      "text/plain": [
       "   Congruent  Incongruent\n",
       "0     12.079       19.278\n",
       "1     16.791       18.741\n",
       "2      9.564       21.214"
      ]
     },
     "execution_count": 36,
     "metadata": {},
     "output_type": "execute_result"
    }
   ],
   "source": [
    "# what does the data table look like?\n",
    "stroop_df.head(3)"
   ]
  },
  {
   "cell_type": "code",
   "execution_count": 37,
   "metadata": {},
   "outputs": [],
   "source": [
    "# name series and extract columns for convenience\n",
    "series_list = [stroop_df[column] for column in stroop_df.columns]\n",
    "columns_list = [column for column in stroop_df.columns]"
   ]
  },
  {
   "cell_type": "code",
   "execution_count": 38,
   "metadata": {},
   "outputs": [
    {
     "name": "stdout",
     "output_type": "stream",
     "text": [
      "       Congruent  Incongruent\n",
      "count  24.000000    24.000000\n",
      "mean   14.051125    22.015917\n",
      "std     3.559358     4.797057\n",
      "min     8.630000    15.687000\n",
      "25%    11.895250    18.716750\n",
      "50%    14.356500    21.017500\n",
      "75%    16.200750    24.051500\n",
      "max    22.328000    35.255000\n"
     ]
    }
   ],
   "source": [
    "# generate some general statistics for sample pair sets\n",
    "print pd.concat([series.describe() for series in series_list], axis=1)"
   ]
  },
  {
   "cell_type": "markdown",
   "metadata": {},
   "source": [
    "The trends based on the summary statistics seem to indicate their might be a difference between series. The number of data pairs is the same ($n_c = n_i = 24$), which is expected. The means between sets seem different ($\\bar{x_c} = 14.05, \\bar{x_i} = 22.02$). The standard deviations are of the same order of magnitude ($s_c = 3.56$, $s_i = 4.80$,). The interquartile ranges don't overlap ($IQR_c\\in[11.90, 16.20], IQR_i\\in[18.72, 24.05]$), but the min/max ranges do ($x_c\\in[8.63, 22.33], x_i\\in[15.69, 35.26]$)."
   ]
  },
  {
   "cell_type": "markdown",
   "metadata": {},
   "source": [
    "#### (4) Provide one or two visualizations that show the distribution of the sample data. Write one or two sentences noting what you observe about the plot or plots."
   ]
  },
  {
   "cell_type": "code",
   "execution_count": 39,
   "metadata": {},
   "outputs": [
    {
     "data": {
      "image/png": "[encoded data removed]",
      "text/plain": [
       "<Figure size 432x288 with 1 Axes>"
      ]
     },
     "metadata": {},
     "output_type": "display_data"
    }
   ],
   "source": [
    "# histograms of both series\n",
    "bins = np.linspace(8, 36, 12)\n",
    "for column in stroop_df.columns:\n",
    "    plt.hist(stroop_df[column], bins=bins, alpha=0.5, label=column)\n",
    "plt.legend(loc='upper right')\n",
    "plt.show()"
   ]
  },
  {
   "cell_type": "code",
   "execution_count": 40,
   "metadata": {},
   "outputs": [
    {
     "data": {
      "image/png": "[encoded data removed]",
      "text/plain": [
       "<Figure size 432x288 with 1 Axes>"
      ]
     },
     "metadata": {},
     "output_type": "display_data"
    }
   ],
   "source": [
    "# box and whisker plots for both series\n",
    "plt.boxplot([stroop_df[column] for column in stroop_df.columns],\n",
    "            labels=[column for column in stroop_df.columns])\n",
    "plt.show()"
   ]
  },
  {
   "cell_type": "markdown",
   "metadata": {},
   "source": [
    "The visualizations display the same as the summary statistics. The sample means seem to be different and most to the points bewteen samples are seperated, but it will take a statistical test to see if there is enough difference between the congruent and incongruent data to say there is a difference."
   ]
  },
  {
   "cell_type": "markdown",
   "metadata": {},
   "source": [
    "#### (5)  Now, perform the statistical test and report your results. What is your confidence level or Type I error associated with your test? What is your conclusion regarding the hypotheses you set up? Did the results match up with your expectations? **Hint:**  Think about what is being measured on each individual, and what statistic best captures how an individual reacts in each environment."
   ]
  },
  {
   "cell_type": "code",
   "execution_count": 41,
   "metadata": {},
   "outputs": [
    {
     "name": "stdout",
     "output_type": "stream",
     "text": [
      "t-statistic: -8.020706944109957\n",
      "p-value: 4.103000585711178e-08\n"
     ]
    }
   ],
   "source": [
    "from scipy.stats import ttest_rel\n",
    "t_stat, p_value = ttest_rel(*series_list)\n",
    "print \"t-statistic:\", t_stat\n",
    "print \"p-value:\", p_value"
   ]
  },
  {
   "cell_type": "markdown",
   "metadata": {},
   "source": [
    "The p-value is very small (p = 4.10e-08), which is much less than the $\\alpha = 0.05$ needed for 95% confidence, indicating that the result is statistically significant. The t-statistic is negative (t-stat = -8.02), which indicates that the mean time for participants to name the text color for congruent text color and color words is less than the mean time for participants to name incongruent text color and color word."
   ]
  },
  {
   "cell_type": "markdown",
   "metadata": {},
   "source": [
    "#### (6) Optional: What do you think is responsible for the effects observed? Can you think of an alternative or similar task that would result in a similar effect? Some research about the problem will be helpful for thinking about these two questions!"
   ]
  },
  {
   "cell_type": "markdown",
   "metadata": {},
   "source": [
    "The effect is due to interference between cognitive tasks. There have been many studies that show similar results using different tasks. For example, Hentschel added words to line drawings and had participants name the picture.$^{1}$"
   ]
  },
  {
   "cell_type": "markdown",
   "metadata": {},
   "source": [
    "$^{1}$ MacLeod, Colin M. \"Haifa Century of Research on the Stroop Effect: An Integrative Review\" <i>Psychological Bulletin</i>. vol. 109, no. 2, 1991, pp. 163-203."
   ]
  }
 ],
 "metadata": {
  "kernelspec": {
   "display_name": "Python 2",
   "language": "python",
   "name": "python2"
  },
  "language_info": {
   "codemirror_mode": {
    "name": "ipython",
    "version": 2
   },
   "file_extension": ".py",
   "mimetype": "text/x-python",
   "name": "python",
   "nbconvert_exporter": "python",
   "pygments_lexer": "ipython2",
   "version": "2.7.14"
  }
 },
 "nbformat": 4,
 "nbformat_minor": 2
}
