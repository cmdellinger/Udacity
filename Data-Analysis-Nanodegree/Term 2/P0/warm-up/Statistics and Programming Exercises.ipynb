{
 "cells": [
  {
   "cell_type": "markdown",
   "metadata": {},
   "source": [
    "# Statistics and Programming Exercises"
   ]
  },
  {
   "cell_type": "markdown",
   "metadata": {},
   "source": [
    "## Socks from a Box\n",
    "Let's say we have a box filled with socks: three pairs each of white, gray, and black socks (i.e. six socks of each of the three colors, for eighteen socks in total). In each of the questions below, we draw socks randomly from the box without replacement. Note that a pair of matching socks is simply two of the same color: each sock will fit a foot of either handedness – uh, footedness. (Socks do not have chirality, for those into mathematical terms.)"
   ]
  },
  {
   "cell_type": "markdown",
   "metadata": {},
   "source": [
    "Input your answers as fractions or as decimals with at least four digits of precision."
   ]
  },
  {
   "cell_type": "markdown",
   "metadata": {},
   "source": [
    "Let's say we draw two socks from the box. What is the probability that we draw a matching pair?"
   ]
  },
  {
   "cell_type": "code",
   "execution_count": 2,
   "metadata": {},
   "outputs": [],
   "source": [
    "white, grey, black = 6,6,6\n",
    "total = sum([white, grey, black])"
   ]
  },
  {
   "cell_type": "code",
   "execution_count": 30,
   "metadata": {},
   "outputs": [],
   "source": [
    "probability_pair_one_color = white/float(total) * (white-1)/(total-1)"
   ]
  },
  {
   "cell_type": "code",
   "execution_count": 31,
   "metadata": {},
   "outputs": [],
   "source": [
    "probability_pair_any_color = probability_pair_one_color * 3"
   ]
  },
  {
   "cell_type": "code",
   "execution_count": 32,
   "metadata": {},
   "outputs": [
    {
     "data": {
      "text/plain": [
       "0.2941"
      ]
     },
     "execution_count": 32,
     "metadata": {},
     "output_type": "execute_result"
    }
   ],
   "source": [
    "round(probability_pair_any_color,4)"
   ]
  },
  {
   "cell_type": "code",
   "execution_count": 37,
   "metadata": {},
   "outputs": [
    {
     "name": "stdout",
     "output_type": "stream",
     "text": [
      "probability for a matching pair of one color:\n",
      "5/51\n",
      "probability for a matching pair of any color:\n",
      "15/51\n"
     ]
    }
   ],
   "source": [
    "numerator = 6*5\n",
    "denominator = 18*17\n",
    "gcm = gcd(numerator, denominator)\n",
    "#print str(numerator/gcm) + \"/\" + str(denominator/gcm)\n",
    "numerator /= gcm\n",
    "denominator /= gcm\n",
    "print \"probability for a matching pair of one color:\"\n",
    "print str(numerator) + \"/\" + str(denominator)\n",
    "print \"probability for a matching pair of any color:\"\n",
    "print str(numerator*3) + \"/\" + str(denominator)"
   ]
  },
  {
   "cell_type": "code",
   "execution_count": 38,
   "metadata": {},
   "outputs": [
    {
     "data": {
      "text/plain": [
       "0.2941"
      ]
     },
     "execution_count": 38,
     "metadata": {},
     "output_type": "execute_result"
    }
   ],
   "source": [
    "round(15/51.,4)"
   ]
  },
  {
   "cell_type": "code",
   "execution_count": 55,
   "metadata": {},
   "outputs": [],
   "source": [
    "def combinations_without_repetition(n,r):\n",
    "    \"\"\"choose r from n\"\"\"\n",
    "    from math import factorial\n",
    "    return float(factorial(n))/(factorial(r)*factorial(n-r))"
   ]
  },
  {
   "cell_type": "code",
   "execution_count": 56,
   "metadata": {},
   "outputs": [],
   "source": [
    "def comb_wo_rep(n,r):\n",
    "    return combinations_without_repetition(n,r)"
   ]
  },
  {
   "cell_type": "code",
   "execution_count": 57,
   "metadata": {},
   "outputs": [
    {
     "data": {
      "text/plain": [
       "0.09803921568627451"
      ]
     },
     "execution_count": 57,
     "metadata": {},
     "output_type": "execute_result"
    }
   ],
   "source": [
    "comb_wo_rep(6,2)/comb_wo_rep(18,2)"
   ]
  },
  {
   "cell_type": "code",
   "execution_count": 58,
   "metadata": {},
   "outputs": [
    {
     "data": {
      "text/plain": [
       "0.024509803921568627"
      ]
     },
     "execution_count": 58,
     "metadata": {},
     "output_type": "execute_result"
    }
   ],
   "source": [
    "comb_wo_rep(6,3)/comb_wo_rep(18,3)"
   ]
  },
  {
   "cell_type": "code",
   "execution_count": 59,
   "metadata": {},
   "outputs": [
    {
     "data": {
      "text/plain": [
       "20.0"
      ]
     },
     "execution_count": 59,
     "metadata": {},
     "output_type": "execute_result"
    }
   ],
   "source": [
    "comb_wo_rep(6,3)"
   ]
  },
  {
   "cell_type": "code",
   "execution_count": 60,
   "metadata": {},
   "outputs": [
    {
     "data": {
      "text/plain": [
       "816.0"
      ]
     },
     "execution_count": 60,
     "metadata": {},
     "output_type": "execute_result"
    }
   ],
   "source": [
    "comb_wo_rep(18,3)"
   ]
  },
  {
   "cell_type": "code",
   "execution_count": 61,
   "metadata": {},
   "outputs": [
    {
     "data": {
      "text/plain": [
       "12"
      ]
     },
     "execution_count": 61,
     "metadata": {},
     "output_type": "execute_result"
    }
   ],
   "source": [
    "gcd(20*3, 816)"
   ]
  },
  {
   "cell_type": "code",
   "execution_count": 62,
   "metadata": {},
   "outputs": [
    {
     "data": {
      "text/plain": [
       "5"
      ]
     },
     "execution_count": 62,
     "metadata": {},
     "output_type": "execute_result"
    }
   ],
   "source": [
    "20*3/12"
   ]
  },
  {
   "cell_type": "code",
   "execution_count": 63,
   "metadata": {},
   "outputs": [
    {
     "data": {
      "text/plain": [
       "68"
      ]
     },
     "execution_count": 63,
     "metadata": {},
     "output_type": "execute_result"
    }
   ],
   "source": [
    "816/12"
   ]
  },
  {
   "cell_type": "code",
   "execution_count": 83,
   "metadata": {},
   "outputs": [
    {
     "name": "stdout",
     "output_type": "stream",
     "text": [
      "0.0245098039216\n"
     ]
    }
   ],
   "source": [
    "probability_pair_one_color = white/float(total) * (white-1)/(total-1) * (white-2)/(total-2)\n",
    "print probability_pair_one_color"
   ]
  },
  {
   "cell_type": "code",
   "execution_count": 84,
   "metadata": {},
   "outputs": [
    {
     "name": "stdout",
     "output_type": "stream",
     "text": [
      "0.0735294117647\n"
     ]
    }
   ],
   "source": [
    "probability_pair_any_color = probability_pair_one_color * 3\n",
    "print probability_pair_any_color"
   ]
  },
  {
   "cell_type": "code",
   "execution_count": 66,
   "metadata": {},
   "outputs": [
    {
     "data": {
      "text/plain": [
       "0.0735"
      ]
     },
     "execution_count": 66,
     "metadata": {},
     "output_type": "execute_result"
    }
   ],
   "source": [
    "round(probability_pair_any_color,4)"
   ]
  },
  {
   "cell_type": "code",
   "execution_count": 67,
   "metadata": {},
   "outputs": [
    {
     "data": {
      "text/plain": [
       "0.07352941176470588"
      ]
     },
     "execution_count": 67,
     "metadata": {},
     "output_type": "execute_result"
    }
   ],
   "source": [
    "5/68."
   ]
  },
  {
   "cell_type": "code",
   "execution_count": 93,
   "metadata": {},
   "outputs": [
    {
     "name": "stdout",
     "output_type": "stream",
     "text": [
      "unreduced fraction:\n",
      "600/816\n",
      "reduced fraction:\n",
      "25/34\n"
     ]
    }
   ],
   "source": [
    "from itertools import combinations, ifilter\n",
    "from fractions import gcd\n",
    "def has_pair(tuple_x3):\n",
    "    x, y, z = tuple_x3\n",
    "    return (x == y or y == z or x == z)\n",
    "\n",
    "choices = 'WGB'*6\n",
    "\n",
    "numerator = sum((x == y or y == z or x == z) for x, y, z in combinations(choices, 3))\n",
    "sum(has_pair(combination) for combination in combinations(choices, 3))\n",
    "denominator = len(list(combinations(choices, 3)))\n",
    "print \"unreduced fraction:\\n\", str(numerator) + \"/\" + str(denominator)\n",
    "gcm = gcd(numerator, denominator)\n",
    "numerator /= gcm\n",
    "denominator /= gcm\n",
    "print \"reduced fraction:\\n\", str(numerator) + \"/\" + str(denominator)"
   ]
  },
  {
   "cell_type": "code",
   "execution_count": 81,
   "metadata": {},
   "outputs": [
    {
     "data": {
      "text/plain": [
       "9"
      ]
     },
     "execution_count": 81,
     "metadata": {},
     "output_type": "execute_result"
    }
   ],
   "source": [
    "gcd(45, 153)"
   ]
  },
  {
   "cell_type": "code",
   "execution_count": 82,
   "metadata": {},
   "outputs": [
    {
     "name": "stdout",
     "output_type": "stream",
     "text": [
      "5 17\n"
     ]
    }
   ],
   "source": [
    "print 45/9, 153/9"
   ]
  },
  {
   "cell_type": "code",
   "execution_count": 96,
   "metadata": {},
   "outputs": [
    {
     "name": "stdout",
     "output_type": "stream",
     "text": [
      "816\n",
      "600\n",
      "600\n",
      "600\n",
      "600\n"
     ]
    }
   ],
   "source": [
    "choices = 'WGB'*6\n",
    "print sum(1 for combination in combinations(choices, 3))\n",
    "print sum((x == y or y == z or x == z) for x, y, z in combinations(choices, 3))\n",
    "print len(list(ifilter(has_pair, combinations(choices, 3))))\n",
    "print sum(has_pair(combination) for combination in combinations(choices, 3))\n",
    "print sum(len(set(combination)) != len(combination) for combination in combinations(choices, 3))"
   ]
  },
  {
   "cell_type": "markdown",
   "metadata": {},
   "source": [
    "## Candy Conundrum\n",
    "I have two bowls of candy. One is supposed to be filled with candy-covered chocolates, the other filled with fruit-flavored candies with candy shells. Unfortunately, someone has nefariously mixed up the contents of the two bowls, mixing a portion of one bowl into the second, and vice versa. Even worse, the candies are visually indistinguishable, and can only be sorted out by taste.\n",
    "\n",
    "I know that one of the bowls (A) has candies in the following proportions: A ~ {2/3 chocolate, 1/3 fruity}, while the other bowl (B) has candies in the following proportion: B ~ {1/4 chocolate, 3/4 fruity}. Assume for the questions below that both bowls are large enough that small samples will not have a practical effect on the distribution of candies."
   ]
  },
  {
   "cell_type": "markdown",
   "metadata": {},
   "source": [
    "Input your answers as fractions or as decimals with at least four digits of precision."
   ]
  },
  {
   "cell_type": "markdown",
   "metadata": {},
   "source": [
    "I select a bowl at random and choose a random candy. It's a chocolate candy! What is the probability that I've picked up bowl A (the one weighted towards chocolates)?"
   ]
  },
  {
   "cell_type": "markdown",
   "metadata": {},
   "source": [
    "$P(A|C) = P(A \\cap C)/P(C)$"
   ]
  },
  {
   "cell_type": "code",
   "execution_count": 112,
   "metadata": {},
   "outputs": [
    {
     "name": "stdout",
     "output_type": "stream",
     "text": [
      "0.727272727273\n"
     ]
    }
   ],
   "source": [
    "p_c = 0.5 * 2/3 + 0.5 * 1/4\n",
    "p_auc = 0.5 * 2/3\n",
    "p_ac = p_auc/p_c\n",
    "print p_ac"
   ]
  },
  {
   "cell_type": "markdown",
   "metadata": {},
   "source": [
    "Continuing with the same bowl as before, I select two more candies. They are both fruity candies. What is the probability that I've picked up bowl A (the one weighted towards chocolates) now? (To clarify, there are three candies drawn in all: one chocolate and two fruity.)"
   ]
  },
  {
   "cell_type": "markdown",
   "metadata": {},
   "source": [
    "$P(A \\mid CFF) = P(A \\cap CFF)/P(CFF)$"
   ]
  },
  {
   "cell_type": "code",
   "execution_count": 116,
   "metadata": {},
   "outputs": [
    {
     "name": "stdout",
     "output_type": "stream",
     "text": [
      "0.345013477089\n"
     ]
    }
   ],
   "source": [
    "p_aucff = 0.5 * 2/3 * 1/3 * 1/3\n",
    "p_cff = 0.5 * 2/3 * 1/3 * 1/3 \\\n",
    "      + 0.5 * 1/4 * 3/4 * 3/4\n",
    "p_acff = p_aucff / p_cff\n",
    "print p_acff"
   ]
  },
  {
   "cell_type": "markdown",
   "metadata": {},
   "source": [
    "## Football Statistics\n",
    "Click this link to download a dataset in csv format that you will use to answer the questions on this page. This data file contains a table of results of the 2015-16 Premier League season for English association football. All participating teams are represented in the dataset."
   ]
  },
  {
   "cell_type": "code",
   "execution_count": 20,
   "metadata": {},
   "outputs": [],
   "source": [
    "# import pandas\n",
    "import pandas as pd"
   ]
  },
  {
   "cell_type": "code",
   "execution_count": 21,
   "metadata": {},
   "outputs": [],
   "source": [
    "# load data set\n",
    "filename = '2015-16-premier-league.csv'\n",
    "premier_league_df = pd.read_csv(filename)"
   ]
  },
  {
   "cell_type": "code",
   "execution_count": 22,
   "metadata": {},
   "outputs": [
    {
     "data": {
      "text/html": [
       "<div>\n",
       "<style scoped>\n",
       "    .dataframe tbody tr th:only-of-type {\n",
       "        vertical-align: middle;\n",
       "    }\n",
       "\n",
       "    .dataframe tbody tr th {\n",
       "        vertical-align: top;\n",
       "    }\n",
       "\n",
       "    .dataframe thead th {\n",
       "        text-align: right;\n",
       "    }\n",
       "</style>\n",
       "<table border=\"1\" class=\"dataframe\">\n",
       "  <thead>\n",
       "    <tr style=\"text-align: right;\">\n",
       "      <th></th>\n",
       "      <th>Team Name</th>\n",
       "      <th>Wins</th>\n",
       "      <th>Draws</th>\n",
       "      <th>Losses</th>\n",
       "    </tr>\n",
       "  </thead>\n",
       "  <tbody>\n",
       "    <tr>\n",
       "      <th>0</th>\n",
       "      <td>Leicester City</td>\n",
       "      <td>23</td>\n",
       "      <td>12</td>\n",
       "      <td>3</td>\n",
       "    </tr>\n",
       "    <tr>\n",
       "      <th>1</th>\n",
       "      <td>Arsenal</td>\n",
       "      <td>20</td>\n",
       "      <td>11</td>\n",
       "      <td>7</td>\n",
       "    </tr>\n",
       "    <tr>\n",
       "      <th>2</th>\n",
       "      <td>Tottenham Hotspur</td>\n",
       "      <td>19</td>\n",
       "      <td>13</td>\n",
       "      <td>6</td>\n",
       "    </tr>\n",
       "  </tbody>\n",
       "</table>\n",
       "</div>"
      ],
      "text/plain": [
       "           Team Name  Wins  Draws  Losses\n",
       "0     Leicester City    23     12       3\n",
       "1            Arsenal    20     11       7\n",
       "2  Tottenham Hotspur    19     13       6"
      ]
     },
     "execution_count": 22,
     "metadata": {},
     "output_type": "execute_result"
    }
   ],
   "source": [
    "# check table layout like column names, etc.\n",
    "premier_league_df.head(3)"
   ]
  },
  {
   "cell_type": "code",
   "execution_count": 23,
   "metadata": {},
   "outputs": [
    {
     "data": {
      "text/plain": [
       "count    20.000000\n",
       "mean     13.650000\n",
       "std       4.944694\n",
       "min       3.000000\n",
       "25%      10.750000\n",
       "50%      12.000000\n",
       "75%      18.250000\n",
       "max      23.000000\n",
       "Name: Wins, dtype: float64"
      ]
     },
     "execution_count": 23,
     "metadata": {},
     "output_type": "execute_result"
    }
   ],
   "source": [
    "# get summary statistics for 'Wins' column\n",
    "premier_league_df['Wins'].describe()"
   ]
  },
  {
   "cell_type": "code",
   "execution_count": 24,
   "metadata": {},
   "outputs": [],
   "source": [
    "# most questions can be answered using the summary stats \n",
    "# with the exception of standard deviation from the describe\n",
    "# method, but the information was pulled individually for\n",
    "# practice."
   ]
  },
  {
   "cell_type": "markdown",
   "metadata": {},
   "source": [
    "What is the mean number of wins recorded by teams? (Wins can be found as the second column of the table, or first numeric value in each row.)\n",
    "\n",
    "Input your answer as a fraction or as a decimal with at least four digits of precision."
   ]
  },
  {
   "cell_type": "code",
   "execution_count": 25,
   "metadata": {},
   "outputs": [
    {
     "data": {
      "text/plain": [
       "13.65"
      ]
     },
     "execution_count": 25,
     "metadata": {},
     "output_type": "execute_result"
    }
   ],
   "source": [
    "premier_league_df['Wins'].mean()"
   ]
  },
  {
   "cell_type": "markdown",
   "metadata": {},
   "source": [
    "What is the median number of wins?"
   ]
  },
  {
   "cell_type": "code",
   "execution_count": 26,
   "metadata": {},
   "outputs": [
    {
     "data": {
      "text/plain": [
       "12.0"
      ]
     },
     "execution_count": 26,
     "metadata": {},
     "output_type": "execute_result"
    }
   ],
   "source": [
    "premier_league_df['Wins'].median()"
   ]
  },
  {
   "cell_type": "markdown",
   "metadata": {},
   "source": [
    "What is the standard deviation for the number of wins?\n",
    "\n",
    "Input your answer as a fraction or as a decimal with at least four digits of precision."
   ]
  },
  {
   "cell_type": "code",
   "execution_count": 27,
   "metadata": {},
   "outputs": [
    {
     "data": {
      "text/plain": [
       "4.819491674440366"
      ]
     },
     "execution_count": 27,
     "metadata": {},
     "output_type": "execute_result"
    }
   ],
   "source": [
    "# data is for entire population, so ddof = 0 needs to be set to yield population std dev\n",
    "premier_league_df['Wins'].std(ddof=0)"
   ]
  },
  {
   "cell_type": "markdown",
   "metadata": {},
   "source": [
    "What is the interquartile range for the number of wins?"
   ]
  },
  {
   "cell_type": "code",
   "execution_count": 29,
   "metadata": {},
   "outputs": [
    {
     "name": "stdout",
     "output_type": "stream",
     "text": [
      "Q1: 10.75\n",
      "Q3: 18.25\n"
     ]
    }
   ],
   "source": [
    "Q1 = premier_league_df['Wins'].quantile(0.25)\n",
    "Q3 = premier_league_df['Wins'].quantile(0.75)\n",
    "print \"Q1:\", Q1\n",
    "print \"Q3:\", Q3"
   ]
  },
  {
   "cell_type": "code",
   "execution_count": 31,
   "metadata": {},
   "outputs": [
    {
     "name": "stdout",
     "output_type": "stream",
     "text": [
      "interquartile range: 7.5\n"
     ]
    }
   ],
   "source": [
    "IQR = Q3-Q1\n",
    "print \"interquartile range:\", IQR"
   ]
  },
  {
   "cell_type": "markdown",
   "metadata": {},
   "source": [
    "## Running a Paired T-test in a Spreadsheet\n",
    "To practice running a t-test, open up the Super Hero Data Matched at the end of the page. In that data set, you'll see five superheroes and five super villains. Each super hero is matched with the corresponding rival.\n",
    "\n",
    "On average, the villains appear to be smarter and the heroes appear to be stronger. A t-test can tell us whether the differences in intelligence and strength are statistically significant.\n",
    "\n",
    "Try it on your own. If you get stuck, take a look at the Super Hero Data Matched Solution file."
   ]
  },
  {
   "cell_type": "code",
   "execution_count": 32,
   "metadata": {},
   "outputs": [],
   "source": [
    "# import pandas\n",
    "import pandas as pd"
   ]
  },
  {
   "cell_type": "code",
   "execution_count": 33,
   "metadata": {},
   "outputs": [],
   "source": [
    "# load data set\n",
    "filename = 'superherodata.csv'\n",
    "superhero_df = pd.read_csv(filename)"
   ]
  },
  {
   "cell_type": "code",
   "execution_count": 34,
   "metadata": {},
   "outputs": [
    {
     "data": {
      "text/html": [
       "<div>\n",
       "<style scoped>\n",
       "    .dataframe tbody tr th:only-of-type {\n",
       "        vertical-align: middle;\n",
       "    }\n",
       "\n",
       "    .dataframe tbody tr th {\n",
       "        vertical-align: top;\n",
       "    }\n",
       "\n",
       "    .dataframe thead th {\n",
       "        text-align: right;\n",
       "    }\n",
       "</style>\n",
       "<table border=\"1\" class=\"dataframe\">\n",
       "  <thead>\n",
       "    <tr style=\"text-align: right;\">\n",
       "      <th></th>\n",
       "      <th>Name</th>\n",
       "      <th>Alignment</th>\n",
       "      <th>Intelligence</th>\n",
       "      <th>Strength</th>\n",
       "      <th>Unnamed: 4</th>\n",
       "      <th>Unnamed: 5</th>\n",
       "      <th>Unnamed: 6</th>\n",
       "      <th>Unnamed: 7</th>\n",
       "      <th>Unnamed: 8</th>\n",
       "      <th>Unnamed: 9</th>\n",
       "      <th>Unnamed: 10</th>\n",
       "    </tr>\n",
       "  </thead>\n",
       "  <tbody>\n",
       "    <tr>\n",
       "      <th>0</th>\n",
       "      <td>Iron Man</td>\n",
       "      <td>good</td>\n",
       "      <td>100.0</td>\n",
       "      <td>85.0</td>\n",
       "      <td>NaN</td>\n",
       "      <td>NaN</td>\n",
       "      <td>NaN</td>\n",
       "      <td>NaN</td>\n",
       "      <td>NaN</td>\n",
       "      <td>NaN</td>\n",
       "      <td>NaN</td>\n",
       "    </tr>\n",
       "    <tr>\n",
       "      <th>1</th>\n",
       "      <td>Captain America</td>\n",
       "      <td>good</td>\n",
       "      <td>63.0</td>\n",
       "      <td>65.0</td>\n",
       "      <td>NaN</td>\n",
       "      <td>NaN</td>\n",
       "      <td>NaN</td>\n",
       "      <td>NaN</td>\n",
       "      <td>NaN</td>\n",
       "      <td>NaN</td>\n",
       "      <td>NaN</td>\n",
       "    </tr>\n",
       "    <tr>\n",
       "      <th>2</th>\n",
       "      <td>Hulk</td>\n",
       "      <td>good</td>\n",
       "      <td>88.0</td>\n",
       "      <td>100.0</td>\n",
       "      <td>NaN</td>\n",
       "      <td>NaN</td>\n",
       "      <td>NaN</td>\n",
       "      <td>NaN</td>\n",
       "      <td>NaN</td>\n",
       "      <td>NaN</td>\n",
       "      <td>NaN</td>\n",
       "    </tr>\n",
       "  </tbody>\n",
       "</table>\n",
       "</div>"
      ],
      "text/plain": [
       "              Name Alignment  Intelligence  Strength  Unnamed: 4  Unnamed: 5  \\\n",
       "0         Iron Man      good         100.0      85.0         NaN         NaN   \n",
       "1  Captain America      good          63.0      65.0         NaN         NaN   \n",
       "2             Hulk      good          88.0     100.0         NaN         NaN   \n",
       "\n",
       "   Unnamed: 6  Unnamed: 7  Unnamed: 8  Unnamed: 9  Unnamed: 10  \n",
       "0         NaN         NaN         NaN         NaN          NaN  \n",
       "1         NaN         NaN         NaN         NaN          NaN  \n",
       "2         NaN         NaN         NaN         NaN          NaN  "
      ]
     },
     "execution_count": 34,
     "metadata": {},
     "output_type": "execute_result"
    }
   ],
   "source": [
    "superhero_df.head(3)"
   ]
  },
  {
   "cell_type": "code",
   "execution_count": 39,
   "metadata": {},
   "outputs": [],
   "source": [
    "good_guys = superhero_df[superhero_df['Alignment'] == 'good']\n",
    "bad_guys = superhero_df[superhero_df['Alignment'] == 'bad']"
   ]
  },
  {
   "cell_type": "code",
   "execution_count": 40,
   "metadata": {},
   "outputs": [
    {
     "name": "stdout",
     "output_type": "stream",
     "text": [
      "t = -1.1205095545912165\n",
      "p = 0.5773700639460689\n"
     ]
    }
   ],
   "source": [
    "from scipy.stats import stats\n",
    "\n",
    "t, p = stats.ttest_ind(good_guys['Intelligence'],bad_guys['Intelligence'])\n",
    "print(\"t = \" + str(t))\n",
    "print(\"p = \" + str(2*p))"
   ]
  },
  {
   "cell_type": "code",
   "execution_count": 41,
   "metadata": {},
   "outputs": [
    {
     "name": "stdout",
     "output_type": "stream",
     "text": [
      "t = 1.1147174588142275\n",
      "p = 0.582088817603504\n"
     ]
    }
   ],
   "source": [
    "t, p = stats.ttest_ind(good_guys['Strength'],bad_guys['Strength'])\n",
    "print(\"t = \" + str(t))\n",
    "print(\"p = \" + str(2*p))"
   ]
  },
  {
   "cell_type": "markdown",
   "metadata": {},
   "source": [
    "## Practice with T-Tests\n",
    "Joey and Nathaly both work as managers in the customer service department for a company. Joey and Nathaly have very different styles of managing their employees, and your boss is interested in knowing if one style leads to faster service times than the other.\n",
    "\n",
    "Your boss had a time study commissioned to shadow various customer service representatives at the company and record how long it took them to do several steps in their daily workflow. Because both Joey and Nathaly manage fairly large teams, only a handful of individuals were shadowed on each team. Use the time study data to determine if there is evidence that manager style affects speed of service.\n",
    "\n",
    "### Jupyter Notebook\n",
    "The data is preloaded into the Jupyter Notebook below. Complete your analysis in the notebook using the Customer Support Time Study.csv file. Use a two-tailed, unequal variance t-test for your analysis. Once you've run the test, answer the quizzes below. If you're having trouble arriving at the right answer, take a look at the solution file in the notebook by clicking File -> Open within the Jupyter notebook."
   ]
  },
  {
   "cell_type": "code",
   "execution_count": 44,
   "metadata": {},
   "outputs": [],
   "source": [
    "# Import packages\n",
    "import pandas as pd\n",
    "import scipy.stats as stats"
   ]
  },
  {
   "cell_type": "code",
   "execution_count": 45,
   "metadata": {},
   "outputs": [],
   "source": [
    "# load data set\n",
    "filename = 'Customer Support Time Study.csv'\n",
    "time_study_df = pd.read_csv(filename)"
   ]
  },
  {
   "cell_type": "code",
   "execution_count": 46,
   "metadata": {},
   "outputs": [
    {
     "data": {
      "text/html": [
       "<div>\n",
       "<style scoped>\n",
       "    .dataframe tbody tr th:only-of-type {\n",
       "        vertical-align: middle;\n",
       "    }\n",
       "\n",
       "    .dataframe tbody tr th {\n",
       "        vertical-align: top;\n",
       "    }\n",
       "\n",
       "    .dataframe thead th {\n",
       "        text-align: right;\n",
       "    }\n",
       "</style>\n",
       "<table border=\"1\" class=\"dataframe\">\n",
       "  <thead>\n",
       "    <tr style=\"text-align: right;\">\n",
       "      <th></th>\n",
       "      <th>Nathaly</th>\n",
       "      <th>Joey</th>\n",
       "    </tr>\n",
       "  </thead>\n",
       "  <tbody>\n",
       "    <tr>\n",
       "      <th>0</th>\n",
       "      <td>15.06</td>\n",
       "      <td>19.53</td>\n",
       "    </tr>\n",
       "    <tr>\n",
       "      <th>1</th>\n",
       "      <td>15.43</td>\n",
       "      <td>17.41</td>\n",
       "    </tr>\n",
       "    <tr>\n",
       "      <th>2</th>\n",
       "      <td>15.91</td>\n",
       "      <td>14.30</td>\n",
       "    </tr>\n",
       "  </tbody>\n",
       "</table>\n",
       "</div>"
      ],
      "text/plain": [
       "   Nathaly   Joey\n",
       "0    15.06  19.53\n",
       "1    15.43  17.41\n",
       "2    15.91  14.30"
      ]
     },
     "execution_count": 46,
     "metadata": {},
     "output_type": "execute_result"
    }
   ],
   "source": [
    "# check out data formatting\n",
    "time_study_df.head(3)"
   ]
  },
  {
   "cell_type": "code",
   "execution_count": 47,
   "metadata": {},
   "outputs": [],
   "source": [
    "# Write you code here to perform the t-test\n",
    "\n",
    "# name panda series for easy reference in t-test\n",
    "a = time_study_df['Nathaly']\n",
    "b = time_study_df['Joey']"
   ]
  },
  {
   "cell_type": "code",
   "execution_count": 48,
   "metadata": {},
   "outputs": [
    {
     "name": "stdout",
     "output_type": "stream",
     "text": [
      "Unqual variance\n",
      "t = -2.557\n",
      "p = 0.0231\n"
     ]
    }
   ],
   "source": [
    "# unequal variance\n",
    "print(\"Unqual variance\")\n",
    "t, p = stats.ttest_ind(a,b,equal_var=False)\n",
    "print(\"t = \" + str(round(t,4)))\n",
    "print(\"p = \" + str(round(p,4)))"
   ]
  },
  {
   "cell_type": "code",
   "execution_count": 49,
   "metadata": {},
   "outputs": [
    {
     "name": "stdout",
     "output_type": "stream",
     "text": [
      "Equal variance\n",
      "t = -2.557\n",
      "p = 0.0198\n"
     ]
    }
   ],
   "source": [
    "# equal vaiance\n",
    "print(\"Equal variance\")\n",
    "t, p = stats.ttest_ind(a,b,equal_var=True)\n",
    "print(\"t = \" + str(round(t,4)))\n",
    "print(\"p = \" + str(round(p,4)))"
   ]
  },
  {
   "cell_type": "markdown",
   "metadata": {},
   "source": [
    "What is the t-statistic that results from a two-tailed, equal variance t-test of the average time of workers on Joey's team vs. Nathaly's team? Give your answer to four decimal places."
   ]
  },
  {
   "cell_type": "code",
   "execution_count": 50,
   "metadata": {},
   "outputs": [],
   "source": [
    "# -2.5570"
   ]
  },
  {
   "cell_type": "markdown",
   "metadata": {},
   "source": [
    "What is the p-value that results from of a two-tailed, equal variance t-test of the average time of workers on Joey's team vs. Nathaly's team? Found your answer to four decimal places."
   ]
  },
  {
   "cell_type": "code",
   "execution_count": 51,
   "metadata": {},
   "outputs": [],
   "source": [
    "# 0.0198"
   ]
  },
  {
   "cell_type": "markdown",
   "metadata": {},
   "source": [
    "Based on the results above, would you reject or fail to reject the null hypothesis that Joey's management style does not have an effect on worker speed? Use a 5% level for statistical significance."
   ]
  },
  {
   "cell_type": "code",
   "execution_count": 52,
   "metadata": {},
   "outputs": [],
   "source": [
    "# reject null hypothesis that there is no difference. t-stat shows difference in mean with p value < 0.05."
   ]
  },
  {
   "cell_type": "markdown",
   "metadata": {},
   "source": [
    "## Most frequent word"
   ]
  },
  {
   "cell_type": "markdown",
   "metadata": {},
   "source": [
    "Programming is an essential part of this Nanodegree program.\n",
    "\n",
    "Complete the most_frequent() function below so that it returns the most frequently occurring word in a given string.\n",
    "\n",
    "For example, if the input s is s = 'I scream you scream we all scream for ice cream', the result should be scream as it is the most frequent word in this sentence.\n",
    "\n",
    "If there is a tie for the most common word, return only one result, the first (tied) word in alphabetical order.\n",
    "\n",
    "NOTE: This quiz will be evaluated in Python 2.7."
   ]
  },
  {
   "cell_type": "code",
   "execution_count": 100,
   "metadata": {},
   "outputs": [
    {
     "name": "stdout",
     "output_type": "stream",
     "text": [
      "cat\n",
      "butter\n"
     ]
    }
   ],
   "source": [
    "\"\"\"Quiz: Most Frequent Word\"\"\"\n",
    "\n",
    "def most_frequent(s):\n",
    "    \"\"\"Return the most frequently occuring word in s.\"\"\"\n",
    "    \n",
    "    # HINT: Use the built-in split() function to transform the string s into an\n",
    "    #       array\n",
    "    \n",
    "    # HINT: Sort the new array by using the built-in sorted() function or\n",
    "    #       .sort() list method\n",
    "    \n",
    "    # HINT: Iterate through the array and count each occurance of every word\n",
    "    #       using the .count() list method\n",
    "    \n",
    "    # HINT: Find the number of times the most common word appears using max()\n",
    "    \n",
    "    # HINT: Locate the index of the most frequently seen word\n",
    "    \n",
    "    # HINT: Return the most frequent word. Remember that if there is a tie,\n",
    "    #       return the first (tied) word in alphabetical order.\n",
    "    words = sorted(s.split())\n",
    "    max_count = 0\n",
    "    max_word = ''\n",
    "    for word in set(words):\n",
    "        word_count = words.count(word)\n",
    "        if word_count > max_count:\n",
    "            max_word = word\n",
    "            max_count = word_count\n",
    "    return max_word\n",
    "\n",
    "\n",
    "def test_run():\n",
    "    \"\"\"Test most_frequent() with some inputs.\"\"\"\n",
    "    print most_frequent(\"cat bat mat cat bat cat\") # output: 'cat'\n",
    "    print most_frequent(\"betty bought a bit of butter but the butter was bitter\") # output: 'butter'\n",
    "    \n",
    "\"\"\"\n",
    "if __name__ == '__main__':\n",
    "    test_run()\n",
    "\"\"\"\n",
    "test_run()"
   ]
  },
  {
   "cell_type": "code",
   "execution_count": 101,
   "metadata": {},
   "outputs": [
    {
     "name": "stdout",
     "output_type": "stream",
     "text": [
      "cat\n",
      "butter\n"
     ]
    }
   ],
   "source": [
    "# another method that reduces traversal of list elements\n",
    "# by eliminating `count` for every word\n",
    "\"\"\"Quiz: Most Frequent Word\"\"\"\n",
    "\n",
    "def most_frequent(s):\n",
    "    \"\"\"Return the most frequently occuring word in s.\"\"\"\n",
    "    # sort word list into a dictionary of word: frequency pairs\n",
    "    word_counts = {}\n",
    "    for word in s.split():\n",
    "        try:    word_counts[word] += 1\n",
    "        except: word_counts[word] = 1\n",
    "    # find the maximum frequency\n",
    "    max_count = max(word_counts.values())\n",
    "    # get all words that have max frequency\n",
    "    max_words = [word for word, qty in word_counts.items() if qty == max_count]\n",
    "    # sort list of max-frequency words and return first\n",
    "    return sorted(max_words)[0]\n",
    "\n",
    "def test_run():\n",
    "    \"\"\"Test most_frequent() with some inputs.\"\"\"\n",
    "    print most_frequent(\"cat bat mat cat bat cat\") # output: 'cat'\n",
    "    print most_frequent(\"betty bought a bit of butter but the butter was bitter\") # output: 'butter'\n",
    "    \n",
    "\"\"\"\n",
    "if __name__ == '__main__':\n",
    "    test_run()\n",
    "\"\"\"\n",
    "test_run()"
   ]
  },
  {
   "cell_type": "markdown",
   "metadata": {},
   "source": [
    "### Date Projection\n",
    "Complete the `which_date()` function below which returns the day that follows a specified time period after an initial date. Time periods can be specified in two different ways: as a number of days like \"1 day\" or \"30 days\", or as a number of weeks like \"2 weeks\" or \"12 weeks\".\n",
    "\n",
    "HINT: Python's datetime module will be very useful for solving this problem! documentation: https://docs.python.org/2/library/datetime.html\n",
    "\n",
    "NOTE: This quiz will be evaluated in Python 2."
   ]
  },
  {
   "cell_type": "code",
   "execution_count": 84,
   "metadata": {},
   "outputs": [
    {
     "name": "stdout",
     "output_type": "stream",
     "text": [
      "2016/03/16\n",
      "2017/01/11\n",
      "2015/01/24\n",
      "All tests completed.\n"
     ]
    }
   ],
   "source": [
    "def which_date(start_date,time):\n",
    "    \"\"\"\n",
    "    This function takes as input a string depicting a date in YYYY/mm/dd\n",
    "    format and a string stating a time period in the form of \"X day(s)\" or\n",
    "    \"Y week(s)\". Output should be a string in form YYYY/mm/dd with the date\n",
    "    that is X days or Y weeks after the initial date.\n",
    "    \"\"\"\n",
    "    from datetime import datetime, timedelta\n",
    "    # reformat and store `start_date` as a datetime object\n",
    "    start_date = datetime(*map(int,start_date.split('/')))\n",
    "    # split the time difference into integer and unit and\n",
    "    # format unit (add 's') so it is a valid argument in `timedelta`\n",
    "    time = time.split()\n",
    "    if time[1][-1] != 's':\n",
    "        time[1] += 's'\n",
    "    # change `time` to a `timedelta` object\n",
    "    time = timedelta(**{time[1]: int(time[0])})\n",
    "    # calculate new time and return as formatted str\n",
    "    return (start_date + time).strftime(\"%Y/%m/%d\")\n",
    "    \n",
    "def test():\n",
    "    \"\"\"\n",
    "    Here are a few tests to check if your code is working correctly! This\n",
    "    function will be run when the Test Run button is selected. Additional\n",
    "    tests that are not part of this function will also be run when the Submit\n",
    "    Answer button is selected.\n",
    "    \"\"\"\n",
    "    \"\"\"\n",
    "    assert which_date('2016/02/10','35 days') == '2016/03/16'\n",
    "    assert which_date('2016/12/21','3 weeks') == '2017/01/11'\n",
    "    assert which_date('2015/01/17','1 week') == '2015/01/24'\n",
    "    \"\"\"\n",
    "    print which_date('2016/02/10','35 days')\n",
    "    print which_date('2016/12/21','3 weeks')\n",
    "    print which_date('2015/01/17','1 week')\n",
    "    print(\"All tests completed.\")\n",
    "\n",
    "\"\"\"\n",
    "if __name__ == \"__main__\":\n",
    "    test()\n",
    "\"\"\"\n",
    "test()"
   ]
  }
 ],
 "metadata": {
  "kernelspec": {
   "display_name": "Python 2",
   "language": "python",
   "name": "python2"
  },
  "language_info": {
   "codemirror_mode": {
    "name": "ipython",
    "version": 2
   },
   "file_extension": ".py",
   "mimetype": "text/x-python",
   "name": "python",
   "nbconvert_exporter": "python",
   "pygments_lexer": "ipython2",
   "version": "2.7.14"
  }
 },
 "nbformat": 4,
 "nbformat_minor": 2
}
