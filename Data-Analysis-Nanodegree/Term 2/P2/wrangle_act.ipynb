{
 "cells": [
  {
   "cell_type": "code",
   "execution_count": 1,
   "metadata": {},
   "outputs": [],
   "source": [
    "# library imports\n",
    "import numpy as np\n",
    "import pandas as pd\n",
    "%matplotlib inline\n",
    "import matplotlib as plt\n",
    "import seaborn as sns\n",
    "import requests\n",
    "import os\n",
    "import tweepy\n",
    "import json\n",
    "from twitter_api import api # imports tweepy api with keys\n",
    "from pprint import pprint\n",
    "from shutil import move\n",
    "from datetime import datetime, time\n",
    "from collections import defaultdict"
   ]
  },
  {
   "cell_type": "markdown",
   "metadata": {},
   "source": [
    "# Table of Contents\n",
    "<a id='table_of_contents'></a>\n",
    "* [Gather](#gather)\n",
    "* [Assess](#assess)\n",
    "    + [`tweet_archive_df`](#assess-tweet_archive_df)\n",
    "    + [`image_predictions_df`](#assess-image_predictions_df)\n",
    "    + [`tweet_json_df`](#assess-tweet_json_df)\n",
    "    + [Issues](#assess-issues)\n",
    "* [Clean](#clean)\n",
    "    + [`tweet_archive_df`](#clean-tweet_archive_df)\n",
    "    + [`image_predictions_df`](#clean-image_predictions_df)\n",
    "    + [`tweet_json_df`](#clean-tweet_json_df)\n",
    "* [Merge](#merge)\n",
    "* [Store](#store)\n",
    "* [Analyze and Visualize](#analysis)\n",
    "    + [Tweet counts by month](#tweet_counts_by_month)\n",
    "    + [Tweet counts by hour of day](#tweet_counts_by_hour)\n",
    "    + [Dog ratings over time](#dog_ratings_over_time)\n",
    "    + [Average dog breed popularity](#dog_breed_ratings)\n",
    "    + [Dog stage ratings](#dog_stage_ratings)"
   ]
  },
  {
   "cell_type": "markdown",
   "metadata": {},
   "source": [
    "<a id='gather'></a>\n",
    "# Gather"
   ]
  },
  {
   "cell_type": "markdown",
   "metadata": {},
   "source": [
    "* Create and/or set directory for data files to be stored"
   ]
  },
  {
   "cell_type": "code",
   "execution_count": 2,
   "metadata": {},
   "outputs": [],
   "source": [
    "# Make directory if it doesn't already exist\n",
    "folder_name = 'project_data'\n",
    "if not os.path.exists(folder_name):\n",
    "    os.makedirs(folder_name)"
   ]
  },
  {
   "cell_type": "markdown",
   "metadata": {},
   "source": [
    "* Check for enhanced twitter archive file (provided): `twitter-archive-enhanced.csv`\n",
    "    + If doesn't exist, this file needs to be downloaded from Udacity\n",
    "    + Load data into Pandas DataFrame: `tweet_archive_df` "
   ]
  },
  {
   "cell_type": "code",
   "execution_count": 3,
   "metadata": {},
   "outputs": [],
   "source": [
    "# Check for twitter_archive_enhanced.csv\n",
    "tweet_archive_file_name = 'twitter-archive-enhanced.csv'\n",
    "tweet_archive_file_path = os.path.join(folder_name, tweet_archive_file_name)\n",
    "# if file is in the same directory as project file,\n",
    "# move it to 'project_data' folder\n",
    "if os.path.isfile(tweet_archive_file_name):\n",
    "    move(tweet_archive_file_name, tweet_archive_file_path)\n",
    "    print(\"'{}' moved to '{}'.\".format(tweet_archive_file_name, tweet_archive_file_path))\n",
    "assert os.path.isfile(tweet_archive_file_path), \\\n",
    "    \"Download 'twitter-archive-enhanced.csv' to '{}'.\".format(tweet_archive_file_path)\n",
    "# Load into DataFrame\n",
    "tweet_archive_df = pd.read_csv(tweet_archive_file_path)"
   ]
  },
  {
   "cell_type": "markdown",
   "metadata": {},
   "source": [
    "* Check for image prediction data file: `image-predictions.tsv`\n",
    "    + If it doesn't exist, download programatically from URL \n",
    "    + Load data into Pandas DataFrame: `image_predictions_df`"
   ]
  },
  {
   "cell_type": "code",
   "execution_count": 4,
   "metadata": {},
   "outputs": [],
   "source": [
    "# Check for image-predictions.tsv\n",
    "# if image-predictions.tsv doesn't exist, download programatically\n",
    "url = 'https://d17h27t6h515a5.cloudfront.net/topher/2017/August/599fd2ad_image-predictions/image-predictions.tsv'\n",
    "predictions_file_path = os.path.join(folder_name, url.split('/')[-1])\n",
    "if not os.path.isfile(predictions_file_path):\n",
    "    with open(predictions_file_path, mode = 'wb') as file:\n",
    "        file.write(requests.get(url).content)\n",
    "# Load into DataFrame\n",
    "image_predictions_df = pd.read_csv(predictions_file_path, '\\t')"
   ]
  },
  {
   "cell_type": "markdown",
   "metadata": {},
   "source": [
    "* Check for twitter json file: `tweet_json.txt`\n",
    "    + If doesn't exist, download Tweet json data using Tweepy library\n",
    "    + Load data into Pandas DataFrame: `tweet_json_df`"
   ]
  },
  {
   "cell_type": "code",
   "execution_count": 5,
   "metadata": {},
   "outputs": [
    {
     "name": "stdout",
     "output_type": "stream",
     "text": [
      "2343 tweets exist in 'project_data/tweet_json.txt'\n"
     ]
    }
   ],
   "source": [
    "text_file_name = 'tweet_json.txt'\n",
    "text_file_path = os.path.join(folder_name, text_file_name)\n",
    "\n",
    "def write_tweets(tweepy_statuses, file_path):\n",
    "    \"\"\" Append tweepy Status objects as JSON string to provided file_path \"\"\"\n",
    "    with open(text_file_path, 'a+') as file:\n",
    "        for tweepy_status in tweepy_statuses:\n",
    "            file.write(json.dumps(tweepy_status._json)+'\\n')\n",
    "            \n",
    "# list to sublist generator from:\n",
    "# https://stackoverflow.com/questions/312443/how-do-you-split-a-list-into-evenly-sized-chunks\n",
    "def chunks(l, n):\n",
    "    \"\"\"Yield successive n-sized chunks from l.\"\"\"\n",
    "    for i in range(0, len(l), n):\n",
    "        yield l[i:i + n]\n",
    "        \n",
    "def create_tweet_json_file(tweet_ids, file_path):\n",
    "    \"\"\" download and write JSON for provided tweet_ids to provided file_path\"\"\"\n",
    "    for chunk in chunks(tweet_ids, 100):\n",
    "        chunk_statuses = api.statuses_lookup(id_ = list(chunk))\n",
    "        write_tweets(chunk_statuses, file_path)\n",
    "    \n",
    "if not os.path.isfile(text_file_path):\n",
    "    tweet_ids = tweet_archive_df.tweet_id\n",
    "    create_tweet_json_file(tweet_ids, text_file_path) #first run contained 2343 JSON strings\n",
    "    print(\"Downloaded {} tweets to '{}' as JSON\".format(sum(1 for line in open(text_file_path)), text_file_path))\n",
    "else:\n",
    "    print(\"{} tweets exist in '{}'\".format(sum(1 for line in open(text_file_path)), text_file_path))\n",
    "    \n",
    "# load into DataFrame\n",
    "tweet_json_df = pd.read_json(text_file_path, lines = True)"
   ]
  },
  {
   "cell_type": "markdown",
   "metadata": {},
   "source": [
    "<a id='assess'></a>\n",
    "# Assess"
   ]
  },
  {
   "cell_type": "markdown",
   "metadata": {},
   "source": [
    "<a id='assess-tweet_archive_df'></a>\n",
    "## `tweet_archive_df`"
   ]
  },
  {
   "cell_type": "code",
   "execution_count": 6,
   "metadata": {},
   "outputs": [
    {
     "name": "stdout",
     "output_type": "stream",
     "text": [
      "<class 'pandas.core.frame.DataFrame'>\n",
      "RangeIndex: 2356 entries, 0 to 2355\n",
      "Data columns (total 17 columns):\n",
      "tweet_id                      2356 non-null int64\n",
      "in_reply_to_status_id         78 non-null float64\n",
      "in_reply_to_user_id           78 non-null float64\n",
      "timestamp                     2356 non-null object\n",
      "source                        2356 non-null object\n",
      "text                          2356 non-null object\n",
      "retweeted_status_id           181 non-null float64\n",
      "retweeted_status_user_id      181 non-null float64\n",
      "retweeted_status_timestamp    181 non-null object\n",
      "expanded_urls                 2297 non-null object\n",
      "rating_numerator              2356 non-null int64\n",
      "rating_denominator            2356 non-null int64\n",
      "name                          2356 non-null object\n",
      "doggo                         2356 non-null object\n",
      "floofer                       2356 non-null object\n",
      "pupper                        2356 non-null object\n",
      "puppo                         2356 non-null object\n",
      "dtypes: float64(4), int64(3), object(10)\n",
      "memory usage: 313.0+ KB\n"
     ]
    }
   ],
   "source": [
    "tweet_archive_df.info()"
   ]
  },
  {
   "cell_type": "markdown",
   "metadata": {},
   "source": [
    "Issues:\n",
    "* tweets archive includes retweets and replies, which create quality issues\n",
    "* datetime column `timestamp` is a `object` type (string)"
   ]
  },
  {
   "cell_type": "code",
   "execution_count": 7,
   "metadata": {},
   "outputs": [
    {
     "data": {
      "text/html": [
       "<div>\n",
       "<style scoped>\n",
       "    .dataframe tbody tr th:only-of-type {\n",
       "        vertical-align: middle;\n",
       "    }\n",
       "\n",
       "    .dataframe tbody tr th {\n",
       "        vertical-align: top;\n",
       "    }\n",
       "\n",
       "    .dataframe thead th {\n",
       "        text-align: right;\n",
       "    }\n",
       "</style>\n",
       "<table border=\"1\" class=\"dataframe\">\n",
       "  <thead>\n",
       "    <tr style=\"text-align: right;\">\n",
       "      <th></th>\n",
       "      <th>tweet_id</th>\n",
       "      <th>in_reply_to_status_id</th>\n",
       "      <th>in_reply_to_user_id</th>\n",
       "      <th>timestamp</th>\n",
       "      <th>source</th>\n",
       "      <th>text</th>\n",
       "      <th>retweeted_status_id</th>\n",
       "      <th>retweeted_status_user_id</th>\n",
       "      <th>retweeted_status_timestamp</th>\n",
       "      <th>expanded_urls</th>\n",
       "      <th>rating_numerator</th>\n",
       "      <th>rating_denominator</th>\n",
       "      <th>name</th>\n",
       "      <th>doggo</th>\n",
       "      <th>floofer</th>\n",
       "      <th>pupper</th>\n",
       "      <th>puppo</th>\n",
       "    </tr>\n",
       "  </thead>\n",
       "  <tbody>\n",
       "    <tr>\n",
       "      <th>0</th>\n",
       "      <td>892420643555336193</td>\n",
       "      <td>NaN</td>\n",
       "      <td>NaN</td>\n",
       "      <td>2017-08-01 16:23:56 +0000</td>\n",
       "      <td>&lt;a href=\"http://twitter.com/download/iphone\" r...</td>\n",
       "      <td>This is Phineas. He's a mystical boy. Only eve...</td>\n",
       "      <td>NaN</td>\n",
       "      <td>NaN</td>\n",
       "      <td>NaN</td>\n",
       "      <td>https://twitter.com/dog_rates/status/892420643...</td>\n",
       "      <td>13</td>\n",
       "      <td>10</td>\n",
       "      <td>Phineas</td>\n",
       "      <td>None</td>\n",
       "      <td>None</td>\n",
       "      <td>None</td>\n",
       "      <td>None</td>\n",
       "    </tr>\n",
       "    <tr>\n",
       "      <th>1</th>\n",
       "      <td>892177421306343426</td>\n",
       "      <td>NaN</td>\n",
       "      <td>NaN</td>\n",
       "      <td>2017-08-01 00:17:27 +0000</td>\n",
       "      <td>&lt;a href=\"http://twitter.com/download/iphone\" r...</td>\n",
       "      <td>This is Tilly. She's just checking pup on you....</td>\n",
       "      <td>NaN</td>\n",
       "      <td>NaN</td>\n",
       "      <td>NaN</td>\n",
       "      <td>https://twitter.com/dog_rates/status/892177421...</td>\n",
       "      <td>13</td>\n",
       "      <td>10</td>\n",
       "      <td>Tilly</td>\n",
       "      <td>None</td>\n",
       "      <td>None</td>\n",
       "      <td>None</td>\n",
       "      <td>None</td>\n",
       "    </tr>\n",
       "    <tr>\n",
       "      <th>2</th>\n",
       "      <td>891815181378084864</td>\n",
       "      <td>NaN</td>\n",
       "      <td>NaN</td>\n",
       "      <td>2017-07-31 00:18:03 +0000</td>\n",
       "      <td>&lt;a href=\"http://twitter.com/download/iphone\" r...</td>\n",
       "      <td>This is Archie. He is a rare Norwegian Pouncin...</td>\n",
       "      <td>NaN</td>\n",
       "      <td>NaN</td>\n",
       "      <td>NaN</td>\n",
       "      <td>https://twitter.com/dog_rates/status/891815181...</td>\n",
       "      <td>12</td>\n",
       "      <td>10</td>\n",
       "      <td>Archie</td>\n",
       "      <td>None</td>\n",
       "      <td>None</td>\n",
       "      <td>None</td>\n",
       "      <td>None</td>\n",
       "    </tr>\n",
       "  </tbody>\n",
       "</table>\n",
       "</div>"
      ],
      "text/plain": [
       "             tweet_id  in_reply_to_status_id  in_reply_to_user_id  \\\n",
       "0  892420643555336193                    NaN                  NaN   \n",
       "1  892177421306343426                    NaN                  NaN   \n",
       "2  891815181378084864                    NaN                  NaN   \n",
       "\n",
       "                   timestamp  \\\n",
       "0  2017-08-01 16:23:56 +0000   \n",
       "1  2017-08-01 00:17:27 +0000   \n",
       "2  2017-07-31 00:18:03 +0000   \n",
       "\n",
       "                                              source  \\\n",
       "0  <a href=\"http://twitter.com/download/iphone\" r...   \n",
       "1  <a href=\"http://twitter.com/download/iphone\" r...   \n",
       "2  <a href=\"http://twitter.com/download/iphone\" r...   \n",
       "\n",
       "                                                text  retweeted_status_id  \\\n",
       "0  This is Phineas. He's a mystical boy. Only eve...                  NaN   \n",
       "1  This is Tilly. She's just checking pup on you....                  NaN   \n",
       "2  This is Archie. He is a rare Norwegian Pouncin...                  NaN   \n",
       "\n",
       "   retweeted_status_user_id retweeted_status_timestamp  \\\n",
       "0                       NaN                        NaN   \n",
       "1                       NaN                        NaN   \n",
       "2                       NaN                        NaN   \n",
       "\n",
       "                                       expanded_urls  rating_numerator  \\\n",
       "0  https://twitter.com/dog_rates/status/892420643...                13   \n",
       "1  https://twitter.com/dog_rates/status/892177421...                13   \n",
       "2  https://twitter.com/dog_rates/status/891815181...                12   \n",
       "\n",
       "   rating_denominator     name doggo floofer pupper puppo  \n",
       "0                  10  Phineas  None    None   None  None  \n",
       "1                  10    Tilly  None    None   None  None  \n",
       "2                  10   Archie  None    None   None  None  "
      ]
     },
     "execution_count": 7,
     "metadata": {},
     "output_type": "execute_result"
    }
   ],
   "source": [
    "tweet_archive_df.head(3)"
   ]
  },
  {
   "cell_type": "markdown",
   "metadata": {},
   "source": [
    "Issues:\n",
    "* `source` contains HTML fragments, but the column probably isn't needed.\n",
    "* doggo, floofer, pupper, and puppo seem like they don't need to be separate columns"
   ]
  },
  {
   "cell_type": "markdown",
   "metadata": {},
   "source": [
    "From the fields, numerators and denominators could be a source of quality errors."
   ]
  },
  {
   "cell_type": "code",
   "execution_count": 8,
   "metadata": {},
   "outputs": [
    {
     "data": {
      "text/plain": [
       "0         2\n",
       "1         9\n",
       "2         9\n",
       "3        19\n",
       "4        17\n",
       "5        37\n",
       "6        32\n",
       "7        55\n",
       "8       102\n",
       "9       158\n",
       "10      461\n",
       "11      464\n",
       "12      558\n",
       "13      351\n",
       "14       54\n",
       "15        2\n",
       "17        1\n",
       "20        1\n",
       "24        1\n",
       "26        1\n",
       "27        1\n",
       "44        1\n",
       "45        1\n",
       "50        1\n",
       "60        1\n",
       "75        2\n",
       "80        1\n",
       "84        1\n",
       "88        1\n",
       "99        1\n",
       "121       1\n",
       "143       1\n",
       "144       1\n",
       "165       1\n",
       "182       1\n",
       "204       1\n",
       "420       2\n",
       "666       1\n",
       "960       1\n",
       "1776      1\n",
       "Name: rating_numerator, dtype: int64"
      ]
     },
     "execution_count": 8,
     "metadata": {},
     "output_type": "execute_result"
    }
   ],
   "source": [
    "tweet_archive_df.rating_numerator.value_counts().sort_index()"
   ]
  },
  {
   "cell_type": "markdown",
   "metadata": {},
   "source": [
    "For someone that loves dogs and saying all of them are perfect, may be giving 0 might show errors with low scores."
   ]
  },
  {
   "cell_type": "code",
   "execution_count": 9,
   "metadata": {},
   "outputs": [
    {
     "data": {
      "text/html": [
       "<div>\n",
       "<style scoped>\n",
       "    .dataframe tbody tr th:only-of-type {\n",
       "        vertical-align: middle;\n",
       "    }\n",
       "\n",
       "    .dataframe tbody tr th {\n",
       "        vertical-align: top;\n",
       "    }\n",
       "\n",
       "    .dataframe thead th {\n",
       "        text-align: right;\n",
       "    }\n",
       "</style>\n",
       "<table border=\"1\" class=\"dataframe\">\n",
       "  <thead>\n",
       "    <tr style=\"text-align: right;\">\n",
       "      <th></th>\n",
       "      <th>tweet_id</th>\n",
       "      <th>rating_numerator</th>\n",
       "      <th>rating_denominator</th>\n",
       "      <th>text</th>\n",
       "    </tr>\n",
       "  </thead>\n",
       "  <tbody>\n",
       "    <tr>\n",
       "      <th>315</th>\n",
       "      <td>835152434251116546</td>\n",
       "      <td>0</td>\n",
       "      <td>10</td>\n",
       "      <td>When you're so blinded by your systematic plag...</td>\n",
       "    </tr>\n",
       "    <tr>\n",
       "      <th>1016</th>\n",
       "      <td>746906459439529985</td>\n",
       "      <td>0</td>\n",
       "      <td>10</td>\n",
       "      <td>PUPDATE: can't see any. Even if I could, I cou...</td>\n",
       "    </tr>\n",
       "  </tbody>\n",
       "</table>\n",
       "</div>"
      ],
      "text/plain": [
       "                tweet_id  rating_numerator  rating_denominator  \\\n",
       "315   835152434251116546                 0                  10   \n",
       "1016  746906459439529985                 0                  10   \n",
       "\n",
       "                                                   text  \n",
       "315   When you're so blinded by your systematic plag...  \n",
       "1016  PUPDATE: can't see any. Even if I could, I cou...  "
      ]
     },
     "execution_count": 9,
     "metadata": {},
     "output_type": "execute_result"
    }
   ],
   "source": [
    "tweet_archive_df[tweet_archive_df.rating_numerator == 0].sort_values(by=['rating_numerator'],  ascending=False)[['tweet_id','rating_numerator', 'rating_denominator', 'text']][0:10]"
   ]
  },
  {
   "cell_type": "markdown",
   "metadata": {},
   "source": [
    "The entries with zero seem fine."
   ]
  },
  {
   "cell_type": "markdown",
   "metadata": {},
   "source": [
    "The distribution of values seems to be mainly below 20, so that will be the arbitraty set point to start a closer look for quality errors."
   ]
  },
  {
   "cell_type": "code",
   "execution_count": 10,
   "metadata": {},
   "outputs": [
    {
     "data": {
      "text/html": [
       "<div>\n",
       "<style scoped>\n",
       "    .dataframe tbody tr th:only-of-type {\n",
       "        vertical-align: middle;\n",
       "    }\n",
       "\n",
       "    .dataframe tbody tr th {\n",
       "        vertical-align: top;\n",
       "    }\n",
       "\n",
       "    .dataframe thead th {\n",
       "        text-align: right;\n",
       "    }\n",
       "</style>\n",
       "<table border=\"1\" class=\"dataframe\">\n",
       "  <thead>\n",
       "    <tr style=\"text-align: right;\">\n",
       "      <th></th>\n",
       "      <th>tweet_id</th>\n",
       "      <th>rating_numerator</th>\n",
       "      <th>rating_denominator</th>\n",
       "      <th>text</th>\n",
       "    </tr>\n",
       "  </thead>\n",
       "  <tbody>\n",
       "    <tr>\n",
       "      <th>979</th>\n",
       "      <td>749981277374128128</td>\n",
       "      <td>1776</td>\n",
       "      <td>10</td>\n",
       "      <td>This is Atticus. He's quite simply America af....</td>\n",
       "    </tr>\n",
       "    <tr>\n",
       "      <th>313</th>\n",
       "      <td>835246439529840640</td>\n",
       "      <td>960</td>\n",
       "      <td>0</td>\n",
       "      <td>@jonnysun @Lin_Manuel ok jomny I know you're e...</td>\n",
       "    </tr>\n",
       "    <tr>\n",
       "      <th>189</th>\n",
       "      <td>855860136149123072</td>\n",
       "      <td>666</td>\n",
       "      <td>10</td>\n",
       "      <td>@s8n You tried very hard to portray this good ...</td>\n",
       "    </tr>\n",
       "    <tr>\n",
       "      <th>188</th>\n",
       "      <td>855862651834028034</td>\n",
       "      <td>420</td>\n",
       "      <td>10</td>\n",
       "      <td>@dhmontgomery We also gave snoop dogg a 420/10...</td>\n",
       "    </tr>\n",
       "    <tr>\n",
       "      <th>2074</th>\n",
       "      <td>670842764863651840</td>\n",
       "      <td>420</td>\n",
       "      <td>10</td>\n",
       "      <td>After so many requests... here you go.\\n\\nGood...</td>\n",
       "    </tr>\n",
       "    <tr>\n",
       "      <th>1120</th>\n",
       "      <td>731156023742988288</td>\n",
       "      <td>204</td>\n",
       "      <td>170</td>\n",
       "      <td>Say hello to this unbelievably well behaved sq...</td>\n",
       "    </tr>\n",
       "    <tr>\n",
       "      <th>290</th>\n",
       "      <td>838150277551247360</td>\n",
       "      <td>182</td>\n",
       "      <td>10</td>\n",
       "      <td>@markhoppus 182/10</td>\n",
       "    </tr>\n",
       "    <tr>\n",
       "      <th>902</th>\n",
       "      <td>758467244762497024</td>\n",
       "      <td>165</td>\n",
       "      <td>150</td>\n",
       "      <td>Why does this never happen at my front door......</td>\n",
       "    </tr>\n",
       "    <tr>\n",
       "      <th>1779</th>\n",
       "      <td>677716515794329600</td>\n",
       "      <td>144</td>\n",
       "      <td>120</td>\n",
       "      <td>IT'S PUPPERGEDDON. Total of 144/120 ...I think...</td>\n",
       "    </tr>\n",
       "    <tr>\n",
       "      <th>1634</th>\n",
       "      <td>684225744407494656</td>\n",
       "      <td>143</td>\n",
       "      <td>130</td>\n",
       "      <td>Two sneaky puppers were not initially seen, mo...</td>\n",
       "    </tr>\n",
       "  </tbody>\n",
       "</table>\n",
       "</div>"
      ],
      "text/plain": [
       "                tweet_id  rating_numerator  rating_denominator  \\\n",
       "979   749981277374128128              1776                  10   \n",
       "313   835246439529840640               960                   0   \n",
       "189   855860136149123072               666                  10   \n",
       "188   855862651834028034               420                  10   \n",
       "2074  670842764863651840               420                  10   \n",
       "1120  731156023742988288               204                 170   \n",
       "290   838150277551247360               182                  10   \n",
       "902   758467244762497024               165                 150   \n",
       "1779  677716515794329600               144                 120   \n",
       "1634  684225744407494656               143                 130   \n",
       "\n",
       "                                                   text  \n",
       "979   This is Atticus. He's quite simply America af....  \n",
       "313   @jonnysun @Lin_Manuel ok jomny I know you're e...  \n",
       "189   @s8n You tried very hard to portray this good ...  \n",
       "188   @dhmontgomery We also gave snoop dogg a 420/10...  \n",
       "2074  After so many requests... here you go.\\n\\nGood...  \n",
       "1120  Say hello to this unbelievably well behaved sq...  \n",
       "290                                  @markhoppus 182/10  \n",
       "902   Why does this never happen at my front door......  \n",
       "1779  IT'S PUPPERGEDDON. Total of 144/120 ...I think...  \n",
       "1634  Two sneaky puppers were not initially seen, mo...  "
      ]
     },
     "execution_count": 10,
     "metadata": {},
     "output_type": "execute_result"
    }
   ],
   "source": [
    "tweet_archive_df[tweet_archive_df.rating_numerator > 20].sort_values(by=['rating_numerator'],  ascending=False)[['tweet_id','rating_numerator', 'rating_denominator', 'text']][0:10]"
   ]
  },
  {
   "cell_type": "markdown",
   "metadata": {},
   "source": [
    "Even looking at the truncated `text` shows that some are of multiple dogs, like 677716515794329600. This view also shows that there are issues with the denominator as well, which seems to correlate with the amount of dogs. To be sure, isolating the text of the top and bottom 10 of values above 20 might help confirm, since the bottom 10 still needs to be looked at anyhow."
   ]
  },
  {
   "cell_type": "code",
   "execution_count": 11,
   "metadata": {},
   "outputs": [],
   "source": [
    "# separate out top 10 above 20 and bottom 10 above 20\n",
    "top_10_above_20 = tweet_archive_df[tweet_archive_df.rating_numerator > 20].sort_values(by=['rating_numerator'],  ascending=False)[0:10]\n",
    "bottom_10_above_20 = tweet_archive_df[tweet_archive_df.rating_numerator > 20].sort_values(by=['rating_numerator'],  ascending=True)[0:10]"
   ]
  },
  {
   "cell_type": "code",
   "execution_count": 12,
   "metadata": {},
   "outputs": [
    {
     "name": "stdout",
     "output_type": "stream",
     "text": [
      "Top 10:\n",
      "This is Atticus. He's quite simply America af. 1776/10 https://t.co/GRXwMxLBkh\n",
      "@jonnysun @Lin_Manuel ok jomny I know you're excited but 960/00 isn't a valid rating, 13/10 is tho\n",
      "@s8n You tried very hard to portray this good boy as not so good, but you have ultimately failed. His goodness shines through. 666/10\n",
      "@dhmontgomery We also gave snoop dogg a 420/10 but I think that predated your research\n",
      "After so many requests... here you go.\n",
      "\n",
      "Good dogg. 420/10 https://t.co/yfAAo1gdeY\n",
      "Say hello to this unbelievably well behaved squad of doggos. 204/170 would try to pet all at once https://t.co/yGQI3He3xv\n",
      "@markhoppus 182/10\n",
      "Why does this never happen at my front door... 165/150 https://t.co/HmwrdfEfUE\n",
      "IT'S PUPPERGEDDON. Total of 144/120 ...I think https://t.co/ZanVtAtvIq\n",
      "Two sneaky puppers were not initially seen, moving the rating to 143/130. Please forgive us. Thank you https://t.co/kRK51Y5ac3\n",
      "\n",
      "\n",
      "Bottom 10:\n",
      "Meet Sam. She smiles 24/7 &amp; secretly aspires to be a reindeer. \n",
      "Keep Sam smiling by clicking and sharing this link:\n",
      "https://t.co/98tB8y7y7t https://t.co/LouL5vdvxx\n",
      "Here we have uncovered an entire battalion of holiday puppers. Average of 11.26/10 https://t.co/eNm2S6p9BD\n",
      "This is Sophie. She's a Jubilant Bush Pupper. Super h*ckin rare. Appears at random just to smile at the locals. 11.27/10 would smile back https://t.co/QFaUiIHxHq\n",
      "Happy Wednesday here's a bucket of pups. 44/40 would pet all at once https://t.co/HppvrYuamZ\n",
      "From left to right:\n",
      "Cletus, Jerome, Alejandro, Burp, &amp; Titson\n",
      "None know where camera is. 45/50 would hug all at once https://t.co/sedre1ivTK\n",
      "This is Bluebert. He just saw that both #FinalFur match ups are split 50/50. Amazed af. 11/10 https://t.co/Kky1DPG4iq\n",
      "Here is a whole flock of puppers.  60/50 I'll take the lot https://t.co/9dpcw6MdWa\n",
      "RT @dog_rates: This is Logan, the Chow who lived. He solemnly swears he's up to lots of good. H*ckin magical af 9.75/10 https://t.co/yBO5wu…\n",
      "This is Logan, the Chow who lived. He solemnly swears he's up to lots of good. H*ckin magical af 9.75/10 https://t.co/yBO5wuqaPS\n",
      "Here's a brigade of puppers. All look very prepared for whatever happens next. 80/80 https://t.co/0eb7R1Om12\n"
     ]
    }
   ],
   "source": [
    "def print_tweet_text(tweet_df):\n",
    "    for index, tweet in tweet_df.text.items():\n",
    "        print(tweet)\n",
    "print(\"Top 10:\")\n",
    "print_tweet_text(top_10_above_20)\n",
    "print(\"\\n\\nBottom 10:\")\n",
    "print_tweet_text(bottom_10_above_20)"
   ]
  },
  {
   "cell_type": "markdown",
   "metadata": {},
   "source": [
    "The values above 20 seem to be mostly of multiple dogs, with the exception of Snoop Dogg (855862651834028034) as well as tweet_id = 810984652412424192 that uses the colloquialism '24/7' for all the time. Looking at the text also shows that there are probably some issues with decimals, since no decimal values have popped up. Cross-checking the value with the above text for the `bottom_10_above_20` will confirm."
   ]
  },
  {
   "cell_type": "code",
   "execution_count": 13,
   "metadata": {},
   "outputs": [
    {
     "data": {
      "text/html": [
       "<div>\n",
       "<style scoped>\n",
       "    .dataframe tbody tr th:only-of-type {\n",
       "        vertical-align: middle;\n",
       "    }\n",
       "\n",
       "    .dataframe tbody tr th {\n",
       "        vertical-align: top;\n",
       "    }\n",
       "\n",
       "    .dataframe thead th {\n",
       "        text-align: right;\n",
       "    }\n",
       "</style>\n",
       "<table border=\"1\" class=\"dataframe\">\n",
       "  <thead>\n",
       "    <tr style=\"text-align: right;\">\n",
       "      <th></th>\n",
       "      <th>tweet_id</th>\n",
       "      <th>rating_numerator</th>\n",
       "      <th>rating_denominator</th>\n",
       "      <th>text</th>\n",
       "    </tr>\n",
       "  </thead>\n",
       "  <tbody>\n",
       "    <tr>\n",
       "      <th>516</th>\n",
       "      <td>810984652412424192</td>\n",
       "      <td>24</td>\n",
       "      <td>7</td>\n",
       "      <td>Meet Sam. She smiles 24/7 &amp;amp; secretly aspir...</td>\n",
       "    </tr>\n",
       "    <tr>\n",
       "      <th>1712</th>\n",
       "      <td>680494726643068929</td>\n",
       "      <td>26</td>\n",
       "      <td>10</td>\n",
       "      <td>Here we have uncovered an entire battalion of ...</td>\n",
       "    </tr>\n",
       "    <tr>\n",
       "      <th>763</th>\n",
       "      <td>778027034220126208</td>\n",
       "      <td>27</td>\n",
       "      <td>10</td>\n",
       "      <td>This is Sophie. She's a Jubilant Bush Pupper. ...</td>\n",
       "    </tr>\n",
       "    <tr>\n",
       "      <th>1433</th>\n",
       "      <td>697463031882764288</td>\n",
       "      <td>44</td>\n",
       "      <td>40</td>\n",
       "      <td>Happy Wednesday here's a bucket of pups. 44/40...</td>\n",
       "    </tr>\n",
       "    <tr>\n",
       "      <th>1274</th>\n",
       "      <td>709198395643068416</td>\n",
       "      <td>45</td>\n",
       "      <td>50</td>\n",
       "      <td>From left to right:\\nCletus, Jerome, Alejandro...</td>\n",
       "    </tr>\n",
       "    <tr>\n",
       "      <th>1202</th>\n",
       "      <td>716439118184652801</td>\n",
       "      <td>50</td>\n",
       "      <td>50</td>\n",
       "      <td>This is Bluebert. He just saw that both #Final...</td>\n",
       "    </tr>\n",
       "    <tr>\n",
       "      <th>1351</th>\n",
       "      <td>704054845121142784</td>\n",
       "      <td>60</td>\n",
       "      <td>50</td>\n",
       "      <td>Here is a whole flock of puppers.  60/50 I'll ...</td>\n",
       "    </tr>\n",
       "    <tr>\n",
       "      <th>340</th>\n",
       "      <td>832215909146226688</td>\n",
       "      <td>75</td>\n",
       "      <td>10</td>\n",
       "      <td>RT @dog_rates: This is Logan, the Chow who liv...</td>\n",
       "    </tr>\n",
       "    <tr>\n",
       "      <th>695</th>\n",
       "      <td>786709082849828864</td>\n",
       "      <td>75</td>\n",
       "      <td>10</td>\n",
       "      <td>This is Logan, the Chow who lived. He solemnly...</td>\n",
       "    </tr>\n",
       "    <tr>\n",
       "      <th>1254</th>\n",
       "      <td>710658690886586372</td>\n",
       "      <td>80</td>\n",
       "      <td>80</td>\n",
       "      <td>Here's a brigade of puppers. All look very pre...</td>\n",
       "    </tr>\n",
       "  </tbody>\n",
       "</table>\n",
       "</div>"
      ],
      "text/plain": [
       "                tweet_id  rating_numerator  rating_denominator  \\\n",
       "516   810984652412424192                24                   7   \n",
       "1712  680494726643068929                26                  10   \n",
       "763   778027034220126208                27                  10   \n",
       "1433  697463031882764288                44                  40   \n",
       "1274  709198395643068416                45                  50   \n",
       "1202  716439118184652801                50                  50   \n",
       "1351  704054845121142784                60                  50   \n",
       "340   832215909146226688                75                  10   \n",
       "695   786709082849828864                75                  10   \n",
       "1254  710658690886586372                80                  80   \n",
       "\n",
       "                                                   text  \n",
       "516   Meet Sam. She smiles 24/7 &amp; secretly aspir...  \n",
       "1712  Here we have uncovered an entire battalion of ...  \n",
       "763   This is Sophie. She's a Jubilant Bush Pupper. ...  \n",
       "1433  Happy Wednesday here's a bucket of pups. 44/40...  \n",
       "1274  From left to right:\\nCletus, Jerome, Alejandro...  \n",
       "1202  This is Bluebert. He just saw that both #Final...  \n",
       "1351  Here is a whole flock of puppers.  60/50 I'll ...  \n",
       "340   RT @dog_rates: This is Logan, the Chow who liv...  \n",
       "695   This is Logan, the Chow who lived. He solemnly...  \n",
       "1254  Here's a brigade of puppers. All look very pre...  "
      ]
     },
     "execution_count": 13,
     "metadata": {},
     "output_type": "execute_result"
    }
   ],
   "source": [
    "bottom_10_above_20[['tweet_id','rating_numerator', 'rating_denominator', 'text']]"
   ]
  },
  {
   "cell_type": "markdown",
   "metadata": {},
   "source": [
    "The regex extraction extracted the decimal value below the decimal value only."
   ]
  },
  {
   "cell_type": "markdown",
   "metadata": {},
   "source": [
    "The '24/7' brings above the question of denominator distribution."
   ]
  },
  {
   "cell_type": "code",
   "execution_count": 14,
   "metadata": {},
   "outputs": [
    {
     "data": {
      "text/plain": [
       "0         1\n",
       "2         1\n",
       "7         1\n",
       "10     2333\n",
       "11        3\n",
       "15        1\n",
       "16        1\n",
       "20        2\n",
       "40        1\n",
       "50        3\n",
       "70        1\n",
       "80        2\n",
       "90        1\n",
       "110       1\n",
       "120       1\n",
       "130       1\n",
       "150       1\n",
       "170       1\n",
       "Name: rating_denominator, dtype: int64"
      ]
     },
     "execution_count": 14,
     "metadata": {},
     "output_type": "execute_result"
    }
   ],
   "source": [
    "tweet_archive_df.rating_denominator.value_counts().sort_index()"
   ]
  },
  {
   "cell_type": "markdown",
   "metadata": {},
   "source": [
    "Since there aren't too many denominators that are not a multiple of 10, examining the text will be a good way to find out about these tweets."
   ]
  },
  {
   "cell_type": "code",
   "execution_count": 15,
   "metadata": {},
   "outputs": [
    {
     "name": "stdout",
     "output_type": "stream",
     "text": [
      "@docmisterio account started on 11/15/15\n",
      "Meet Sam. She smiles 24/7 &amp; secretly aspires to be a reindeer. \n",
      "Keep Sam smiling by clicking and sharing this link:\n",
      "https://t.co/98tB8y7y7t https://t.co/LouL5vdvxx\n",
      "RT @dog_rates: After so many requests, this is Bretagne. She was the last surviving 9/11 search dog, and our second ever 14/10. RIP https:/…\n",
      "After so many requests, this is Bretagne. She was the last surviving 9/11 search dog, and our second ever 14/10. RIP https://t.co/XAVDNDaVgQ\n",
      "This is Darrel. He just robbed a 7/11 and is in a high speed police chase. Was just spotted by the helicopter 10/10 https://t.co/7EsP8LmSp5\n",
      "I'm aware that I could've said 20/16, but here at WeRateDogs we are very professional. An inconsistent rating scale is simply irresponsible\n",
      "This is an Albanian 3 1/2 legged  Episcopalian. Loves well-polished hardwood flooring. Penis on the collar. 9/10 https://t.co/d9NcXFKwLv\n"
     ]
    }
   ],
   "source": [
    "print_tweet_text(tweet_archive_df[(tweet_archive_df.rating_denominator % 10).astype(bool)])"
   ]
  },
  {
   "cell_type": "markdown",
   "metadata": {},
   "source": [
    "All the values that aren't divisible by 10 are invalid (not a rating). Checking on the denominator brings about the point of multiple ratings in a tweet. All the ratings need to be extracted in a tweet."
   ]
  },
  {
   "cell_type": "markdown",
   "metadata": {},
   "source": [
    "Issues:\n",
    "* numerator extraction of decimals extracted the number behind the '.' as the whole number rating\n",
    "* numerators/denominator pairs with denominator above 10 are for multiple dogs\n",
    "* denominators that aren't divisible by 10 are invalid\n",
    "* tweet_id = 855862651834028034 Snoop Dogg is not a real dog\n",
    "\n",
    "The other issues should be eliminated by getting rid of retweets/replies and non-dogs from the image_prediction data."
   ]
  },
  {
   "cell_type": "markdown",
   "metadata": {},
   "source": [
    "While cleaning, the dog names were noted to not always be dog names but include particles such as 'a' and 'an' as well as 'None'."
   ]
  },
  {
   "cell_type": "code",
   "execution_count": 16,
   "metadata": {},
   "outputs": [
    {
     "data": {
      "text/plain": [
       "807"
      ]
     },
     "execution_count": 16,
     "metadata": {},
     "output_type": "execute_result"
    }
   ],
   "source": [
    "len(tweet_archive_df[tweet_archive_df.name.isin(['a', 'an', 'None'])][['tweet_id', 'name']])"
   ]
  },
  {
   "cell_type": "markdown",
   "metadata": {},
   "source": [
    "Issues:\n",
    "* 'name' column contains non-dog names"
   ]
  },
  {
   "cell_type": "markdown",
   "metadata": {},
   "source": [
    "<a id='assess-image_predictions_df'></a>\n",
    "## `image_predictions_df`"
   ]
  },
  {
   "cell_type": "code",
   "execution_count": 17,
   "metadata": {},
   "outputs": [
    {
     "name": "stdout",
     "output_type": "stream",
     "text": [
      "<class 'pandas.core.frame.DataFrame'>\n",
      "RangeIndex: 2075 entries, 0 to 2074\n",
      "Data columns (total 12 columns):\n",
      "tweet_id    2075 non-null int64\n",
      "jpg_url     2075 non-null object\n",
      "img_num     2075 non-null int64\n",
      "p1          2075 non-null object\n",
      "p1_conf     2075 non-null float64\n",
      "p1_dog      2075 non-null bool\n",
      "p2          2075 non-null object\n",
      "p2_conf     2075 non-null float64\n",
      "p2_dog      2075 non-null bool\n",
      "p3          2075 non-null object\n",
      "p3_conf     2075 non-null float64\n",
      "p3_dog      2075 non-null bool\n",
      "dtypes: bool(3), float64(3), int64(2), object(4)\n",
      "memory usage: 152.1+ KB\n"
     ]
    }
   ],
   "source": [
    "image_predictions_df.info()"
   ]
  },
  {
   "cell_type": "markdown",
   "metadata": {},
   "source": [
    "Nothing stands out from `.info()`, but `img_num` may create problems on inspection."
   ]
  },
  {
   "cell_type": "code",
   "execution_count": 18,
   "metadata": {},
   "outputs": [
    {
     "data": {
      "text/html": [
       "<div>\n",
       "<style scoped>\n",
       "    .dataframe tbody tr th:only-of-type {\n",
       "        vertical-align: middle;\n",
       "    }\n",
       "\n",
       "    .dataframe tbody tr th {\n",
       "        vertical-align: top;\n",
       "    }\n",
       "\n",
       "    .dataframe thead th {\n",
       "        text-align: right;\n",
       "    }\n",
       "</style>\n",
       "<table border=\"1\" class=\"dataframe\">\n",
       "  <thead>\n",
       "    <tr style=\"text-align: right;\">\n",
       "      <th></th>\n",
       "      <th>tweet_id</th>\n",
       "      <th>jpg_url</th>\n",
       "      <th>img_num</th>\n",
       "      <th>p1</th>\n",
       "      <th>p1_conf</th>\n",
       "      <th>p1_dog</th>\n",
       "      <th>p2</th>\n",
       "      <th>p2_conf</th>\n",
       "      <th>p2_dog</th>\n",
       "      <th>p3</th>\n",
       "      <th>p3_conf</th>\n",
       "      <th>p3_dog</th>\n",
       "    </tr>\n",
       "  </thead>\n",
       "  <tbody>\n",
       "    <tr>\n",
       "      <th>0</th>\n",
       "      <td>666020888022790149</td>\n",
       "      <td>https://pbs.twimg.com/media/CT4udn0WwAA0aMy.jpg</td>\n",
       "      <td>1</td>\n",
       "      <td>Welsh_springer_spaniel</td>\n",
       "      <td>0.465074</td>\n",
       "      <td>True</td>\n",
       "      <td>collie</td>\n",
       "      <td>0.156665</td>\n",
       "      <td>True</td>\n",
       "      <td>Shetland_sheepdog</td>\n",
       "      <td>0.061428</td>\n",
       "      <td>True</td>\n",
       "    </tr>\n",
       "    <tr>\n",
       "      <th>1</th>\n",
       "      <td>666029285002620928</td>\n",
       "      <td>https://pbs.twimg.com/media/CT42GRgUYAA5iDo.jpg</td>\n",
       "      <td>1</td>\n",
       "      <td>redbone</td>\n",
       "      <td>0.506826</td>\n",
       "      <td>True</td>\n",
       "      <td>miniature_pinscher</td>\n",
       "      <td>0.074192</td>\n",
       "      <td>True</td>\n",
       "      <td>Rhodesian_ridgeback</td>\n",
       "      <td>0.072010</td>\n",
       "      <td>True</td>\n",
       "    </tr>\n",
       "    <tr>\n",
       "      <th>2</th>\n",
       "      <td>666033412701032449</td>\n",
       "      <td>https://pbs.twimg.com/media/CT4521TWwAEvMyu.jpg</td>\n",
       "      <td>1</td>\n",
       "      <td>German_shepherd</td>\n",
       "      <td>0.596461</td>\n",
       "      <td>True</td>\n",
       "      <td>malinois</td>\n",
       "      <td>0.138584</td>\n",
       "      <td>True</td>\n",
       "      <td>bloodhound</td>\n",
       "      <td>0.116197</td>\n",
       "      <td>True</td>\n",
       "    </tr>\n",
       "    <tr>\n",
       "      <th>3</th>\n",
       "      <td>666044226329800704</td>\n",
       "      <td>https://pbs.twimg.com/media/CT5Dr8HUEAA-lEu.jpg</td>\n",
       "      <td>1</td>\n",
       "      <td>Rhodesian_ridgeback</td>\n",
       "      <td>0.408143</td>\n",
       "      <td>True</td>\n",
       "      <td>redbone</td>\n",
       "      <td>0.360687</td>\n",
       "      <td>True</td>\n",
       "      <td>miniature_pinscher</td>\n",
       "      <td>0.222752</td>\n",
       "      <td>True</td>\n",
       "    </tr>\n",
       "    <tr>\n",
       "      <th>4</th>\n",
       "      <td>666049248165822465</td>\n",
       "      <td>https://pbs.twimg.com/media/CT5IQmsXIAAKY4A.jpg</td>\n",
       "      <td>1</td>\n",
       "      <td>miniature_pinscher</td>\n",
       "      <td>0.560311</td>\n",
       "      <td>True</td>\n",
       "      <td>Rottweiler</td>\n",
       "      <td>0.243682</td>\n",
       "      <td>True</td>\n",
       "      <td>Doberman</td>\n",
       "      <td>0.154629</td>\n",
       "      <td>True</td>\n",
       "    </tr>\n",
       "  </tbody>\n",
       "</table>\n",
       "</div>"
      ],
      "text/plain": [
       "             tweet_id                                          jpg_url  \\\n",
       "0  666020888022790149  https://pbs.twimg.com/media/CT4udn0WwAA0aMy.jpg   \n",
       "1  666029285002620928  https://pbs.twimg.com/media/CT42GRgUYAA5iDo.jpg   \n",
       "2  666033412701032449  https://pbs.twimg.com/media/CT4521TWwAEvMyu.jpg   \n",
       "3  666044226329800704  https://pbs.twimg.com/media/CT5Dr8HUEAA-lEu.jpg   \n",
       "4  666049248165822465  https://pbs.twimg.com/media/CT5IQmsXIAAKY4A.jpg   \n",
       "\n",
       "   img_num                      p1   p1_conf  p1_dog                  p2  \\\n",
       "0        1  Welsh_springer_spaniel  0.465074    True              collie   \n",
       "1        1                 redbone  0.506826    True  miniature_pinscher   \n",
       "2        1         German_shepherd  0.596461    True            malinois   \n",
       "3        1     Rhodesian_ridgeback  0.408143    True             redbone   \n",
       "4        1      miniature_pinscher  0.560311    True          Rottweiler   \n",
       "\n",
       "    p2_conf  p2_dog                   p3   p3_conf  p3_dog  \n",
       "0  0.156665    True    Shetland_sheepdog  0.061428    True  \n",
       "1  0.074192    True  Rhodesian_ridgeback  0.072010    True  \n",
       "2  0.138584    True           bloodhound  0.116197    True  \n",
       "3  0.360687    True   miniature_pinscher  0.222752    True  \n",
       "4  0.243682    True             Doberman  0.154629    True  "
      ]
     },
     "execution_count": 18,
     "metadata": {},
     "output_type": "execute_result"
    }
   ],
   "source": [
    "image_predictions_df.head()"
   ]
  },
  {
   "cell_type": "markdown",
   "metadata": {},
   "source": [
    "Still looking okay."
   ]
  },
  {
   "cell_type": "markdown",
   "metadata": {},
   "source": [
    "Let's check into `img_num` and see if there's anything other than 1."
   ]
  },
  {
   "cell_type": "code",
   "execution_count": 19,
   "metadata": {},
   "outputs": [
    {
     "data": {
      "text/html": [
       "<div>\n",
       "<style scoped>\n",
       "    .dataframe tbody tr th:only-of-type {\n",
       "        vertical-align: middle;\n",
       "    }\n",
       "\n",
       "    .dataframe tbody tr th {\n",
       "        vertical-align: top;\n",
       "    }\n",
       "\n",
       "    .dataframe thead th {\n",
       "        text-align: right;\n",
       "    }\n",
       "</style>\n",
       "<table border=\"1\" class=\"dataframe\">\n",
       "  <thead>\n",
       "    <tr style=\"text-align: right;\">\n",
       "      <th></th>\n",
       "      <th>tweet_id</th>\n",
       "      <th>jpg_url</th>\n",
       "      <th>img_num</th>\n",
       "      <th>p1</th>\n",
       "      <th>p1_conf</th>\n",
       "      <th>p1_dog</th>\n",
       "      <th>p2</th>\n",
       "      <th>p2_conf</th>\n",
       "      <th>p2_dog</th>\n",
       "      <th>p3</th>\n",
       "      <th>p3_conf</th>\n",
       "      <th>p3_dog</th>\n",
       "    </tr>\n",
       "  </thead>\n",
       "  <tbody>\n",
       "    <tr>\n",
       "      <th>144</th>\n",
       "      <td>668623201287675904</td>\n",
       "      <td>https://pbs.twimg.com/media/CUdtP1xUYAIeBnE.jpg</td>\n",
       "      <td>4</td>\n",
       "      <td>Chihuahua</td>\n",
       "      <td>0.708163</td>\n",
       "      <td>True</td>\n",
       "      <td>Pomeranian</td>\n",
       "      <td>0.091372</td>\n",
       "      <td>True</td>\n",
       "      <td>titi</td>\n",
       "      <td>0.067325</td>\n",
       "      <td>False</td>\n",
       "    </tr>\n",
       "    <tr>\n",
       "      <th>312</th>\n",
       "      <td>671547767500775424</td>\n",
       "      <td>https://pbs.twimg.com/media/CVHRIiqWEAAj98K.jpg</td>\n",
       "      <td>2</td>\n",
       "      <td>Loafer</td>\n",
       "      <td>0.255088</td>\n",
       "      <td>False</td>\n",
       "      <td>platypus</td>\n",
       "      <td>0.090019</td>\n",
       "      <td>False</td>\n",
       "      <td>cowboy_boot</td>\n",
       "      <td>0.066536</td>\n",
       "      <td>False</td>\n",
       "    </tr>\n",
       "    <tr>\n",
       "      <th>315</th>\n",
       "      <td>671735591348891648</td>\n",
       "      <td>https://pbs.twimg.com/media/CVJ79MzW4AEpTom.jpg</td>\n",
       "      <td>2</td>\n",
       "      <td>stone_wall</td>\n",
       "      <td>0.271121</td>\n",
       "      <td>False</td>\n",
       "      <td>Irish_wolfhound</td>\n",
       "      <td>0.063078</td>\n",
       "      <td>True</td>\n",
       "      <td>poncho</td>\n",
       "      <td>0.048226</td>\n",
       "      <td>False</td>\n",
       "    </tr>\n",
       "    <tr>\n",
       "      <th>319</th>\n",
       "      <td>671768281401958400</td>\n",
       "      <td>https://pbs.twimg.com/media/CVKZsHtWwAA6gPj.jpg</td>\n",
       "      <td>2</td>\n",
       "      <td>Chihuahua</td>\n",
       "      <td>0.500373</td>\n",
       "      <td>True</td>\n",
       "      <td>French_bulldog</td>\n",
       "      <td>0.112796</td>\n",
       "      <td>True</td>\n",
       "      <td>Italian_greyhound</td>\n",
       "      <td>0.062893</td>\n",
       "      <td>True</td>\n",
       "    </tr>\n",
       "    <tr>\n",
       "      <th>345</th>\n",
       "      <td>672272411274932228</td>\n",
       "      <td>https://pbs.twimg.com/media/CVRkLuJWUAAhhYp.jpg</td>\n",
       "      <td>2</td>\n",
       "      <td>pug</td>\n",
       "      <td>0.914685</td>\n",
       "      <td>True</td>\n",
       "      <td>Norwegian_elkhound</td>\n",
       "      <td>0.014982</td>\n",
       "      <td>True</td>\n",
       "      <td>Siamese_cat</td>\n",
       "      <td>0.009221</td>\n",
       "      <td>False</td>\n",
       "    </tr>\n",
       "  </tbody>\n",
       "</table>\n",
       "</div>"
      ],
      "text/plain": [
       "               tweet_id                                          jpg_url  \\\n",
       "144  668623201287675904  https://pbs.twimg.com/media/CUdtP1xUYAIeBnE.jpg   \n",
       "312  671547767500775424  https://pbs.twimg.com/media/CVHRIiqWEAAj98K.jpg   \n",
       "315  671735591348891648  https://pbs.twimg.com/media/CVJ79MzW4AEpTom.jpg   \n",
       "319  671768281401958400  https://pbs.twimg.com/media/CVKZsHtWwAA6gPj.jpg   \n",
       "345  672272411274932228  https://pbs.twimg.com/media/CVRkLuJWUAAhhYp.jpg   \n",
       "\n",
       "     img_num          p1   p1_conf  p1_dog                  p2   p2_conf  \\\n",
       "144        4   Chihuahua  0.708163    True          Pomeranian  0.091372   \n",
       "312        2      Loafer  0.255088   False            platypus  0.090019   \n",
       "315        2  stone_wall  0.271121   False     Irish_wolfhound  0.063078   \n",
       "319        2   Chihuahua  0.500373    True      French_bulldog  0.112796   \n",
       "345        2         pug  0.914685    True  Norwegian_elkhound  0.014982   \n",
       "\n",
       "     p2_dog                 p3   p3_conf  p3_dog  \n",
       "144    True               titi  0.067325   False  \n",
       "312   False        cowboy_boot  0.066536   False  \n",
       "315    True             poncho  0.048226   False  \n",
       "319    True  Italian_greyhound  0.062893    True  \n",
       "345    True        Siamese_cat  0.009221   False  "
      ]
     },
     "execution_count": 19,
     "metadata": {},
     "output_type": "execute_result"
    }
   ],
   "source": [
    "# image_predictions_df[image_predictions_df.img_num != 1]\n",
    "\n",
    "# there's a lot; let's narrow it down to a slice\n",
    "image_predictions_df[image_predictions_df.img_num != 1][0:5]"
   ]
  },
  {
   "cell_type": "markdown",
   "metadata": {},
   "source": [
    "Let's check by the `tweet_id` of an entry with higher `img_num` to see if there are multiple entries (one for each `img_num`) in case it is a way to code for tweets with multiple images."
   ]
  },
  {
   "cell_type": "code",
   "execution_count": 20,
   "metadata": {},
   "outputs": [
    {
     "data": {
      "text/html": [
       "<div>\n",
       "<style scoped>\n",
       "    .dataframe tbody tr th:only-of-type {\n",
       "        vertical-align: middle;\n",
       "    }\n",
       "\n",
       "    .dataframe tbody tr th {\n",
       "        vertical-align: top;\n",
       "    }\n",
       "\n",
       "    .dataframe thead th {\n",
       "        text-align: right;\n",
       "    }\n",
       "</style>\n",
       "<table border=\"1\" class=\"dataframe\">\n",
       "  <thead>\n",
       "    <tr style=\"text-align: right;\">\n",
       "      <th></th>\n",
       "      <th>tweet_id</th>\n",
       "      <th>jpg_url</th>\n",
       "      <th>img_num</th>\n",
       "      <th>p1</th>\n",
       "      <th>p1_conf</th>\n",
       "      <th>p1_dog</th>\n",
       "      <th>p2</th>\n",
       "      <th>p2_conf</th>\n",
       "      <th>p2_dog</th>\n",
       "      <th>p3</th>\n",
       "      <th>p3_conf</th>\n",
       "      <th>p3_dog</th>\n",
       "    </tr>\n",
       "  </thead>\n",
       "  <tbody>\n",
       "    <tr>\n",
       "      <th>144</th>\n",
       "      <td>668623201287675904</td>\n",
       "      <td>https://pbs.twimg.com/media/CUdtP1xUYAIeBnE.jpg</td>\n",
       "      <td>4</td>\n",
       "      <td>Chihuahua</td>\n",
       "      <td>0.708163</td>\n",
       "      <td>True</td>\n",
       "      <td>Pomeranian</td>\n",
       "      <td>0.091372</td>\n",
       "      <td>True</td>\n",
       "      <td>titi</td>\n",
       "      <td>0.067325</td>\n",
       "      <td>False</td>\n",
       "    </tr>\n",
       "  </tbody>\n",
       "</table>\n",
       "</div>"
      ],
      "text/plain": [
       "               tweet_id                                          jpg_url  \\\n",
       "144  668623201287675904  https://pbs.twimg.com/media/CUdtP1xUYAIeBnE.jpg   \n",
       "\n",
       "     img_num         p1   p1_conf  p1_dog          p2   p2_conf  p2_dog    p3  \\\n",
       "144        4  Chihuahua  0.708163    True  Pomeranian  0.091372    True  titi   \n",
       "\n",
       "      p3_conf  p3_dog  \n",
       "144  0.067325   False  "
      ]
     },
     "execution_count": 20,
     "metadata": {},
     "output_type": "execute_result"
    }
   ],
   "source": [
    "image_predictions_df[image_predictions_df.tweet_id == 668623201287675904]"
   ]
  },
  {
   "cell_type": "markdown",
   "metadata": {},
   "source": [
    "Not sure exactly what `img_num` is since there is no indication on how the images were parsed to identify only 3 objects, but there aren't multiple entries to account for higher image numbers."
   ]
  },
  {
   "cell_type": "markdown",
   "metadata": {},
   "source": [
    "Looking at `img_num`, there seem to be image identifications that may not be of dogs."
   ]
  },
  {
   "cell_type": "code",
   "execution_count": 21,
   "metadata": {},
   "outputs": [
    {
     "data": {
      "text/html": [
       "<div>\n",
       "<style scoped>\n",
       "    .dataframe tbody tr th:only-of-type {\n",
       "        vertical-align: middle;\n",
       "    }\n",
       "\n",
       "    .dataframe tbody tr th {\n",
       "        vertical-align: top;\n",
       "    }\n",
       "\n",
       "    .dataframe thead th {\n",
       "        text-align: right;\n",
       "    }\n",
       "</style>\n",
       "<table border=\"1\" class=\"dataframe\">\n",
       "  <thead>\n",
       "    <tr style=\"text-align: right;\">\n",
       "      <th></th>\n",
       "      <th>tweet_id</th>\n",
       "      <th>jpg_url</th>\n",
       "      <th>img_num</th>\n",
       "      <th>p1</th>\n",
       "      <th>p1_conf</th>\n",
       "      <th>p1_dog</th>\n",
       "      <th>p2</th>\n",
       "      <th>p2_conf</th>\n",
       "      <th>p2_dog</th>\n",
       "      <th>p3</th>\n",
       "      <th>p3_conf</th>\n",
       "      <th>p3_dog</th>\n",
       "    </tr>\n",
       "  </thead>\n",
       "  <tbody>\n",
       "    <tr>\n",
       "      <th>6</th>\n",
       "      <td>666051853826850816</td>\n",
       "      <td>https://pbs.twimg.com/media/CT5KoJ1WoAAJash.jpg</td>\n",
       "      <td>1</td>\n",
       "      <td>box_turtle</td>\n",
       "      <td>0.933012</td>\n",
       "      <td>False</td>\n",
       "      <td>mud_turtle</td>\n",
       "      <td>0.045885</td>\n",
       "      <td>False</td>\n",
       "      <td>terrapin</td>\n",
       "      <td>0.017885</td>\n",
       "      <td>False</td>\n",
       "    </tr>\n",
       "    <tr>\n",
       "      <th>8</th>\n",
       "      <td>666057090499244032</td>\n",
       "      <td>https://pbs.twimg.com/media/CT5PY90WoAAQGLo.jpg</td>\n",
       "      <td>1</td>\n",
       "      <td>shopping_cart</td>\n",
       "      <td>0.962465</td>\n",
       "      <td>False</td>\n",
       "      <td>shopping_basket</td>\n",
       "      <td>0.014594</td>\n",
       "      <td>False</td>\n",
       "      <td>golden_retriever</td>\n",
       "      <td>0.007959</td>\n",
       "      <td>True</td>\n",
       "    </tr>\n",
       "    <tr>\n",
       "      <th>17</th>\n",
       "      <td>666104133288665088</td>\n",
       "      <td>https://pbs.twimg.com/media/CT56LSZWoAAlJj2.jpg</td>\n",
       "      <td>1</td>\n",
       "      <td>hen</td>\n",
       "      <td>0.965932</td>\n",
       "      <td>False</td>\n",
       "      <td>cock</td>\n",
       "      <td>0.033919</td>\n",
       "      <td>False</td>\n",
       "      <td>partridge</td>\n",
       "      <td>0.000052</td>\n",
       "      <td>False</td>\n",
       "    </tr>\n",
       "    <tr>\n",
       "      <th>18</th>\n",
       "      <td>666268910803644416</td>\n",
       "      <td>https://pbs.twimg.com/media/CT8QCd1WEAADXws.jpg</td>\n",
       "      <td>1</td>\n",
       "      <td>desktop_computer</td>\n",
       "      <td>0.086502</td>\n",
       "      <td>False</td>\n",
       "      <td>desk</td>\n",
       "      <td>0.085547</td>\n",
       "      <td>False</td>\n",
       "      <td>bookcase</td>\n",
       "      <td>0.079480</td>\n",
       "      <td>False</td>\n",
       "    </tr>\n",
       "    <tr>\n",
       "      <th>21</th>\n",
       "      <td>666293911632134144</td>\n",
       "      <td>https://pbs.twimg.com/media/CT8mx7KW4AEQu8N.jpg</td>\n",
       "      <td>1</td>\n",
       "      <td>three-toed_sloth</td>\n",
       "      <td>0.914671</td>\n",
       "      <td>False</td>\n",
       "      <td>otter</td>\n",
       "      <td>0.015250</td>\n",
       "      <td>False</td>\n",
       "      <td>great_grey_owl</td>\n",
       "      <td>0.013207</td>\n",
       "      <td>False</td>\n",
       "    </tr>\n",
       "  </tbody>\n",
       "</table>\n",
       "</div>"
      ],
      "text/plain": [
       "              tweet_id                                          jpg_url  \\\n",
       "6   666051853826850816  https://pbs.twimg.com/media/CT5KoJ1WoAAJash.jpg   \n",
       "8   666057090499244032  https://pbs.twimg.com/media/CT5PY90WoAAQGLo.jpg   \n",
       "17  666104133288665088  https://pbs.twimg.com/media/CT56LSZWoAAlJj2.jpg   \n",
       "18  666268910803644416  https://pbs.twimg.com/media/CT8QCd1WEAADXws.jpg   \n",
       "21  666293911632134144  https://pbs.twimg.com/media/CT8mx7KW4AEQu8N.jpg   \n",
       "\n",
       "    img_num                p1   p1_conf  p1_dog               p2   p2_conf  \\\n",
       "6         1        box_turtle  0.933012   False       mud_turtle  0.045885   \n",
       "8         1     shopping_cart  0.962465   False  shopping_basket  0.014594   \n",
       "17        1               hen  0.965932   False             cock  0.033919   \n",
       "18        1  desktop_computer  0.086502   False             desk  0.085547   \n",
       "21        1  three-toed_sloth  0.914671   False            otter  0.015250   \n",
       "\n",
       "    p2_dog                p3   p3_conf  p3_dog  \n",
       "6    False          terrapin  0.017885   False  \n",
       "8    False  golden_retriever  0.007959    True  \n",
       "17   False         partridge  0.000052   False  \n",
       "18   False          bookcase  0.079480   False  \n",
       "21   False    great_grey_owl  0.013207   False  "
      ]
     },
     "execution_count": 21,
     "metadata": {},
     "output_type": "execute_result"
    }
   ],
   "source": [
    "image_predictions_df[image_predictions_df.p1_dog == False][0:5]"
   ]
  },
  {
   "cell_type": "code",
   "execution_count": 22,
   "metadata": {},
   "outputs": [
    {
     "data": {
      "text/plain": [
       "543"
      ]
     },
     "execution_count": 22,
     "metadata": {},
     "output_type": "execute_result"
    }
   ],
   "source": [
    "len(image_predictions_df[image_predictions_df.p1_dog == False])"
   ]
  },
  {
   "cell_type": "markdown",
   "metadata": {},
   "source": [
    "There are some images that don't have dogs as the first identified object in the picture.\n",
    "\n",
    "Are there any that don't contain dogs as the primary 3 objects?"
   ]
  },
  {
   "cell_type": "code",
   "execution_count": 23,
   "metadata": {},
   "outputs": [
    {
     "data": {
      "text/html": [
       "<div>\n",
       "<style scoped>\n",
       "    .dataframe tbody tr th:only-of-type {\n",
       "        vertical-align: middle;\n",
       "    }\n",
       "\n",
       "    .dataframe tbody tr th {\n",
       "        vertical-align: top;\n",
       "    }\n",
       "\n",
       "    .dataframe thead th {\n",
       "        text-align: right;\n",
       "    }\n",
       "</style>\n",
       "<table border=\"1\" class=\"dataframe\">\n",
       "  <thead>\n",
       "    <tr style=\"text-align: right;\">\n",
       "      <th></th>\n",
       "      <th>tweet_id</th>\n",
       "      <th>jpg_url</th>\n",
       "      <th>img_num</th>\n",
       "      <th>p1</th>\n",
       "      <th>p1_conf</th>\n",
       "      <th>p1_dog</th>\n",
       "      <th>p2</th>\n",
       "      <th>p2_conf</th>\n",
       "      <th>p2_dog</th>\n",
       "      <th>p3</th>\n",
       "      <th>p3_conf</th>\n",
       "      <th>p3_dog</th>\n",
       "    </tr>\n",
       "  </thead>\n",
       "  <tbody>\n",
       "    <tr>\n",
       "      <th>6</th>\n",
       "      <td>666051853826850816</td>\n",
       "      <td>https://pbs.twimg.com/media/CT5KoJ1WoAAJash.jpg</td>\n",
       "      <td>1</td>\n",
       "      <td>box_turtle</td>\n",
       "      <td>0.933012</td>\n",
       "      <td>False</td>\n",
       "      <td>mud_turtle</td>\n",
       "      <td>4.588540e-02</td>\n",
       "      <td>False</td>\n",
       "      <td>terrapin</td>\n",
       "      <td>1.788530e-02</td>\n",
       "      <td>False</td>\n",
       "    </tr>\n",
       "    <tr>\n",
       "      <th>17</th>\n",
       "      <td>666104133288665088</td>\n",
       "      <td>https://pbs.twimg.com/media/CT56LSZWoAAlJj2.jpg</td>\n",
       "      <td>1</td>\n",
       "      <td>hen</td>\n",
       "      <td>0.965932</td>\n",
       "      <td>False</td>\n",
       "      <td>cock</td>\n",
       "      <td>3.391940e-02</td>\n",
       "      <td>False</td>\n",
       "      <td>partridge</td>\n",
       "      <td>5.206580e-05</td>\n",
       "      <td>False</td>\n",
       "    </tr>\n",
       "    <tr>\n",
       "      <th>18</th>\n",
       "      <td>666268910803644416</td>\n",
       "      <td>https://pbs.twimg.com/media/CT8QCd1WEAADXws.jpg</td>\n",
       "      <td>1</td>\n",
       "      <td>desktop_computer</td>\n",
       "      <td>0.086502</td>\n",
       "      <td>False</td>\n",
       "      <td>desk</td>\n",
       "      <td>8.554740e-02</td>\n",
       "      <td>False</td>\n",
       "      <td>bookcase</td>\n",
       "      <td>7.947970e-02</td>\n",
       "      <td>False</td>\n",
       "    </tr>\n",
       "    <tr>\n",
       "      <th>21</th>\n",
       "      <td>666293911632134144</td>\n",
       "      <td>https://pbs.twimg.com/media/CT8mx7KW4AEQu8N.jpg</td>\n",
       "      <td>1</td>\n",
       "      <td>three-toed_sloth</td>\n",
       "      <td>0.914671</td>\n",
       "      <td>False</td>\n",
       "      <td>otter</td>\n",
       "      <td>1.525000e-02</td>\n",
       "      <td>False</td>\n",
       "      <td>great_grey_owl</td>\n",
       "      <td>1.320720e-02</td>\n",
       "      <td>False</td>\n",
       "    </tr>\n",
       "    <tr>\n",
       "      <th>25</th>\n",
       "      <td>666362758909284353</td>\n",
       "      <td>https://pbs.twimg.com/media/CT9lXGsUcAAyUFt.jpg</td>\n",
       "      <td>1</td>\n",
       "      <td>guinea_pig</td>\n",
       "      <td>0.996496</td>\n",
       "      <td>False</td>\n",
       "      <td>skunk</td>\n",
       "      <td>2.402450e-03</td>\n",
       "      <td>False</td>\n",
       "      <td>hamster</td>\n",
       "      <td>4.608630e-04</td>\n",
       "      <td>False</td>\n",
       "    </tr>\n",
       "    <tr>\n",
       "      <th>29</th>\n",
       "      <td>666411507551481857</td>\n",
       "      <td>https://pbs.twimg.com/media/CT-RugiWIAELEaq.jpg</td>\n",
       "      <td>1</td>\n",
       "      <td>coho</td>\n",
       "      <td>0.404640</td>\n",
       "      <td>False</td>\n",
       "      <td>barracouta</td>\n",
       "      <td>2.714850e-01</td>\n",
       "      <td>False</td>\n",
       "      <td>gar</td>\n",
       "      <td>1.899450e-01</td>\n",
       "      <td>False</td>\n",
       "    </tr>\n",
       "    <tr>\n",
       "      <th>45</th>\n",
       "      <td>666786068205871104</td>\n",
       "      <td>https://pbs.twimg.com/media/CUDmZIkWcAAIPPe.jpg</td>\n",
       "      <td>1</td>\n",
       "      <td>snail</td>\n",
       "      <td>0.999888</td>\n",
       "      <td>False</td>\n",
       "      <td>slug</td>\n",
       "      <td>5.514170e-05</td>\n",
       "      <td>False</td>\n",
       "      <td>acorn</td>\n",
       "      <td>2.625800e-05</td>\n",
       "      <td>False</td>\n",
       "    </tr>\n",
       "    <tr>\n",
       "      <th>50</th>\n",
       "      <td>666837028449972224</td>\n",
       "      <td>https://pbs.twimg.com/media/CUEUva1WsAA2jPb.jpg</td>\n",
       "      <td>1</td>\n",
       "      <td>triceratops</td>\n",
       "      <td>0.442113</td>\n",
       "      <td>False</td>\n",
       "      <td>armadillo</td>\n",
       "      <td>1.140710e-01</td>\n",
       "      <td>False</td>\n",
       "      <td>common_iguana</td>\n",
       "      <td>4.325530e-02</td>\n",
       "      <td>False</td>\n",
       "    </tr>\n",
       "    <tr>\n",
       "      <th>51</th>\n",
       "      <td>666983947667116034</td>\n",
       "      <td>https://pbs.twimg.com/media/CUGaXDhW4AY9JUH.jpg</td>\n",
       "      <td>1</td>\n",
       "      <td>swab</td>\n",
       "      <td>0.589446</td>\n",
       "      <td>False</td>\n",
       "      <td>chain_saw</td>\n",
       "      <td>1.901420e-01</td>\n",
       "      <td>False</td>\n",
       "      <td>wig</td>\n",
       "      <td>3.450970e-02</td>\n",
       "      <td>False</td>\n",
       "    </tr>\n",
       "    <tr>\n",
       "      <th>53</th>\n",
       "      <td>667012601033924608</td>\n",
       "      <td>https://pbs.twimg.com/media/CUG0bC0U8AAw2su.jpg</td>\n",
       "      <td>1</td>\n",
       "      <td>hyena</td>\n",
       "      <td>0.987230</td>\n",
       "      <td>False</td>\n",
       "      <td>African_hunting_dog</td>\n",
       "      <td>1.260080e-02</td>\n",
       "      <td>False</td>\n",
       "      <td>coyote</td>\n",
       "      <td>5.735010e-05</td>\n",
       "      <td>False</td>\n",
       "    </tr>\n",
       "    <tr>\n",
       "      <th>56</th>\n",
       "      <td>667065535570550784</td>\n",
       "      <td>https://pbs.twimg.com/media/CUHkkJpXIAA2w3n.jpg</td>\n",
       "      <td>1</td>\n",
       "      <td>jigsaw_puzzle</td>\n",
       "      <td>0.560001</td>\n",
       "      <td>False</td>\n",
       "      <td>doormat</td>\n",
       "      <td>1.032590e-01</td>\n",
       "      <td>False</td>\n",
       "      <td>space_heater</td>\n",
       "      <td>4.256800e-02</td>\n",
       "      <td>False</td>\n",
       "    </tr>\n",
       "    <tr>\n",
       "      <th>69</th>\n",
       "      <td>667188689915760640</td>\n",
       "      <td>https://pbs.twimg.com/media/CUJUk2iWUAAVtOv.jpg</td>\n",
       "      <td>1</td>\n",
       "      <td>vacuum</td>\n",
       "      <td>0.335830</td>\n",
       "      <td>False</td>\n",
       "      <td>swab</td>\n",
       "      <td>2.652780e-01</td>\n",
       "      <td>False</td>\n",
       "      <td>toilet_tissue</td>\n",
       "      <td>1.407030e-01</td>\n",
       "      <td>False</td>\n",
       "    </tr>\n",
       "    <tr>\n",
       "      <th>73</th>\n",
       "      <td>667369227918143488</td>\n",
       "      <td>https://pbs.twimg.com/media/CUL4xR9UkAEdlJ6.jpg</td>\n",
       "      <td>1</td>\n",
       "      <td>teddy</td>\n",
       "      <td>0.709545</td>\n",
       "      <td>False</td>\n",
       "      <td>bath_towel</td>\n",
       "      <td>1.272850e-01</td>\n",
       "      <td>False</td>\n",
       "      <td>Christmas_stocking</td>\n",
       "      <td>2.856750e-02</td>\n",
       "      <td>False</td>\n",
       "    </tr>\n",
       "    <tr>\n",
       "      <th>77</th>\n",
       "      <td>667437278097252352</td>\n",
       "      <td>https://pbs.twimg.com/media/CUM2qWaWoAUZ06L.jpg</td>\n",
       "      <td>1</td>\n",
       "      <td>porcupine</td>\n",
       "      <td>0.989154</td>\n",
       "      <td>False</td>\n",
       "      <td>bath_towel</td>\n",
       "      <td>6.300490e-03</td>\n",
       "      <td>False</td>\n",
       "      <td>badger</td>\n",
       "      <td>9.663400e-04</td>\n",
       "      <td>False</td>\n",
       "    </tr>\n",
       "    <tr>\n",
       "      <th>78</th>\n",
       "      <td>667443425659232256</td>\n",
       "      <td>https://pbs.twimg.com/media/CUM8QZwW4AAVsBl.jpg</td>\n",
       "      <td>1</td>\n",
       "      <td>goose</td>\n",
       "      <td>0.980815</td>\n",
       "      <td>False</td>\n",
       "      <td>drake</td>\n",
       "      <td>6.917770e-03</td>\n",
       "      <td>False</td>\n",
       "      <td>hen</td>\n",
       "      <td>5.255170e-03</td>\n",
       "      <td>False</td>\n",
       "    </tr>\n",
       "    <tr>\n",
       "      <th>93</th>\n",
       "      <td>667549055577362432</td>\n",
       "      <td>https://pbs.twimg.com/media/CUOcVCwWsAERUKY.jpg</td>\n",
       "      <td>1</td>\n",
       "      <td>electric_fan</td>\n",
       "      <td>0.984377</td>\n",
       "      <td>False</td>\n",
       "      <td>spotlight</td>\n",
       "      <td>7.736710e-03</td>\n",
       "      <td>False</td>\n",
       "      <td>lampshade</td>\n",
       "      <td>1.901230e-03</td>\n",
       "      <td>False</td>\n",
       "    </tr>\n",
       "    <tr>\n",
       "      <th>94</th>\n",
       "      <td>667550882905632768</td>\n",
       "      <td>https://pbs.twimg.com/media/CUObvUJVEAAnYPF.jpg</td>\n",
       "      <td>1</td>\n",
       "      <td>web_site</td>\n",
       "      <td>0.998258</td>\n",
       "      <td>False</td>\n",
       "      <td>dishwasher</td>\n",
       "      <td>2.010840e-04</td>\n",
       "      <td>False</td>\n",
       "      <td>oscilloscope</td>\n",
       "      <td>1.417360e-04</td>\n",
       "      <td>False</td>\n",
       "    </tr>\n",
       "    <tr>\n",
       "      <th>96</th>\n",
       "      <td>667724302356258817</td>\n",
       "      <td>https://pbs.twimg.com/media/CUQ7tv3W4AA3KlI.jpg</td>\n",
       "      <td>1</td>\n",
       "      <td>ibex</td>\n",
       "      <td>0.619098</td>\n",
       "      <td>False</td>\n",
       "      <td>bighorn</td>\n",
       "      <td>1.251190e-01</td>\n",
       "      <td>False</td>\n",
       "      <td>ram</td>\n",
       "      <td>7.467320e-02</td>\n",
       "      <td>False</td>\n",
       "    </tr>\n",
       "    <tr>\n",
       "      <th>98</th>\n",
       "      <td>667766675769573376</td>\n",
       "      <td>https://pbs.twimg.com/media/CURiQMnUAAAPT2M.jpg</td>\n",
       "      <td>1</td>\n",
       "      <td>fire_engine</td>\n",
       "      <td>0.883493</td>\n",
       "      <td>False</td>\n",
       "      <td>tow_truck</td>\n",
       "      <td>7.473390e-02</td>\n",
       "      <td>False</td>\n",
       "      <td>jeep</td>\n",
       "      <td>1.277260e-02</td>\n",
       "      <td>False</td>\n",
       "    </tr>\n",
       "    <tr>\n",
       "      <th>100</th>\n",
       "      <td>667782464991965184</td>\n",
       "      <td>https://pbs.twimg.com/media/CURwm3cUkAARcO6.jpg</td>\n",
       "      <td>1</td>\n",
       "      <td>lorikeet</td>\n",
       "      <td>0.466149</td>\n",
       "      <td>False</td>\n",
       "      <td>hummingbird</td>\n",
       "      <td>8.301100e-02</td>\n",
       "      <td>False</td>\n",
       "      <td>African_grey</td>\n",
       "      <td>5.424740e-02</td>\n",
       "      <td>False</td>\n",
       "    </tr>\n",
       "    <tr>\n",
       "      <th>106</th>\n",
       "      <td>667866724293877760</td>\n",
       "      <td>https://pbs.twimg.com/media/CUS9PlUWwAANeAD.jpg</td>\n",
       "      <td>1</td>\n",
       "      <td>jigsaw_puzzle</td>\n",
       "      <td>1.000000</td>\n",
       "      <td>False</td>\n",
       "      <td>prayer_rug</td>\n",
       "      <td>1.011300e-08</td>\n",
       "      <td>False</td>\n",
       "      <td>doormat</td>\n",
       "      <td>1.740170e-10</td>\n",
       "      <td>False</td>\n",
       "    </tr>\n",
       "    <tr>\n",
       "      <th>107</th>\n",
       "      <td>667873844930215936</td>\n",
       "      <td>https://pbs.twimg.com/media/CUTDtyGXIAARxus.jpg</td>\n",
       "      <td>1</td>\n",
       "      <td>common_iguana</td>\n",
       "      <td>0.999647</td>\n",
       "      <td>False</td>\n",
       "      <td>frilled_lizard</td>\n",
       "      <td>1.811500e-04</td>\n",
       "      <td>False</td>\n",
       "      <td>African_chameleon</td>\n",
       "      <td>1.283570e-04</td>\n",
       "      <td>False</td>\n",
       "    </tr>\n",
       "    <tr>\n",
       "      <th>112</th>\n",
       "      <td>667911425562669056</td>\n",
       "      <td>https://pbs.twimg.com/media/CUTl5m1WUAAabZG.jpg</td>\n",
       "      <td>1</td>\n",
       "      <td>frilled_lizard</td>\n",
       "      <td>0.257695</td>\n",
       "      <td>False</td>\n",
       "      <td>ox</td>\n",
       "      <td>2.351600e-01</td>\n",
       "      <td>False</td>\n",
       "      <td>triceratops</td>\n",
       "      <td>8.531690e-02</td>\n",
       "      <td>False</td>\n",
       "    </tr>\n",
       "    <tr>\n",
       "      <th>115</th>\n",
       "      <td>667937095915278337</td>\n",
       "      <td>https://pbs.twimg.com/media/CUT9PuQWwAABQv7.jpg</td>\n",
       "      <td>1</td>\n",
       "      <td>hamster</td>\n",
       "      <td>0.172078</td>\n",
       "      <td>False</td>\n",
       "      <td>guinea_pig</td>\n",
       "      <td>9.492420e-02</td>\n",
       "      <td>False</td>\n",
       "      <td>Band_Aid</td>\n",
       "      <td>5.999520e-02</td>\n",
       "      <td>False</td>\n",
       "    </tr>\n",
       "    <tr>\n",
       "      <th>117</th>\n",
       "      <td>668142349051129856</td>\n",
       "      <td>https://pbs.twimg.com/media/CUW37BzWsAAlJlN.jpg</td>\n",
       "      <td>1</td>\n",
       "      <td>Angora</td>\n",
       "      <td>0.918834</td>\n",
       "      <td>False</td>\n",
       "      <td>hen</td>\n",
       "      <td>3.779340e-02</td>\n",
       "      <td>False</td>\n",
       "      <td>wood_rabbit</td>\n",
       "      <td>1.101490e-02</td>\n",
       "      <td>False</td>\n",
       "    </tr>\n",
       "    <tr>\n",
       "      <th>118</th>\n",
       "      <td>668154635664932864</td>\n",
       "      <td>https://pbs.twimg.com/media/CUXDGR2WcAAUQKz.jpg</td>\n",
       "      <td>1</td>\n",
       "      <td>Arctic_fox</td>\n",
       "      <td>0.473584</td>\n",
       "      <td>False</td>\n",
       "      <td>wallaby</td>\n",
       "      <td>2.614110e-01</td>\n",
       "      <td>False</td>\n",
       "      <td>white_wolf</td>\n",
       "      <td>8.094780e-02</td>\n",
       "      <td>False</td>\n",
       "    </tr>\n",
       "    <tr>\n",
       "      <th>123</th>\n",
       "      <td>668226093875376128</td>\n",
       "      <td>https://pbs.twimg.com/media/CUYEFlQXAAUkPGm.jpg</td>\n",
       "      <td>1</td>\n",
       "      <td>trombone</td>\n",
       "      <td>0.390339</td>\n",
       "      <td>False</td>\n",
       "      <td>cornet</td>\n",
       "      <td>3.141490e-01</td>\n",
       "      <td>False</td>\n",
       "      <td>French_horn</td>\n",
       "      <td>2.551820e-01</td>\n",
       "      <td>False</td>\n",
       "    </tr>\n",
       "    <tr>\n",
       "      <th>130</th>\n",
       "      <td>668291999406125056</td>\n",
       "      <td>https://pbs.twimg.com/media/CUZABzGW4AE5F0k.jpg</td>\n",
       "      <td>1</td>\n",
       "      <td>web_site</td>\n",
       "      <td>0.995535</td>\n",
       "      <td>False</td>\n",
       "      <td>skunk</td>\n",
       "      <td>1.363490e-03</td>\n",
       "      <td>False</td>\n",
       "      <td>badger</td>\n",
       "      <td>6.856500e-04</td>\n",
       "      <td>False</td>\n",
       "    </tr>\n",
       "    <tr>\n",
       "      <th>132</th>\n",
       "      <td>668466899341221888</td>\n",
       "      <td>https://pbs.twimg.com/media/CUbfGbbWoAApZth.jpg</td>\n",
       "      <td>1</td>\n",
       "      <td>shopping_basket</td>\n",
       "      <td>0.398361</td>\n",
       "      <td>False</td>\n",
       "      <td>hamper</td>\n",
       "      <td>3.632220e-01</td>\n",
       "      <td>False</td>\n",
       "      <td>bassinet</td>\n",
       "      <td>8.417350e-02</td>\n",
       "      <td>False</td>\n",
       "    </tr>\n",
       "    <tr>\n",
       "      <th>140</th>\n",
       "      <td>668544745690562560</td>\n",
       "      <td>https://pbs.twimg.com/media/CUcl5jeWsAA6ufS.jpg</td>\n",
       "      <td>1</td>\n",
       "      <td>bearskin</td>\n",
       "      <td>0.427870</td>\n",
       "      <td>False</td>\n",
       "      <td>bow</td>\n",
       "      <td>2.588580e-01</td>\n",
       "      <td>False</td>\n",
       "      <td>panpipe</td>\n",
       "      <td>2.156260e-02</td>\n",
       "      <td>False</td>\n",
       "    </tr>\n",
       "    <tr>\n",
       "      <th>...</th>\n",
       "      <td>...</td>\n",
       "      <td>...</td>\n",
       "      <td>...</td>\n",
       "      <td>...</td>\n",
       "      <td>...</td>\n",
       "      <td>...</td>\n",
       "      <td>...</td>\n",
       "      <td>...</td>\n",
       "      <td>...</td>\n",
       "      <td>...</td>\n",
       "      <td>...</td>\n",
       "      <td>...</td>\n",
       "    </tr>\n",
       "    <tr>\n",
       "      <th>1839</th>\n",
       "      <td>837482249356513284</td>\n",
       "      <td>https://pbs.twimg.com/media/C59VqMUXEAAzldG.jpg</td>\n",
       "      <td>2</td>\n",
       "      <td>birdhouse</td>\n",
       "      <td>0.541196</td>\n",
       "      <td>False</td>\n",
       "      <td>can_opener</td>\n",
       "      <td>1.210940e-01</td>\n",
       "      <td>False</td>\n",
       "      <td>carton</td>\n",
       "      <td>5.613670e-02</td>\n",
       "      <td>False</td>\n",
       "    </tr>\n",
       "    <tr>\n",
       "      <th>1844</th>\n",
       "      <td>838916489579200512</td>\n",
       "      <td>https://pbs.twimg.com/media/C6RkiQZUsAAM4R4.jpg</td>\n",
       "      <td>2</td>\n",
       "      <td>web_site</td>\n",
       "      <td>0.993651</td>\n",
       "      <td>False</td>\n",
       "      <td>monitor</td>\n",
       "      <td>1.405900e-03</td>\n",
       "      <td>False</td>\n",
       "      <td>envelope</td>\n",
       "      <td>1.093090e-03</td>\n",
       "      <td>False</td>\n",
       "    </tr>\n",
       "    <tr>\n",
       "      <th>1847</th>\n",
       "      <td>839290600511926273</td>\n",
       "      <td>https://pbs.twimg.com/media/C6XBt9XXEAEEW9U.jpg</td>\n",
       "      <td>1</td>\n",
       "      <td>web_site</td>\n",
       "      <td>0.670892</td>\n",
       "      <td>False</td>\n",
       "      <td>monitor</td>\n",
       "      <td>1.015650e-01</td>\n",
       "      <td>False</td>\n",
       "      <td>screen</td>\n",
       "      <td>7.530610e-02</td>\n",
       "      <td>False</td>\n",
       "    </tr>\n",
       "    <tr>\n",
       "      <th>1851</th>\n",
       "      <td>840370681858686976</td>\n",
       "      <td>https://pbs.twimg.com/media/C6mYrK0UwAANhep.jpg</td>\n",
       "      <td>1</td>\n",
       "      <td>teapot</td>\n",
       "      <td>0.981819</td>\n",
       "      <td>False</td>\n",
       "      <td>cup</td>\n",
       "      <td>1.402580e-02</td>\n",
       "      <td>False</td>\n",
       "      <td>coffeepot</td>\n",
       "      <td>2.420540e-03</td>\n",
       "      <td>False</td>\n",
       "    </tr>\n",
       "    <tr>\n",
       "      <th>1853</th>\n",
       "      <td>840696689258311684</td>\n",
       "      <td>https://pbs.twimg.com/media/C6rBLenU0AAr8MN.jpg</td>\n",
       "      <td>1</td>\n",
       "      <td>web_site</td>\n",
       "      <td>0.841768</td>\n",
       "      <td>False</td>\n",
       "      <td>rule</td>\n",
       "      <td>7.087310e-03</td>\n",
       "      <td>False</td>\n",
       "      <td>envelope</td>\n",
       "      <td>6.820300e-03</td>\n",
       "      <td>False</td>\n",
       "    </tr>\n",
       "    <tr>\n",
       "      <th>1869</th>\n",
       "      <td>844580511645339650</td>\n",
       "      <td>https://pbs.twimg.com/media/C7iNfq1W0AAcbsR.jpg</td>\n",
       "      <td>1</td>\n",
       "      <td>washer</td>\n",
       "      <td>0.903064</td>\n",
       "      <td>False</td>\n",
       "      <td>dishwasher</td>\n",
       "      <td>3.248900e-02</td>\n",
       "      <td>False</td>\n",
       "      <td>printer</td>\n",
       "      <td>1.645620e-02</td>\n",
       "      <td>False</td>\n",
       "    </tr>\n",
       "    <tr>\n",
       "      <th>1886</th>\n",
       "      <td>847962785489326080</td>\n",
       "      <td>https://pbs.twimg.com/media/C8SRpHNUIAARB3j.jpg</td>\n",
       "      <td>1</td>\n",
       "      <td>sea_lion</td>\n",
       "      <td>0.882654</td>\n",
       "      <td>False</td>\n",
       "      <td>mink</td>\n",
       "      <td>6.688020e-02</td>\n",
       "      <td>False</td>\n",
       "      <td>otter</td>\n",
       "      <td>2.567870e-02</td>\n",
       "      <td>False</td>\n",
       "    </tr>\n",
       "    <tr>\n",
       "      <th>1887</th>\n",
       "      <td>847971574464610304</td>\n",
       "      <td>https://pbs.twimg.com/media/C8SZH1EWAAAIRRF.jpg</td>\n",
       "      <td>1</td>\n",
       "      <td>coffee_mug</td>\n",
       "      <td>0.633652</td>\n",
       "      <td>False</td>\n",
       "      <td>cup</td>\n",
       "      <td>2.733920e-01</td>\n",
       "      <td>False</td>\n",
       "      <td>toilet_tissue</td>\n",
       "      <td>6.665580e-02</td>\n",
       "      <td>False</td>\n",
       "    </tr>\n",
       "    <tr>\n",
       "      <th>1891</th>\n",
       "      <td>849051919805034497</td>\n",
       "      <td>https://pbs.twimg.com/media/C8hwNxbXYAAwyVG.jpg</td>\n",
       "      <td>1</td>\n",
       "      <td>fountain</td>\n",
       "      <td>0.997509</td>\n",
       "      <td>False</td>\n",
       "      <td>American_black_bear</td>\n",
       "      <td>1.413120e-03</td>\n",
       "      <td>False</td>\n",
       "      <td>sundial</td>\n",
       "      <td>6.811150e-04</td>\n",
       "      <td>False</td>\n",
       "    </tr>\n",
       "    <tr>\n",
       "      <th>1892</th>\n",
       "      <td>849336543269576704</td>\n",
       "      <td>https://pbs.twimg.com/media/C8lzFC4XcAAQxB4.jpg</td>\n",
       "      <td>1</td>\n",
       "      <td>patio</td>\n",
       "      <td>0.521788</td>\n",
       "      <td>False</td>\n",
       "      <td>prison</td>\n",
       "      <td>1.495440e-01</td>\n",
       "      <td>False</td>\n",
       "      <td>restaurant</td>\n",
       "      <td>2.715260e-02</td>\n",
       "      <td>False</td>\n",
       "    </tr>\n",
       "    <tr>\n",
       "      <th>1900</th>\n",
       "      <td>851464819735769094</td>\n",
       "      <td>https://pbs.twimg.com/media/C9ECujZXsAAPCSM.jpg</td>\n",
       "      <td>2</td>\n",
       "      <td>web_site</td>\n",
       "      <td>0.919649</td>\n",
       "      <td>False</td>\n",
       "      <td>menu</td>\n",
       "      <td>2.630610e-02</td>\n",
       "      <td>False</td>\n",
       "      <td>crossword_puzzle</td>\n",
       "      <td>3.481510e-03</td>\n",
       "      <td>False</td>\n",
       "    </tr>\n",
       "    <tr>\n",
       "      <th>1902</th>\n",
       "      <td>851861385021730816</td>\n",
       "      <td>https://pbs.twimg.com/media/C8W6sY_W0AEmttW.jpg</td>\n",
       "      <td>1</td>\n",
       "      <td>pencil_box</td>\n",
       "      <td>0.662183</td>\n",
       "      <td>False</td>\n",
       "      <td>purse</td>\n",
       "      <td>6.650550e-02</td>\n",
       "      <td>False</td>\n",
       "      <td>pillow</td>\n",
       "      <td>4.472530e-02</td>\n",
       "      <td>False</td>\n",
       "    </tr>\n",
       "    <tr>\n",
       "      <th>1905</th>\n",
       "      <td>852226086759018497</td>\n",
       "      <td>https://pbs.twimg.com/ext_tw_video_thumb/85222...</td>\n",
       "      <td>1</td>\n",
       "      <td>prison</td>\n",
       "      <td>0.352793</td>\n",
       "      <td>False</td>\n",
       "      <td>dishwasher</td>\n",
       "      <td>1.107230e-01</td>\n",
       "      <td>False</td>\n",
       "      <td>file</td>\n",
       "      <td>9.411200e-02</td>\n",
       "      <td>False</td>\n",
       "    </tr>\n",
       "    <tr>\n",
       "      <th>1906</th>\n",
       "      <td>852311364735569921</td>\n",
       "      <td>https://pbs.twimg.com/media/C9QEqZ7XYAIR7fS.jpg</td>\n",
       "      <td>1</td>\n",
       "      <td>barbell</td>\n",
       "      <td>0.971581</td>\n",
       "      <td>False</td>\n",
       "      <td>dumbbell</td>\n",
       "      <td>2.841790e-02</td>\n",
       "      <td>False</td>\n",
       "      <td>go-kart</td>\n",
       "      <td>5.595040e-07</td>\n",
       "      <td>False</td>\n",
       "    </tr>\n",
       "    <tr>\n",
       "      <th>1910</th>\n",
       "      <td>853299958564483072</td>\n",
       "      <td>https://pbs.twimg.com/media/C9eHyF7XgAAOxPM.jpg</td>\n",
       "      <td>1</td>\n",
       "      <td>grille</td>\n",
       "      <td>0.652280</td>\n",
       "      <td>False</td>\n",
       "      <td>beach_wagon</td>\n",
       "      <td>1.128460e-01</td>\n",
       "      <td>False</td>\n",
       "      <td>convertible</td>\n",
       "      <td>8.625230e-02</td>\n",
       "      <td>False</td>\n",
       "    </tr>\n",
       "    <tr>\n",
       "      <th>1931</th>\n",
       "      <td>859074603037188101</td>\n",
       "      <td>https://pbs.twimg.com/media/C-wLyufW0AA546I.jpg</td>\n",
       "      <td>1</td>\n",
       "      <td>revolver</td>\n",
       "      <td>0.190292</td>\n",
       "      <td>False</td>\n",
       "      <td>projectile</td>\n",
       "      <td>1.490640e-01</td>\n",
       "      <td>False</td>\n",
       "      <td>fountain</td>\n",
       "      <td>6.604660e-02</td>\n",
       "      <td>False</td>\n",
       "    </tr>\n",
       "    <tr>\n",
       "      <th>1936</th>\n",
       "      <td>860184849394610176</td>\n",
       "      <td>https://pbs.twimg.com/media/C-_9jWWUwAAnwkd.jpg</td>\n",
       "      <td>1</td>\n",
       "      <td>chimpanzee</td>\n",
       "      <td>0.267612</td>\n",
       "      <td>False</td>\n",
       "      <td>gorilla</td>\n",
       "      <td>1.042930e-01</td>\n",
       "      <td>False</td>\n",
       "      <td>orangutan</td>\n",
       "      <td>5.990750e-02</td>\n",
       "      <td>False</td>\n",
       "    </tr>\n",
       "    <tr>\n",
       "      <th>1937</th>\n",
       "      <td>860276583193509888</td>\n",
       "      <td>https://pbs.twimg.com/media/C_BQ_NlVwAAgYGD.jpg</td>\n",
       "      <td>1</td>\n",
       "      <td>lakeside</td>\n",
       "      <td>0.312299</td>\n",
       "      <td>False</td>\n",
       "      <td>dock</td>\n",
       "      <td>1.598420e-01</td>\n",
       "      <td>False</td>\n",
       "      <td>canoe</td>\n",
       "      <td>7.079450e-02</td>\n",
       "      <td>False</td>\n",
       "    </tr>\n",
       "    <tr>\n",
       "      <th>1940</th>\n",
       "      <td>860924035999428608</td>\n",
       "      <td>https://pbs.twimg.com/media/C_KVJjDXsAEUCWn.jpg</td>\n",
       "      <td>2</td>\n",
       "      <td>envelope</td>\n",
       "      <td>0.933016</td>\n",
       "      <td>False</td>\n",
       "      <td>oscilloscope</td>\n",
       "      <td>1.259140e-02</td>\n",
       "      <td>False</td>\n",
       "      <td>paper_towel</td>\n",
       "      <td>1.117850e-02</td>\n",
       "      <td>False</td>\n",
       "    </tr>\n",
       "    <tr>\n",
       "      <th>1946</th>\n",
       "      <td>862457590147678208</td>\n",
       "      <td>https://pbs.twimg.com/media/C_gQmaTUMAAPYSS.jpg</td>\n",
       "      <td>1</td>\n",
       "      <td>home_theater</td>\n",
       "      <td>0.496348</td>\n",
       "      <td>False</td>\n",
       "      <td>studio_couch</td>\n",
       "      <td>1.672560e-01</td>\n",
       "      <td>False</td>\n",
       "      <td>barber_chair</td>\n",
       "      <td>5.262500e-02</td>\n",
       "      <td>False</td>\n",
       "    </tr>\n",
       "    <tr>\n",
       "      <th>1953</th>\n",
       "      <td>863907417377173506</td>\n",
       "      <td>https://pbs.twimg.com/media/C_03NPeUQAAgrMl.jpg</td>\n",
       "      <td>1</td>\n",
       "      <td>marmot</td>\n",
       "      <td>0.358828</td>\n",
       "      <td>False</td>\n",
       "      <td>meerkat</td>\n",
       "      <td>1.747030e-01</td>\n",
       "      <td>False</td>\n",
       "      <td>weasel</td>\n",
       "      <td>1.234850e-01</td>\n",
       "      <td>False</td>\n",
       "    </tr>\n",
       "    <tr>\n",
       "      <th>1956</th>\n",
       "      <td>864873206498414592</td>\n",
       "      <td>https://pbs.twimg.com/media/DAClmHkXcAA1kSv.jpg</td>\n",
       "      <td>2</td>\n",
       "      <td>pole</td>\n",
       "      <td>0.478616</td>\n",
       "      <td>False</td>\n",
       "      <td>lakeside</td>\n",
       "      <td>1.141820e-01</td>\n",
       "      <td>False</td>\n",
       "      <td>wreck</td>\n",
       "      <td>5.592650e-02</td>\n",
       "      <td>False</td>\n",
       "    </tr>\n",
       "    <tr>\n",
       "      <th>1975</th>\n",
       "      <td>870063196459192321</td>\n",
       "      <td>https://pbs.twimg.com/media/DBMV3NnXUAAm0Pp.jpg</td>\n",
       "      <td>1</td>\n",
       "      <td>comic_book</td>\n",
       "      <td>0.534409</td>\n",
       "      <td>False</td>\n",
       "      <td>envelope</td>\n",
       "      <td>2.807220e-01</td>\n",
       "      <td>False</td>\n",
       "      <td>book_jacket</td>\n",
       "      <td>4.378550e-02</td>\n",
       "      <td>False</td>\n",
       "    </tr>\n",
       "    <tr>\n",
       "      <th>1979</th>\n",
       "      <td>870804317367881728</td>\n",
       "      <td>https://pbs.twimg.com/media/DBW35ZsVoAEWZUU.jpg</td>\n",
       "      <td>1</td>\n",
       "      <td>home_theater</td>\n",
       "      <td>0.168290</td>\n",
       "      <td>False</td>\n",
       "      <td>sandbar</td>\n",
       "      <td>9.804040e-02</td>\n",
       "      <td>False</td>\n",
       "      <td>television</td>\n",
       "      <td>7.972940e-02</td>\n",
       "      <td>False</td>\n",
       "    </tr>\n",
       "    <tr>\n",
       "      <th>2012</th>\n",
       "      <td>879050749262655488</td>\n",
       "      <td>https://pbs.twimg.com/media/DDMD_phXoAQ1qf0.jpg</td>\n",
       "      <td>1</td>\n",
       "      <td>tabby</td>\n",
       "      <td>0.311861</td>\n",
       "      <td>False</td>\n",
       "      <td>window_screen</td>\n",
       "      <td>1.691230e-01</td>\n",
       "      <td>False</td>\n",
       "      <td>Egyptian_cat</td>\n",
       "      <td>1.329320e-01</td>\n",
       "      <td>False</td>\n",
       "    </tr>\n",
       "    <tr>\n",
       "      <th>2021</th>\n",
       "      <td>880935762899988482</td>\n",
       "      <td>https://pbs.twimg.com/media/DDm2Z5aXUAEDS2u.jpg</td>\n",
       "      <td>1</td>\n",
       "      <td>street_sign</td>\n",
       "      <td>0.251801</td>\n",
       "      <td>False</td>\n",
       "      <td>umbrella</td>\n",
       "      <td>1.151230e-01</td>\n",
       "      <td>False</td>\n",
       "      <td>traffic_light</td>\n",
       "      <td>6.953380e-02</td>\n",
       "      <td>False</td>\n",
       "    </tr>\n",
       "    <tr>\n",
       "      <th>2022</th>\n",
       "      <td>881268444196462592</td>\n",
       "      <td>https://pbs.twimg.com/media/DDrk-f9WAAI-WQv.jpg</td>\n",
       "      <td>1</td>\n",
       "      <td>tusker</td>\n",
       "      <td>0.473303</td>\n",
       "      <td>False</td>\n",
       "      <td>Indian_elephant</td>\n",
       "      <td>2.456460e-01</td>\n",
       "      <td>False</td>\n",
       "      <td>ibex</td>\n",
       "      <td>5.566070e-02</td>\n",
       "      <td>False</td>\n",
       "    </tr>\n",
       "    <tr>\n",
       "      <th>2046</th>\n",
       "      <td>886680336477933568</td>\n",
       "      <td>https://pbs.twimg.com/media/DE4fEDzWAAAyHMM.jpg</td>\n",
       "      <td>1</td>\n",
       "      <td>convertible</td>\n",
       "      <td>0.738995</td>\n",
       "      <td>False</td>\n",
       "      <td>sports_car</td>\n",
       "      <td>1.399520e-01</td>\n",
       "      <td>False</td>\n",
       "      <td>car_wheel</td>\n",
       "      <td>4.417270e-02</td>\n",
       "      <td>False</td>\n",
       "    </tr>\n",
       "    <tr>\n",
       "      <th>2052</th>\n",
       "      <td>887517139158093824</td>\n",
       "      <td>https://pbs.twimg.com/ext_tw_video_thumb/88751...</td>\n",
       "      <td>1</td>\n",
       "      <td>limousine</td>\n",
       "      <td>0.130432</td>\n",
       "      <td>False</td>\n",
       "      <td>tow_truck</td>\n",
       "      <td>2.917540e-02</td>\n",
       "      <td>False</td>\n",
       "      <td>shopping_cart</td>\n",
       "      <td>2.632080e-02</td>\n",
       "      <td>False</td>\n",
       "    </tr>\n",
       "    <tr>\n",
       "      <th>2074</th>\n",
       "      <td>892420643555336193</td>\n",
       "      <td>https://pbs.twimg.com/media/DGKD1-bXoAAIAUK.jpg</td>\n",
       "      <td>1</td>\n",
       "      <td>orange</td>\n",
       "      <td>0.097049</td>\n",
       "      <td>False</td>\n",
       "      <td>bagel</td>\n",
       "      <td>8.585110e-02</td>\n",
       "      <td>False</td>\n",
       "      <td>banana</td>\n",
       "      <td>7.611000e-02</td>\n",
       "      <td>False</td>\n",
       "    </tr>\n",
       "  </tbody>\n",
       "</table>\n",
       "<p>324 rows × 12 columns</p>\n",
       "</div>"
      ],
      "text/plain": [
       "                tweet_id                                            jpg_url  \\\n",
       "6     666051853826850816    https://pbs.twimg.com/media/CT5KoJ1WoAAJash.jpg   \n",
       "17    666104133288665088    https://pbs.twimg.com/media/CT56LSZWoAAlJj2.jpg   \n",
       "18    666268910803644416    https://pbs.twimg.com/media/CT8QCd1WEAADXws.jpg   \n",
       "21    666293911632134144    https://pbs.twimg.com/media/CT8mx7KW4AEQu8N.jpg   \n",
       "25    666362758909284353    https://pbs.twimg.com/media/CT9lXGsUcAAyUFt.jpg   \n",
       "29    666411507551481857    https://pbs.twimg.com/media/CT-RugiWIAELEaq.jpg   \n",
       "45    666786068205871104    https://pbs.twimg.com/media/CUDmZIkWcAAIPPe.jpg   \n",
       "50    666837028449972224    https://pbs.twimg.com/media/CUEUva1WsAA2jPb.jpg   \n",
       "51    666983947667116034    https://pbs.twimg.com/media/CUGaXDhW4AY9JUH.jpg   \n",
       "53    667012601033924608    https://pbs.twimg.com/media/CUG0bC0U8AAw2su.jpg   \n",
       "56    667065535570550784    https://pbs.twimg.com/media/CUHkkJpXIAA2w3n.jpg   \n",
       "69    667188689915760640    https://pbs.twimg.com/media/CUJUk2iWUAAVtOv.jpg   \n",
       "73    667369227918143488    https://pbs.twimg.com/media/CUL4xR9UkAEdlJ6.jpg   \n",
       "77    667437278097252352    https://pbs.twimg.com/media/CUM2qWaWoAUZ06L.jpg   \n",
       "78    667443425659232256    https://pbs.twimg.com/media/CUM8QZwW4AAVsBl.jpg   \n",
       "93    667549055577362432    https://pbs.twimg.com/media/CUOcVCwWsAERUKY.jpg   \n",
       "94    667550882905632768    https://pbs.twimg.com/media/CUObvUJVEAAnYPF.jpg   \n",
       "96    667724302356258817    https://pbs.twimg.com/media/CUQ7tv3W4AA3KlI.jpg   \n",
       "98    667766675769573376    https://pbs.twimg.com/media/CURiQMnUAAAPT2M.jpg   \n",
       "100   667782464991965184    https://pbs.twimg.com/media/CURwm3cUkAARcO6.jpg   \n",
       "106   667866724293877760    https://pbs.twimg.com/media/CUS9PlUWwAANeAD.jpg   \n",
       "107   667873844930215936    https://pbs.twimg.com/media/CUTDtyGXIAARxus.jpg   \n",
       "112   667911425562669056    https://pbs.twimg.com/media/CUTl5m1WUAAabZG.jpg   \n",
       "115   667937095915278337    https://pbs.twimg.com/media/CUT9PuQWwAABQv7.jpg   \n",
       "117   668142349051129856    https://pbs.twimg.com/media/CUW37BzWsAAlJlN.jpg   \n",
       "118   668154635664932864    https://pbs.twimg.com/media/CUXDGR2WcAAUQKz.jpg   \n",
       "123   668226093875376128    https://pbs.twimg.com/media/CUYEFlQXAAUkPGm.jpg   \n",
       "130   668291999406125056    https://pbs.twimg.com/media/CUZABzGW4AE5F0k.jpg   \n",
       "132   668466899341221888    https://pbs.twimg.com/media/CUbfGbbWoAApZth.jpg   \n",
       "140   668544745690562560    https://pbs.twimg.com/media/CUcl5jeWsAA6ufS.jpg   \n",
       "...                  ...                                                ...   \n",
       "1839  837482249356513284    https://pbs.twimg.com/media/C59VqMUXEAAzldG.jpg   \n",
       "1844  838916489579200512    https://pbs.twimg.com/media/C6RkiQZUsAAM4R4.jpg   \n",
       "1847  839290600511926273    https://pbs.twimg.com/media/C6XBt9XXEAEEW9U.jpg   \n",
       "1851  840370681858686976    https://pbs.twimg.com/media/C6mYrK0UwAANhep.jpg   \n",
       "1853  840696689258311684    https://pbs.twimg.com/media/C6rBLenU0AAr8MN.jpg   \n",
       "1869  844580511645339650    https://pbs.twimg.com/media/C7iNfq1W0AAcbsR.jpg   \n",
       "1886  847962785489326080    https://pbs.twimg.com/media/C8SRpHNUIAARB3j.jpg   \n",
       "1887  847971574464610304    https://pbs.twimg.com/media/C8SZH1EWAAAIRRF.jpg   \n",
       "1891  849051919805034497    https://pbs.twimg.com/media/C8hwNxbXYAAwyVG.jpg   \n",
       "1892  849336543269576704    https://pbs.twimg.com/media/C8lzFC4XcAAQxB4.jpg   \n",
       "1900  851464819735769094    https://pbs.twimg.com/media/C9ECujZXsAAPCSM.jpg   \n",
       "1902  851861385021730816    https://pbs.twimg.com/media/C8W6sY_W0AEmttW.jpg   \n",
       "1905  852226086759018497  https://pbs.twimg.com/ext_tw_video_thumb/85222...   \n",
       "1906  852311364735569921    https://pbs.twimg.com/media/C9QEqZ7XYAIR7fS.jpg   \n",
       "1910  853299958564483072    https://pbs.twimg.com/media/C9eHyF7XgAAOxPM.jpg   \n",
       "1931  859074603037188101    https://pbs.twimg.com/media/C-wLyufW0AA546I.jpg   \n",
       "1936  860184849394610176    https://pbs.twimg.com/media/C-_9jWWUwAAnwkd.jpg   \n",
       "1937  860276583193509888    https://pbs.twimg.com/media/C_BQ_NlVwAAgYGD.jpg   \n",
       "1940  860924035999428608    https://pbs.twimg.com/media/C_KVJjDXsAEUCWn.jpg   \n",
       "1946  862457590147678208    https://pbs.twimg.com/media/C_gQmaTUMAAPYSS.jpg   \n",
       "1953  863907417377173506    https://pbs.twimg.com/media/C_03NPeUQAAgrMl.jpg   \n",
       "1956  864873206498414592    https://pbs.twimg.com/media/DAClmHkXcAA1kSv.jpg   \n",
       "1975  870063196459192321    https://pbs.twimg.com/media/DBMV3NnXUAAm0Pp.jpg   \n",
       "1979  870804317367881728    https://pbs.twimg.com/media/DBW35ZsVoAEWZUU.jpg   \n",
       "2012  879050749262655488    https://pbs.twimg.com/media/DDMD_phXoAQ1qf0.jpg   \n",
       "2021  880935762899988482    https://pbs.twimg.com/media/DDm2Z5aXUAEDS2u.jpg   \n",
       "2022  881268444196462592    https://pbs.twimg.com/media/DDrk-f9WAAI-WQv.jpg   \n",
       "2046  886680336477933568    https://pbs.twimg.com/media/DE4fEDzWAAAyHMM.jpg   \n",
       "2052  887517139158093824  https://pbs.twimg.com/ext_tw_video_thumb/88751...   \n",
       "2074  892420643555336193    https://pbs.twimg.com/media/DGKD1-bXoAAIAUK.jpg   \n",
       "\n",
       "      img_num                p1   p1_conf  p1_dog                   p2  \\\n",
       "6           1        box_turtle  0.933012   False           mud_turtle   \n",
       "17          1               hen  0.965932   False                 cock   \n",
       "18          1  desktop_computer  0.086502   False                 desk   \n",
       "21          1  three-toed_sloth  0.914671   False                otter   \n",
       "25          1        guinea_pig  0.996496   False                skunk   \n",
       "29          1              coho  0.404640   False           barracouta   \n",
       "45          1             snail  0.999888   False                 slug   \n",
       "50          1       triceratops  0.442113   False            armadillo   \n",
       "51          1              swab  0.589446   False            chain_saw   \n",
       "53          1             hyena  0.987230   False  African_hunting_dog   \n",
       "56          1     jigsaw_puzzle  0.560001   False              doormat   \n",
       "69          1            vacuum  0.335830   False                 swab   \n",
       "73          1             teddy  0.709545   False           bath_towel   \n",
       "77          1         porcupine  0.989154   False           bath_towel   \n",
       "78          1             goose  0.980815   False                drake   \n",
       "93          1      electric_fan  0.984377   False            spotlight   \n",
       "94          1          web_site  0.998258   False           dishwasher   \n",
       "96          1              ibex  0.619098   False              bighorn   \n",
       "98          1       fire_engine  0.883493   False            tow_truck   \n",
       "100         1          lorikeet  0.466149   False          hummingbird   \n",
       "106         1     jigsaw_puzzle  1.000000   False           prayer_rug   \n",
       "107         1     common_iguana  0.999647   False       frilled_lizard   \n",
       "112         1    frilled_lizard  0.257695   False                   ox   \n",
       "115         1           hamster  0.172078   False           guinea_pig   \n",
       "117         1            Angora  0.918834   False                  hen   \n",
       "118         1        Arctic_fox  0.473584   False              wallaby   \n",
       "123         1          trombone  0.390339   False               cornet   \n",
       "130         1          web_site  0.995535   False                skunk   \n",
       "132         1   shopping_basket  0.398361   False               hamper   \n",
       "140         1          bearskin  0.427870   False                  bow   \n",
       "...       ...               ...       ...     ...                  ...   \n",
       "1839        2         birdhouse  0.541196   False           can_opener   \n",
       "1844        2          web_site  0.993651   False              monitor   \n",
       "1847        1          web_site  0.670892   False              monitor   \n",
       "1851        1            teapot  0.981819   False                  cup   \n",
       "1853        1          web_site  0.841768   False                 rule   \n",
       "1869        1            washer  0.903064   False           dishwasher   \n",
       "1886        1          sea_lion  0.882654   False                 mink   \n",
       "1887        1        coffee_mug  0.633652   False                  cup   \n",
       "1891        1          fountain  0.997509   False  American_black_bear   \n",
       "1892        1             patio  0.521788   False               prison   \n",
       "1900        2          web_site  0.919649   False                 menu   \n",
       "1902        1        pencil_box  0.662183   False                purse   \n",
       "1905        1            prison  0.352793   False           dishwasher   \n",
       "1906        1           barbell  0.971581   False             dumbbell   \n",
       "1910        1            grille  0.652280   False          beach_wagon   \n",
       "1931        1          revolver  0.190292   False           projectile   \n",
       "1936        1        chimpanzee  0.267612   False              gorilla   \n",
       "1937        1          lakeside  0.312299   False                 dock   \n",
       "1940        2          envelope  0.933016   False         oscilloscope   \n",
       "1946        1      home_theater  0.496348   False         studio_couch   \n",
       "1953        1            marmot  0.358828   False              meerkat   \n",
       "1956        2              pole  0.478616   False             lakeside   \n",
       "1975        1        comic_book  0.534409   False             envelope   \n",
       "1979        1      home_theater  0.168290   False              sandbar   \n",
       "2012        1             tabby  0.311861   False        window_screen   \n",
       "2021        1       street_sign  0.251801   False             umbrella   \n",
       "2022        1            tusker  0.473303   False      Indian_elephant   \n",
       "2046        1       convertible  0.738995   False           sports_car   \n",
       "2052        1         limousine  0.130432   False            tow_truck   \n",
       "2074        1            orange  0.097049   False                bagel   \n",
       "\n",
       "           p2_conf  p2_dog                  p3       p3_conf  p3_dog  \n",
       "6     4.588540e-02   False            terrapin  1.788530e-02   False  \n",
       "17    3.391940e-02   False           partridge  5.206580e-05   False  \n",
       "18    8.554740e-02   False            bookcase  7.947970e-02   False  \n",
       "21    1.525000e-02   False      great_grey_owl  1.320720e-02   False  \n",
       "25    2.402450e-03   False             hamster  4.608630e-04   False  \n",
       "29    2.714850e-01   False                 gar  1.899450e-01   False  \n",
       "45    5.514170e-05   False               acorn  2.625800e-05   False  \n",
       "50    1.140710e-01   False       common_iguana  4.325530e-02   False  \n",
       "51    1.901420e-01   False                 wig  3.450970e-02   False  \n",
       "53    1.260080e-02   False              coyote  5.735010e-05   False  \n",
       "56    1.032590e-01   False        space_heater  4.256800e-02   False  \n",
       "69    2.652780e-01   False       toilet_tissue  1.407030e-01   False  \n",
       "73    1.272850e-01   False  Christmas_stocking  2.856750e-02   False  \n",
       "77    6.300490e-03   False              badger  9.663400e-04   False  \n",
       "78    6.917770e-03   False                 hen  5.255170e-03   False  \n",
       "93    7.736710e-03   False           lampshade  1.901230e-03   False  \n",
       "94    2.010840e-04   False        oscilloscope  1.417360e-04   False  \n",
       "96    1.251190e-01   False                 ram  7.467320e-02   False  \n",
       "98    7.473390e-02   False                jeep  1.277260e-02   False  \n",
       "100   8.301100e-02   False        African_grey  5.424740e-02   False  \n",
       "106   1.011300e-08   False             doormat  1.740170e-10   False  \n",
       "107   1.811500e-04   False   African_chameleon  1.283570e-04   False  \n",
       "112   2.351600e-01   False         triceratops  8.531690e-02   False  \n",
       "115   9.492420e-02   False            Band_Aid  5.999520e-02   False  \n",
       "117   3.779340e-02   False         wood_rabbit  1.101490e-02   False  \n",
       "118   2.614110e-01   False          white_wolf  8.094780e-02   False  \n",
       "123   3.141490e-01   False         French_horn  2.551820e-01   False  \n",
       "130   1.363490e-03   False              badger  6.856500e-04   False  \n",
       "132   3.632220e-01   False            bassinet  8.417350e-02   False  \n",
       "140   2.588580e-01   False             panpipe  2.156260e-02   False  \n",
       "...            ...     ...                 ...           ...     ...  \n",
       "1839  1.210940e-01   False              carton  5.613670e-02   False  \n",
       "1844  1.405900e-03   False            envelope  1.093090e-03   False  \n",
       "1847  1.015650e-01   False              screen  7.530610e-02   False  \n",
       "1851  1.402580e-02   False           coffeepot  2.420540e-03   False  \n",
       "1853  7.087310e-03   False            envelope  6.820300e-03   False  \n",
       "1869  3.248900e-02   False             printer  1.645620e-02   False  \n",
       "1886  6.688020e-02   False               otter  2.567870e-02   False  \n",
       "1887  2.733920e-01   False       toilet_tissue  6.665580e-02   False  \n",
       "1891  1.413120e-03   False             sundial  6.811150e-04   False  \n",
       "1892  1.495440e-01   False          restaurant  2.715260e-02   False  \n",
       "1900  2.630610e-02   False    crossword_puzzle  3.481510e-03   False  \n",
       "1902  6.650550e-02   False              pillow  4.472530e-02   False  \n",
       "1905  1.107230e-01   False                file  9.411200e-02   False  \n",
       "1906  2.841790e-02   False             go-kart  5.595040e-07   False  \n",
       "1910  1.128460e-01   False         convertible  8.625230e-02   False  \n",
       "1931  1.490640e-01   False            fountain  6.604660e-02   False  \n",
       "1936  1.042930e-01   False           orangutan  5.990750e-02   False  \n",
       "1937  1.598420e-01   False               canoe  7.079450e-02   False  \n",
       "1940  1.259140e-02   False         paper_towel  1.117850e-02   False  \n",
       "1946  1.672560e-01   False        barber_chair  5.262500e-02   False  \n",
       "1953  1.747030e-01   False              weasel  1.234850e-01   False  \n",
       "1956  1.141820e-01   False               wreck  5.592650e-02   False  \n",
       "1975  2.807220e-01   False         book_jacket  4.378550e-02   False  \n",
       "1979  9.804040e-02   False          television  7.972940e-02   False  \n",
       "2012  1.691230e-01   False        Egyptian_cat  1.329320e-01   False  \n",
       "2021  1.151230e-01   False       traffic_light  6.953380e-02   False  \n",
       "2022  2.456460e-01   False                ibex  5.566070e-02   False  \n",
       "2046  1.399520e-01   False           car_wheel  4.417270e-02   False  \n",
       "2052  2.917540e-02   False       shopping_cart  2.632080e-02   False  \n",
       "2074  8.585110e-02   False              banana  7.611000e-02   False  \n",
       "\n",
       "[324 rows x 12 columns]"
      ]
     },
     "execution_count": 23,
     "metadata": {},
     "output_type": "execute_result"
    }
   ],
   "source": [
    "image_predictions_df[(image_predictions_df.p1_dog == False) &\n",
    "                     (image_predictions_df.p2_dog == False) &\n",
    "                     (image_predictions_df.p3_dog == False)]"
   ]
  },
  {
   "cell_type": "code",
   "execution_count": 24,
   "metadata": {},
   "outputs": [
    {
     "data": {
      "text/plain": [
       "324"
      ]
     },
     "execution_count": 24,
     "metadata": {},
     "output_type": "execute_result"
    }
   ],
   "source": [
    "len(image_predictions_df[(image_predictions_df.p1_dog == False) &\n",
    "                         (image_predictions_df.p2_dog == False) &\n",
    "                         (image_predictions_df.p3_dog == False)])"
   ]
  },
  {
   "cell_type": "markdown",
   "metadata": {},
   "source": [
    "There seem to be a lot of images that don't contain dogs. Looking at random images, a lot of them legitimately don't contain a dog, but some, like 666268910803644416, do actually have a dog.\n",
    "\n",
    "Since the twitter account is humorous and playful, rating other animals is an act of humor and not necessarily a quality issue. However, the intent of looking at the data is to examine the dog ratings or posts with dog ratings from WeRateDogs (@dog_rates), so this will be considered a quality issue in this case.\n",
    "\n",
    "All the information in this DataFrame is to lead to the most probable dog breed. The 11 columns for this determination is overkill and should be consolidated into one containing the most probable dog breed.\n",
    "\n",
    "Issue:\n",
    "* tweeted pictures aren't always of dogs\n",
    "* many columns leading to most probable dog breed"
   ]
  },
  {
   "cell_type": "markdown",
   "metadata": {},
   "source": [
    "<a id='assess-tweet_json_df'></a>\n",
    "## `tweet_json_df`"
   ]
  },
  {
   "cell_type": "markdown",
   "metadata": {},
   "source": [
    "What does this look like after import?"
   ]
  },
  {
   "cell_type": "code",
   "execution_count": 25,
   "metadata": {},
   "outputs": [
    {
     "name": "stdout",
     "output_type": "stream",
     "text": [
      "<class 'pandas.core.frame.DataFrame'>\n",
      "RangeIndex: 2343 entries, 0 to 2342\n",
      "Data columns (total 28 columns):\n",
      "contributors                 0 non-null float64\n",
      "coordinates                  0 non-null float64\n",
      "created_at                   2343 non-null datetime64[ns]\n",
      "extended_entities            1823 non-null object\n",
      "favorite_count               2343 non-null int64\n",
      "favorited                    2343 non-null bool\n",
      "geo                          0 non-null float64\n",
      "id                           2343 non-null int64\n",
      "id_str                       2343 non-null int64\n",
      "in_reply_to_screen_name      78 non-null object\n",
      "in_reply_to_status_id        78 non-null float64\n",
      "in_reply_to_status_id_str    78 non-null float64\n",
      "in_reply_to_user_id          78 non-null float64\n",
      "in_reply_to_user_id_str      78 non-null float64\n",
      "is_quote_status              2343 non-null bool\n",
      "lang                         2343 non-null object\n",
      "place                        1 non-null object\n",
      "possibly_sensitive           2206 non-null float64\n",
      "quoted_status                24 non-null object\n",
      "quoted_status_id             26 non-null float64\n",
      "quoted_status_id_str         26 non-null float64\n",
      "retweet_count                2343 non-null int64\n",
      "retweeted                    2343 non-null bool\n",
      "retweeted_status             169 non-null object\n",
      "source                       2343 non-null object\n",
      "text                         2343 non-null object\n",
      "truncated                    2343 non-null bool\n",
      "user                         2343 non-null object\n",
      "dtypes: bool(4), datetime64[ns](1), float64(10), int64(4), object(9)\n",
      "memory usage: 448.5+ KB\n"
     ]
    }
   ],
   "source": [
    "tweet_json_df.info()"
   ]
  },
  {
   "cell_type": "code",
   "execution_count": 26,
   "metadata": {},
   "outputs": [
    {
     "data": {
      "text/html": [
       "<div>\n",
       "<style scoped>\n",
       "    .dataframe tbody tr th:only-of-type {\n",
       "        vertical-align: middle;\n",
       "    }\n",
       "\n",
       "    .dataframe tbody tr th {\n",
       "        vertical-align: top;\n",
       "    }\n",
       "\n",
       "    .dataframe thead th {\n",
       "        text-align: right;\n",
       "    }\n",
       "</style>\n",
       "<table border=\"1\" class=\"dataframe\">\n",
       "  <thead>\n",
       "    <tr style=\"text-align: right;\">\n",
       "      <th></th>\n",
       "      <th>contributors</th>\n",
       "      <th>coordinates</th>\n",
       "      <th>created_at</th>\n",
       "      <th>extended_entities</th>\n",
       "      <th>favorite_count</th>\n",
       "      <th>favorited</th>\n",
       "      <th>geo</th>\n",
       "      <th>id</th>\n",
       "      <th>id_str</th>\n",
       "      <th>in_reply_to_screen_name</th>\n",
       "      <th>...</th>\n",
       "      <th>quoted_status</th>\n",
       "      <th>quoted_status_id</th>\n",
       "      <th>quoted_status_id_str</th>\n",
       "      <th>retweet_count</th>\n",
       "      <th>retweeted</th>\n",
       "      <th>retweeted_status</th>\n",
       "      <th>source</th>\n",
       "      <th>text</th>\n",
       "      <th>truncated</th>\n",
       "      <th>user</th>\n",
       "    </tr>\n",
       "  </thead>\n",
       "  <tbody>\n",
       "    <tr>\n",
       "      <th>0</th>\n",
       "      <td>NaN</td>\n",
       "      <td>NaN</td>\n",
       "      <td>2017-06-18 16:57:37</td>\n",
       "      <td>NaN</td>\n",
       "      <td>18717</td>\n",
       "      <td>False</td>\n",
       "      <td>NaN</td>\n",
       "      <td>876484053909872640</td>\n",
       "      <td>876484053909872640</td>\n",
       "      <td>None</td>\n",
       "      <td>...</td>\n",
       "      <td>NaN</td>\n",
       "      <td>NaN</td>\n",
       "      <td>NaN</td>\n",
       "      <td>2410</td>\n",
       "      <td>False</td>\n",
       "      <td>NaN</td>\n",
       "      <td>&lt;a href=\"http://twitter.com/download/iphone\" r...</td>\n",
       "      <td>This is Benedict. He wants to thank you for th...</td>\n",
       "      <td>True</td>\n",
       "      <td>{'id': 4196983835, 'id_str': '4196983835', 'na...</td>\n",
       "    </tr>\n",
       "    <tr>\n",
       "      <th>1</th>\n",
       "      <td>NaN</td>\n",
       "      <td>NaN</td>\n",
       "      <td>2017-07-15 23:25:31</td>\n",
       "      <td>NaN</td>\n",
       "      <td>21109</td>\n",
       "      <td>False</td>\n",
       "      <td>NaN</td>\n",
       "      <td>886366144734445568</td>\n",
       "      <td>886366144734445568</td>\n",
       "      <td>None</td>\n",
       "      <td>...</td>\n",
       "      <td>NaN</td>\n",
       "      <td>NaN</td>\n",
       "      <td>NaN</td>\n",
       "      <td>3203</td>\n",
       "      <td>False</td>\n",
       "      <td>NaN</td>\n",
       "      <td>&lt;a href=\"http://twitter.com/download/iphone\" r...</td>\n",
       "      <td>This is Roscoe. Another pupper fallen victim t...</td>\n",
       "      <td>True</td>\n",
       "      <td>{'id': 4196983835, 'id_str': '4196983835', 'na...</td>\n",
       "    </tr>\n",
       "    <tr>\n",
       "      <th>2</th>\n",
       "      <td>NaN</td>\n",
       "      <td>NaN</td>\n",
       "      <td>2017-06-21 19:36:23</td>\n",
       "      <td>{'media': [{'id': 876850756556607488, 'id_str'...</td>\n",
       "      <td>0</td>\n",
       "      <td>False</td>\n",
       "      <td>NaN</td>\n",
       "      <td>877611172832227328</td>\n",
       "      <td>877611172832227328</td>\n",
       "      <td>None</td>\n",
       "      <td>...</td>\n",
       "      <td>NaN</td>\n",
       "      <td>NaN</td>\n",
       "      <td>NaN</td>\n",
       "      <td>81</td>\n",
       "      <td>False</td>\n",
       "      <td>{'created_at': 'Mon Jun 19 17:14:49 +0000 2017...</td>\n",
       "      <td>&lt;a href=\"http://twitter.com/download/iphone\" r...</td>\n",
       "      <td>RT @rachel2195: @dog_rates the boyfriend and h...</td>\n",
       "      <td>False</td>\n",
       "      <td>{'id': 4196983835, 'id_str': '4196983835', 'na...</td>\n",
       "    </tr>\n",
       "  </tbody>\n",
       "</table>\n",
       "<p>3 rows × 28 columns</p>\n",
       "</div>"
      ],
      "text/plain": [
       "   contributors  coordinates          created_at  \\\n",
       "0           NaN          NaN 2017-06-18 16:57:37   \n",
       "1           NaN          NaN 2017-07-15 23:25:31   \n",
       "2           NaN          NaN 2017-06-21 19:36:23   \n",
       "\n",
       "                                   extended_entities  favorite_count  \\\n",
       "0                                                NaN           18717   \n",
       "1                                                NaN           21109   \n",
       "2  {'media': [{'id': 876850756556607488, 'id_str'...               0   \n",
       "\n",
       "   favorited  geo                  id              id_str  \\\n",
       "0      False  NaN  876484053909872640  876484053909872640   \n",
       "1      False  NaN  886366144734445568  886366144734445568   \n",
       "2      False  NaN  877611172832227328  877611172832227328   \n",
       "\n",
       "  in_reply_to_screen_name                        ...                          \\\n",
       "0                    None                        ...                           \n",
       "1                    None                        ...                           \n",
       "2                    None                        ...                           \n",
       "\n",
       "   quoted_status  quoted_status_id  quoted_status_id_str  retweet_count  \\\n",
       "0            NaN               NaN                   NaN           2410   \n",
       "1            NaN               NaN                   NaN           3203   \n",
       "2            NaN               NaN                   NaN             81   \n",
       "\n",
       "   retweeted                                   retweeted_status  \\\n",
       "0      False                                                NaN   \n",
       "1      False                                                NaN   \n",
       "2      False  {'created_at': 'Mon Jun 19 17:14:49 +0000 2017...   \n",
       "\n",
       "                                              source  \\\n",
       "0  <a href=\"http://twitter.com/download/iphone\" r...   \n",
       "1  <a href=\"http://twitter.com/download/iphone\" r...   \n",
       "2  <a href=\"http://twitter.com/download/iphone\" r...   \n",
       "\n",
       "                                                text truncated  \\\n",
       "0  This is Benedict. He wants to thank you for th...      True   \n",
       "1  This is Roscoe. Another pupper fallen victim t...      True   \n",
       "2  RT @rachel2195: @dog_rates the boyfriend and h...     False   \n",
       "\n",
       "                                                user  \n",
       "0  {'id': 4196983835, 'id_str': '4196983835', 'na...  \n",
       "1  {'id': 4196983835, 'id_str': '4196983835', 'na...  \n",
       "2  {'id': 4196983835, 'id_str': '4196983835', 'na...  \n",
       "\n",
       "[3 rows x 28 columns]"
      ]
     },
     "execution_count": 26,
     "metadata": {},
     "output_type": "execute_result"
    }
   ],
   "source": [
    "tweet_json_df.head(3)"
   ]
  },
  {
   "cell_type": "markdown",
   "metadata": {},
   "source": [
    "Issues:\n",
    "* JSON tree includes compound fields with another dictionary tree (multiple data in a column)\n",
    "* contains duplicate data fields as 'tweet_archive_df'"
   ]
  },
  {
   "cell_type": "markdown",
   "metadata": {},
   "source": [
    "Check for missing entries."
   ]
  },
  {
   "cell_type": "code",
   "execution_count": 27,
   "metadata": {},
   "outputs": [
    {
     "name": "stdout",
     "output_type": "stream",
     "text": [
      "tweet archive contains 2356 entries.\n",
      "tweepy api retrieved 2343 entries.\n"
     ]
    }
   ],
   "source": [
    "print(\"tweet archive contains {} entries.\".format(len(tweet_archive_df.tweet_id)))\n",
    "print(\"tweepy api retrieved {} entries.\".format(len(tweet_json_df.id)))"
   ]
  },
  {
   "cell_type": "markdown",
   "metadata": {},
   "source": [
    "Issue:\n",
    "* There are missing entries from the api versus the id's present in the tweet archive."
   ]
  },
  {
   "cell_type": "markdown",
   "metadata": {},
   "source": [
    "<a id='assess-issues'></a>\n",
    "## Issues (aggregated)\n",
    "* `tweet_archive_df`\n",
    "    + tweets archive includes retweets and replies, which create quality issues\n",
    "    + datetime column timestamp is a object type (string)\n",
    "    + `source` contains HTML fragments, but the column probably isn't needed.\n",
    "    + DataFrame contains extraneous information to analysis\n",
    "    + doggo, floofer, pupper, and puppo columns should be one variable column\n",
    "    + numerator extraction of decimals extracted the number behind the '.' as the whole number rating\n",
    "    + numerators/denominator pairs with denominator above 10 are for multiple dogs\n",
    "    + denominators that aren't divisible by 10 are invalid\n",
    "    + 'name' column contains non-dog names\n",
    "    + manual fixes:\n",
    "        * tweet_id = 855862651834028034 Snoop Dogg is not a real dog\n",
    "\n",
    "* `image_predictions_df`\n",
    "    + tweeted pictures aren't always of dogs\n",
    "    + many columns leading to most probable dog breed\n",
    "* `tweet_json_df`\n",
    "    + multiple data in several columns\n",
    "        * JSON tree includes compound fields with another dictionary tree\n",
    "    + contains duplicate data fields as 'tweet_archive_df'\n",
    "    + too much information; a lot of trash fields.\n",
    "    + missing entries from the api versus the id's present in the tweet archive.\n",
    "* all\n",
    "    + tweet_id has an inconsistent data type\n",
    "    + data should be consolidated into one DataFrame"
   ]
  },
  {
   "cell_type": "markdown",
   "metadata": {},
   "source": [
    "<a id='clean'></a>\n",
    "# Clean"
   ]
  },
  {
   "cell_type": "markdown",
   "metadata": {},
   "source": [
    "<a id='clean-tweet_archive_df'></a>\n",
    "## `tweet_archive_df`"
   ]
  },
  {
   "cell_type": "code",
   "execution_count": 28,
   "metadata": {},
   "outputs": [],
   "source": [
    "# Copy to another DataFrame to clean\n",
    "tweet_archive_clean = tweet_archive_df.copy()"
   ]
  },
  {
   "cell_type": "markdown",
   "metadata": {},
   "source": [
    "---\n",
    "#### Define\n",
    "Drop the retweets and replies to eliminate quality problems form tweets that aren't primary rating pictures from WeRateDogs."
   ]
  },
  {
   "cell_type": "markdown",
   "metadata": {},
   "source": [
    "#### Code"
   ]
  },
  {
   "cell_type": "code",
   "execution_count": 29,
   "metadata": {},
   "outputs": [
    {
     "data": {
      "text/plain": [
       "['tweet_id',\n",
       " 'in_reply_to_status_id',\n",
       " 'in_reply_to_user_id',\n",
       " 'timestamp',\n",
       " 'source',\n",
       " 'text',\n",
       " 'retweeted_status_id',\n",
       " 'retweeted_status_user_id',\n",
       " 'retweeted_status_timestamp',\n",
       " 'expanded_urls',\n",
       " 'rating_numerator',\n",
       " 'rating_denominator',\n",
       " 'name',\n",
       " 'doggo',\n",
       " 'floofer',\n",
       " 'pupper',\n",
       " 'puppo']"
      ]
     },
     "execution_count": 29,
     "metadata": {},
     "output_type": "execute_result"
    }
   ],
   "source": [
    "# check for relevant column names\n",
    "list(tweet_archive_clean.columns.values)"
   ]
  },
  {
   "cell_type": "code",
   "execution_count": 30,
   "metadata": {},
   "outputs": [],
   "source": [
    "# copy entries in the tweet archive DataFrame that don't have a retweet or reply id\n",
    "tweet_archive_clean = tweet_archive_clean[(tweet_archive_clean.in_reply_to_status_id.isnull()) &\n",
    "                                          (tweet_archive_clean.retweeted_status_id.isnull())] "
   ]
  },
  {
   "cell_type": "code",
   "execution_count": 31,
   "metadata": {},
   "outputs": [],
   "source": [
    "# drop columns related to replies and retweets\n",
    "tweet_archive_clean = tweet_archive_clean.drop(['in_reply_to_status_id',\n",
    "                                                'in_reply_to_user_id',\n",
    "                                                'retweeted_status_id',\n",
    "                                                'retweeted_status_user_id',\n",
    "                                                'retweeted_status_timestamp'],\n",
    "                                               axis=1)"
   ]
  },
  {
   "cell_type": "markdown",
   "metadata": {},
   "source": [
    "#### Test"
   ]
  },
  {
   "cell_type": "code",
   "execution_count": 32,
   "metadata": {},
   "outputs": [
    {
     "data": {
      "text/plain": [
       "False"
      ]
     },
     "execution_count": 32,
     "metadata": {},
     "output_type": "execute_result"
    }
   ],
   "source": [
    "# get the reply and retweets\n",
    "reply_or_retweet  = tweet_archive_df[(tweet_archive_df.in_reply_to_status_id.notnull()) |\n",
    "                                     (tweet_archive_df.retweeted_status_id.notnull())]\n",
    "# check if any of tweet id's in the clean DataFrame are in the reply/retweet only copy\n",
    "any(tweet_id for tweet_id in list(reply_or_retweet.tweet_id) \\\n",
    "    if tweet_id in list(tweet_archive_clean.tweet_id))"
   ]
  },
  {
   "cell_type": "code",
   "execution_count": 33,
   "metadata": {},
   "outputs": [
    {
     "data": {
      "text/plain": [
       "['tweet_id',\n",
       " 'timestamp',\n",
       " 'source',\n",
       " 'text',\n",
       " 'expanded_urls',\n",
       " 'rating_numerator',\n",
       " 'rating_denominator',\n",
       " 'name',\n",
       " 'doggo',\n",
       " 'floofer',\n",
       " 'pupper',\n",
       " 'puppo']"
      ]
     },
     "execution_count": 33,
     "metadata": {},
     "output_type": "execute_result"
    }
   ],
   "source": [
    "# check for relevant column names\n",
    "list(tweet_archive_clean.columns.values)"
   ]
  },
  {
   "cell_type": "markdown",
   "metadata": {},
   "source": [
    "---\n",
    "#### Define\n",
    "The `timestamp` column contains string text. To be usable for graphing and analysis, the data in this series needs to be changed to `datetime` objects."
   ]
  },
  {
   "cell_type": "markdown",
   "metadata": {},
   "source": [
    "#### Code"
   ]
  },
  {
   "cell_type": "code",
   "execution_count": 34,
   "metadata": {},
   "outputs": [
    {
     "data": {
      "text/plain": [
       "'2017-08-01 16:23:56 +0000'"
      ]
     },
     "execution_count": 34,
     "metadata": {},
     "output_type": "execute_result"
    }
   ],
   "source": [
    "# get example time string from index 0 to check format\n",
    "example_time = tweet_archive_clean.timestamp[0]\n",
    "example_time"
   ]
  },
  {
   "cell_type": "code",
   "execution_count": 35,
   "metadata": {},
   "outputs": [
    {
     "data": {
      "text/plain": [
       "datetime.datetime(2017, 8, 1, 16, 23, 56, tzinfo=datetime.timezone.utc)"
      ]
     },
     "execution_count": 35,
     "metadata": {},
     "output_type": "execute_result"
    }
   ],
   "source": [
    "# test strptime format with example string from index 0\n",
    "example_time = tweet_archive_clean.timestamp[0]\n",
    "datetime.strptime(example_time,'%Y-%m-%d %H:%M:%S %z')"
   ]
  },
  {
   "cell_type": "code",
   "execution_count": 36,
   "metadata": {},
   "outputs": [],
   "source": [
    "# use pd.to_datetime() to change series of string date & time to datetime objects\n",
    "# pd.to_datetime(tweet_archive_clean.timestamp, format='%Y-%m-%d %H:%M:%S %z')\n",
    "\n",
    "# pd.to_datetime() doesn't accept '%z', so create function and map column\n",
    "def string_to_datetime(string):\n",
    "    return datetime.strptime(string,'%Y-%m-%d %H:%M:%S %z')\n",
    "tweet_archive_clean.timestamp = tweet_archive_clean.timestamp.map(string_to_datetime)"
   ]
  },
  {
   "cell_type": "markdown",
   "metadata": {},
   "source": [
    "#### Test"
   ]
  },
  {
   "cell_type": "code",
   "execution_count": 37,
   "metadata": {},
   "outputs": [
    {
     "data": {
      "text/plain": [
       "0   2017-08-01 16:23:56+00:00\n",
       "1   2017-08-01 00:17:27+00:00\n",
       "2   2017-07-31 00:18:03+00:00\n",
       "3   2017-07-30 15:58:51+00:00\n",
       "4   2017-07-29 16:00:24+00:00\n",
       "Name: timestamp, dtype: datetime64[ns, UTC]"
      ]
     },
     "execution_count": 37,
     "metadata": {},
     "output_type": "execute_result"
    }
   ],
   "source": [
    "tweet_archive_clean.timestamp.head()"
   ]
  },
  {
   "cell_type": "markdown",
   "metadata": {},
   "source": [
    "---\n",
    "#### Define\n",
    "Delete extraneous information not needed for analysis."
   ]
  },
  {
   "cell_type": "code",
   "execution_count": 38,
   "metadata": {},
   "outputs": [
    {
     "data": {
      "text/plain": [
       "['tweet_id',\n",
       " 'timestamp',\n",
       " 'source',\n",
       " 'text',\n",
       " 'expanded_urls',\n",
       " 'rating_numerator',\n",
       " 'rating_denominator',\n",
       " 'name',\n",
       " 'doggo',\n",
       " 'floofer',\n",
       " 'pupper',\n",
       " 'puppo']"
      ]
     },
     "execution_count": 38,
     "metadata": {},
     "output_type": "execute_result"
    }
   ],
   "source": [
    "# check for relevant column names\n",
    "list(tweet_archive_clean.columns.values)"
   ]
  },
  {
   "cell_type": "markdown",
   "metadata": {},
   "source": [
    "Columns to be deleted:\n",
    "* 'source' - contains device/interface that was used to post\n",
    "    + deleting source will also fix the residual HTML tags.\n",
    "* 'expanded_urls' - contains url of tweet"
   ]
  },
  {
   "cell_type": "markdown",
   "metadata": {},
   "source": [
    "#### Code"
   ]
  },
  {
   "cell_type": "code",
   "execution_count": 39,
   "metadata": {},
   "outputs": [],
   "source": [
    "# drop columns related to replies and retweets\n",
    "tweet_archive_clean = tweet_archive_clean.drop(['source',\n",
    "                                                'expanded_urls'],\n",
    "                                               axis=1)"
   ]
  },
  {
   "cell_type": "markdown",
   "metadata": {},
   "source": [
    "#### Test"
   ]
  },
  {
   "cell_type": "code",
   "execution_count": 40,
   "metadata": {},
   "outputs": [
    {
     "data": {
      "text/plain": [
       "['tweet_id',\n",
       " 'timestamp',\n",
       " 'text',\n",
       " 'rating_numerator',\n",
       " 'rating_denominator',\n",
       " 'name',\n",
       " 'doggo',\n",
       " 'floofer',\n",
       " 'pupper',\n",
       " 'puppo']"
      ]
     },
     "execution_count": 40,
     "metadata": {},
     "output_type": "execute_result"
    }
   ],
   "source": [
    "# check for updated column names\n",
    "list(tweet_archive_clean.columns.values)"
   ]
  },
  {
   "cell_type": "markdown",
   "metadata": {},
   "source": [
    "---\n",
    "#### Define\n",
    "Change doggo, floofer, pupper, and puppo from separate columns into one column.\n",
    "* check for entries with multiple stage\n",
    "    + store 'tweet_id's\n",
    "    + wipe existing fields\n",
    "    + manually update from text\n",
    "* melt 'doggo', 'floofer', 'pupper', and 'puppo' into 'dog_stage'\n",
    "* change all 'None' values to 'NaN'"
   ]
  },
  {
   "cell_type": "markdown",
   "metadata": {},
   "source": [
    "#### Code"
   ]
  },
  {
   "cell_type": "code",
   "execution_count": 41,
   "metadata": {},
   "outputs": [
    {
     "data": {
      "text/plain": [
       "['tweet_id',\n",
       " 'timestamp',\n",
       " 'text',\n",
       " 'rating_numerator',\n",
       " 'rating_denominator',\n",
       " 'name']"
      ]
     },
     "execution_count": 41,
     "metadata": {},
     "output_type": "execute_result"
    }
   ],
   "source": [
    "columns_to_keep = list(tweet_archive_clean.columns.values[:-4])\n",
    "columns_to_keep"
   ]
  },
  {
   "cell_type": "code",
   "execution_count": 42,
   "metadata": {},
   "outputs": [
    {
     "name": "stdout",
     "output_type": "stream",
     "text": [
      "Here's a puppo participating in the #ScienceMarch. Cleverly disguising her own doggo agenda. 13/10 would keep the planet habitable for https://t.co/cMhq16isel\n",
      "At first I thought this was a shy doggo, but it's actually a Rare Canadian Floofer Owl. Amateurs would confuse the two. 11/10 only send dogs https://t.co/TXdT3tmuYk\n",
      "This is Dido. She's playing the lead role in \"Pupper Stops to Catch Snow Before Resuming Shadow Box with Dried Apple.\" 13/10 (IG: didodoggo) https://t.co/m7isZrOBX7\n",
      "Here we have Burke (pupper) and Dexter (doggo). Pupper wants to be exactly like doggo. Both 12/10 would pet at same time https://t.co/ANBpEYHaho\n",
      "This is Bones. He's being haunted by another doggo of roughly the same size. 12/10 deep breaths pupper everything's fine https://t.co/55Dqe0SJNj\n",
      "This is Pinot. He's a sophisticated doggo. You can tell by the hat. Also pointier than your average pupper. Still 10/10 would pet cautiously https://t.co/f2wmLZTPHd\n",
      "Pupper butt 1, Doggo 0. Both 12/10 https://t.co/WQvcPEpH2u\n",
      "Meet Maggie &amp; Lila. Maggie is the doggo, Lila is the pupper. They are sisters. Both 12/10 would pet at the same time https://t.co/MYwR4DQKll\n",
      "Please stop sending it pictures that don't even have a doggo or pupper in them. Churlish af. 5/10 neat couch tho https://t.co/u2c9c7qSg8\n",
      "This is just downright precious af. 12/10 for both pupper and doggo https://t.co/o5J479bZUC\n",
      "Like father (doggo), like son (pupper). Both 12/10 https://t.co/pG2inLaOda\n"
     ]
    }
   ],
   "source": [
    "# check for entries with multiple stages\n",
    "def is_stage(data):\n",
    "    return 0 if data == 'None' else 1\n",
    "\n",
    "def multiple_stages(df):\n",
    "    doggo = df.doggo.map(is_stage)\n",
    "    floofer = df.floofer.map(is_stage)\n",
    "    pupper = df.pupper.map(is_stage)\n",
    "    puppo = df.puppo.map(is_stage)\n",
    "    return doggo.add(floofer).add(pupper).add(puppo)\n",
    "\n",
    "print_tweet_text(tweet_archive_clean[multiple_stages(tweet_archive_clean) > 1])"
   ]
  },
  {
   "cell_type": "code",
   "execution_count": 43,
   "metadata": {},
   "outputs": [
    {
     "data": {
      "text/html": [
       "<div>\n",
       "<style scoped>\n",
       "    .dataframe tbody tr th:only-of-type {\n",
       "        vertical-align: middle;\n",
       "    }\n",
       "\n",
       "    .dataframe tbody tr th {\n",
       "        vertical-align: top;\n",
       "    }\n",
       "\n",
       "    .dataframe thead th {\n",
       "        text-align: right;\n",
       "    }\n",
       "</style>\n",
       "<table border=\"1\" class=\"dataframe\">\n",
       "  <thead>\n",
       "    <tr style=\"text-align: right;\">\n",
       "      <th></th>\n",
       "      <th>tweet_id</th>\n",
       "      <th>timestamp</th>\n",
       "      <th>text</th>\n",
       "      <th>rating_numerator</th>\n",
       "      <th>rating_denominator</th>\n",
       "      <th>name</th>\n",
       "      <th>doggo</th>\n",
       "      <th>floofer</th>\n",
       "      <th>pupper</th>\n",
       "      <th>puppo</th>\n",
       "    </tr>\n",
       "  </thead>\n",
       "  <tbody>\n",
       "    <tr>\n",
       "      <th>191</th>\n",
       "      <td>855851453814013952</td>\n",
       "      <td>2017-04-22 18:31:02+00:00</td>\n",
       "      <td>Here's a puppo participating in the #ScienceMa...</td>\n",
       "      <td>13</td>\n",
       "      <td>10</td>\n",
       "      <td>None</td>\n",
       "      <td>doggo</td>\n",
       "      <td>None</td>\n",
       "      <td>None</td>\n",
       "      <td>puppo</td>\n",
       "    </tr>\n",
       "    <tr>\n",
       "      <th>200</th>\n",
       "      <td>854010172552949760</td>\n",
       "      <td>2017-04-17 16:34:26+00:00</td>\n",
       "      <td>At first I thought this was a shy doggo, but i...</td>\n",
       "      <td>11</td>\n",
       "      <td>10</td>\n",
       "      <td>None</td>\n",
       "      <td>doggo</td>\n",
       "      <td>floofer</td>\n",
       "      <td>None</td>\n",
       "      <td>None</td>\n",
       "    </tr>\n",
       "    <tr>\n",
       "      <th>460</th>\n",
       "      <td>817777686764523521</td>\n",
       "      <td>2017-01-07 16:59:28+00:00</td>\n",
       "      <td>This is Dido. She's playing the lead role in \"...</td>\n",
       "      <td>13</td>\n",
       "      <td>10</td>\n",
       "      <td>Dido</td>\n",
       "      <td>doggo</td>\n",
       "      <td>None</td>\n",
       "      <td>pupper</td>\n",
       "      <td>None</td>\n",
       "    </tr>\n",
       "    <tr>\n",
       "      <th>531</th>\n",
       "      <td>808106460588765185</td>\n",
       "      <td>2016-12-12 00:29:28+00:00</td>\n",
       "      <td>Here we have Burke (pupper) and Dexter (doggo)...</td>\n",
       "      <td>12</td>\n",
       "      <td>10</td>\n",
       "      <td>None</td>\n",
       "      <td>doggo</td>\n",
       "      <td>None</td>\n",
       "      <td>pupper</td>\n",
       "      <td>None</td>\n",
       "    </tr>\n",
       "    <tr>\n",
       "      <th>575</th>\n",
       "      <td>801115127852503040</td>\n",
       "      <td>2016-11-22 17:28:25+00:00</td>\n",
       "      <td>This is Bones. He's being haunted by another d...</td>\n",
       "      <td>12</td>\n",
       "      <td>10</td>\n",
       "      <td>Bones</td>\n",
       "      <td>doggo</td>\n",
       "      <td>None</td>\n",
       "      <td>pupper</td>\n",
       "      <td>None</td>\n",
       "    </tr>\n",
       "    <tr>\n",
       "      <th>705</th>\n",
       "      <td>785639753186217984</td>\n",
       "      <td>2016-10-11 00:34:48+00:00</td>\n",
       "      <td>This is Pinot. He's a sophisticated doggo. You...</td>\n",
       "      <td>10</td>\n",
       "      <td>10</td>\n",
       "      <td>Pinot</td>\n",
       "      <td>doggo</td>\n",
       "      <td>None</td>\n",
       "      <td>pupper</td>\n",
       "      <td>None</td>\n",
       "    </tr>\n",
       "    <tr>\n",
       "      <th>733</th>\n",
       "      <td>781308096455073793</td>\n",
       "      <td>2016-09-29 01:42:20+00:00</td>\n",
       "      <td>Pupper butt 1, Doggo 0. Both 12/10 https://t.c...</td>\n",
       "      <td>12</td>\n",
       "      <td>10</td>\n",
       "      <td>None</td>\n",
       "      <td>doggo</td>\n",
       "      <td>None</td>\n",
       "      <td>pupper</td>\n",
       "      <td>None</td>\n",
       "    </tr>\n",
       "    <tr>\n",
       "      <th>889</th>\n",
       "      <td>759793422261743616</td>\n",
       "      <td>2016-07-31 16:50:42+00:00</td>\n",
       "      <td>Meet Maggie &amp;amp; Lila. Maggie is the doggo, L...</td>\n",
       "      <td>12</td>\n",
       "      <td>10</td>\n",
       "      <td>Maggie</td>\n",
       "      <td>doggo</td>\n",
       "      <td>None</td>\n",
       "      <td>pupper</td>\n",
       "      <td>None</td>\n",
       "    </tr>\n",
       "    <tr>\n",
       "      <th>956</th>\n",
       "      <td>751583847268179968</td>\n",
       "      <td>2016-07-09 01:08:47+00:00</td>\n",
       "      <td>Please stop sending it pictures that don't eve...</td>\n",
       "      <td>5</td>\n",
       "      <td>10</td>\n",
       "      <td>None</td>\n",
       "      <td>doggo</td>\n",
       "      <td>None</td>\n",
       "      <td>pupper</td>\n",
       "      <td>None</td>\n",
       "    </tr>\n",
       "    <tr>\n",
       "      <th>1063</th>\n",
       "      <td>741067306818797568</td>\n",
       "      <td>2016-06-10 00:39:48+00:00</td>\n",
       "      <td>This is just downright precious af. 12/10 for ...</td>\n",
       "      <td>12</td>\n",
       "      <td>10</td>\n",
       "      <td>just</td>\n",
       "      <td>doggo</td>\n",
       "      <td>None</td>\n",
       "      <td>pupper</td>\n",
       "      <td>None</td>\n",
       "    </tr>\n",
       "    <tr>\n",
       "      <th>1113</th>\n",
       "      <td>733109485275860992</td>\n",
       "      <td>2016-05-19 01:38:16+00:00</td>\n",
       "      <td>Like father (doggo), like son (pupper). Both 1...</td>\n",
       "      <td>12</td>\n",
       "      <td>10</td>\n",
       "      <td>None</td>\n",
       "      <td>doggo</td>\n",
       "      <td>None</td>\n",
       "      <td>pupper</td>\n",
       "      <td>None</td>\n",
       "    </tr>\n",
       "  </tbody>\n",
       "</table>\n",
       "</div>"
      ],
      "text/plain": [
       "                tweet_id                 timestamp  \\\n",
       "191   855851453814013952 2017-04-22 18:31:02+00:00   \n",
       "200   854010172552949760 2017-04-17 16:34:26+00:00   \n",
       "460   817777686764523521 2017-01-07 16:59:28+00:00   \n",
       "531   808106460588765185 2016-12-12 00:29:28+00:00   \n",
       "575   801115127852503040 2016-11-22 17:28:25+00:00   \n",
       "705   785639753186217984 2016-10-11 00:34:48+00:00   \n",
       "733   781308096455073793 2016-09-29 01:42:20+00:00   \n",
       "889   759793422261743616 2016-07-31 16:50:42+00:00   \n",
       "956   751583847268179968 2016-07-09 01:08:47+00:00   \n",
       "1063  741067306818797568 2016-06-10 00:39:48+00:00   \n",
       "1113  733109485275860992 2016-05-19 01:38:16+00:00   \n",
       "\n",
       "                                                   text  rating_numerator  \\\n",
       "191   Here's a puppo participating in the #ScienceMa...                13   \n",
       "200   At first I thought this was a shy doggo, but i...                11   \n",
       "460   This is Dido. She's playing the lead role in \"...                13   \n",
       "531   Here we have Burke (pupper) and Dexter (doggo)...                12   \n",
       "575   This is Bones. He's being haunted by another d...                12   \n",
       "705   This is Pinot. He's a sophisticated doggo. You...                10   \n",
       "733   Pupper butt 1, Doggo 0. Both 12/10 https://t.c...                12   \n",
       "889   Meet Maggie &amp; Lila. Maggie is the doggo, L...                12   \n",
       "956   Please stop sending it pictures that don't eve...                 5   \n",
       "1063  This is just downright precious af. 12/10 for ...                12   \n",
       "1113  Like father (doggo), like son (pupper). Both 1...                12   \n",
       "\n",
       "      rating_denominator    name  doggo  floofer  pupper  puppo  \n",
       "191                   10    None  doggo     None    None  puppo  \n",
       "200                   10    None  doggo  floofer    None   None  \n",
       "460                   10    Dido  doggo     None  pupper   None  \n",
       "531                   10    None  doggo     None  pupper   None  \n",
       "575                   10   Bones  doggo     None  pupper   None  \n",
       "705                   10   Pinot  doggo     None  pupper   None  \n",
       "733                   10    None  doggo     None  pupper   None  \n",
       "889                   10  Maggie  doggo     None  pupper   None  \n",
       "956                   10    None  doggo     None  pupper   None  \n",
       "1063                  10    just  doggo     None  pupper   None  \n",
       "1113                  10    None  doggo     None  pupper   None  "
      ]
     },
     "execution_count": 43,
     "metadata": {},
     "output_type": "execute_result"
    }
   ],
   "source": [
    "tweet_archive_clean[multiple_stages(tweet_archive_clean) > 1]"
   ]
  },
  {
   "cell_type": "code",
   "execution_count": 44,
   "metadata": {},
   "outputs": [],
   "source": [
    "# store 'tweet_id's to manually update\n",
    "manual_stage_fix_ids = tweet_archive_clean[multiple_stages(tweet_archive_clean) > 1].tweet_id\n",
    "# define manual fixes in 'dog_stage' series and concatenate with manual fix id's\n",
    "manual_stage_fixes = pd.Series(['puppo',\n",
    "                                'floofer',\n",
    "                                'pupper',\n",
    "                                'pupper & doggo',\n",
    "                                'pupper',\n",
    "                                'None',\n",
    "                                'pupper & doggo',\n",
    "                                'pupper & doggo',\n",
    "                                'doggo',\n",
    "                                'pupper & doggo',\n",
    "                                'pupper & doggo'],\n",
    "                               index = list(manual_stage_fix_ids.index.values),\n",
    "                               name = 'dog_stage')\n",
    "manual_stage_fixes\n",
    "assert (len(manual_stage_fix_ids) == len(manual_stage_fixes)), \"manual stage series lengths don't match\"\n",
    "manual_stage_fixes_df = pd.concat([manual_stage_fix_ids, manual_stage_fixes],\n",
    "                                  axis=1)\n",
    "# check contents\n",
    "# manual_stage_fixes_df"
   ]
  },
  {
   "cell_type": "code",
   "execution_count": 45,
   "metadata": {},
   "outputs": [
    {
     "name": "stderr",
     "output_type": "stream",
     "text": [
      "/Users/charlesdellinger/anaconda2/envs/Python3/lib/python3.6/site-packages/pandas/core/indexing.py:189: SettingWithCopyWarning: \n",
      "A value is trying to be set on a copy of a slice from a DataFrame\n",
      "\n",
      "See the caveats in the documentation: http://pandas.pydata.org/pandas-docs/stable/indexing.html#indexing-view-versus-copy\n",
      "  self._setitem_with_indexer(indexer, value)\n"
     ]
    }
   ],
   "source": [
    "# make list of dog stage in column order (forsee this being reused)\n",
    "dog_stages = ['doggo', 'floofer', 'pupper', 'puppo']\n",
    "#tweet_archive_clean.loc[tweet_archive_clean.tweet_id.isin(manual_stage_fix_ids)]\n",
    "for column in dog_stages:\n",
    "    tweet_archive_clean.eval(column).loc[tweet_archive_clean.tweet_id.isin(manual_stage_fix_ids)] = 'None'\n",
    "# check that it worked\n",
    "# tweet_archive_clean.loc[tweet_archive_clean.tweet_id.isin(manual_stage_fix_ids)]\n",
    "#\n",
    "# update 'doggo' arbitrarily to have manual updates while having same indexing\n",
    "tweet_archive_clean.update(manual_stage_fixes.rename('doggo'))"
   ]
  },
  {
   "cell_type": "code",
   "execution_count": 46,
   "metadata": {},
   "outputs": [],
   "source": [
    "# melt 'doggo', 'floofer', 'pupper', 'puppo' into 'dog_stage'\n",
    "tweet_archive_clean = pd.melt(tweet_archive_clean, id_vars=columns_to_keep,\n",
    "                              var_name='stages', value_name='dog_stage')"
   ]
  },
  {
   "cell_type": "code",
   "execution_count": 47,
   "metadata": {},
   "outputs": [],
   "source": [
    "# original - doesn't actually drop duplicates\n",
    "# tweet_archive_clean.sort_values(by=['tweet_id','dog_stage'], ascending=False).drop_duplicates(subset='tweet_id', keep='first', inplace=True)\n",
    "#\n",
    "# inplace flag wasn't working in `.drop_duplicates()`,\n",
    "# so also removed ascending=False and changed keep='first'\n",
    "tweet_archive_clean = tweet_archive_clean.sort_values(by='dog_stage').drop_duplicates(subset='tweet_id', keep='last')"
   ]
  },
  {
   "cell_type": "code",
   "execution_count": 48,
   "metadata": {},
   "outputs": [],
   "source": [
    "# change 'None' values to 'NaN'\n",
    "tweet_archive_clean.dog_stage = tweet_archive_clean.dog_stage.where(tweet_archive_clean.dog_stage != 'None')"
   ]
  },
  {
   "cell_type": "code",
   "execution_count": 49,
   "metadata": {},
   "outputs": [],
   "source": [
    "# drop 'stages' column created during melt\n",
    "tweet_archive_clean.drop(['stages'], axis=1, inplace=True)"
   ]
  },
  {
   "cell_type": "markdown",
   "metadata": {},
   "source": [
    "#### Test"
   ]
  },
  {
   "cell_type": "code",
   "execution_count": 50,
   "metadata": {},
   "outputs": [
    {
     "data": {
      "text/plain": [
       "['tweet_id',\n",
       " 'timestamp',\n",
       " 'text',\n",
       " 'rating_numerator',\n",
       " 'rating_denominator',\n",
       " 'name',\n",
       " 'dog_stage']"
      ]
     },
     "execution_count": 50,
     "metadata": {},
     "output_type": "execute_result"
    }
   ],
   "source": [
    "# check that 'stage' column, created during melt, was dropped\n",
    "# and new consolidated column 'dog_stage' is there\n",
    "list(tweet_archive_clean.columns.values)"
   ]
  },
  {
   "cell_type": "code",
   "execution_count": 51,
   "metadata": {},
   "outputs": [
    {
     "data": {
      "text/plain": [
       "pupper            223\n",
       "doggo              73\n",
       "puppo              24\n",
       "floofer            10\n",
       "pupper & doggo      5\n",
       "Name: dog_stage, dtype: int64"
      ]
     },
     "execution_count": 51,
     "metadata": {},
     "output_type": "execute_result"
    }
   ],
   "source": [
    "# check that dog stages were kept on drop duplicates\n",
    "tweet_archive_clean.dog_stage.value_counts()"
   ]
  },
  {
   "cell_type": "markdown",
   "metadata": {},
   "source": [
    "---\n",
    "#### Define\n",
    "Fix numerators and denominators:\n",
    "* Re-extract all matches of the numerator and denominator\n",
    "    + Correct numerator regex extraction for decimals\n",
    "    + Correct denominator regex extraction to only get denominators divisible by 10\n",
    "* Make numerators and denominators consistent:\n",
    "    + Normalize numerators/denominator pairs to a denominator of 10\n",
    "    + Average multiple ratings in a tweet to create a single rating per tweet"
   ]
  },
  {
   "cell_type": "markdown",
   "metadata": {},
   "source": [
    "#### Code"
   ]
  },
  {
   "cell_type": "code",
   "execution_count": 52,
   "metadata": {},
   "outputs": [],
   "source": [
    "# extract all ratings that have a denominator divisible by 10\n",
    "ratings = tweet_archive_clean.text.str.extractall(r\"(?P<numerator>\\d+\\.?\\d*)\\/(?P<denominator>\\d+0)\")\n",
    "# change strings to number formats\n",
    "ratings.numerator = ratings.numerator.astype(float)\n",
    "ratings.denominator = ratings.denominator.astype(float)"
   ]
  },
  {
   "cell_type": "code",
   "execution_count": 53,
   "metadata": {},
   "outputs": [
    {
     "data": {
      "text/html": [
       "<div>\n",
       "<style scoped>\n",
       "    .dataframe tbody tr th:only-of-type {\n",
       "        vertical-align: middle;\n",
       "    }\n",
       "\n",
       "    .dataframe tbody tr th {\n",
       "        vertical-align: top;\n",
       "    }\n",
       "\n",
       "    .dataframe thead th {\n",
       "        text-align: right;\n",
       "    }\n",
       "</style>\n",
       "<table border=\"1\" class=\"dataframe\">\n",
       "  <thead>\n",
       "    <tr style=\"text-align: right;\">\n",
       "      <th></th>\n",
       "      <th></th>\n",
       "      <th>numerator</th>\n",
       "      <th>denominator</th>\n",
       "    </tr>\n",
       "    <tr>\n",
       "      <th></th>\n",
       "      <th>match</th>\n",
       "      <th></th>\n",
       "      <th></th>\n",
       "    </tr>\n",
       "  </thead>\n",
       "  <tbody>\n",
       "    <tr>\n",
       "      <th>2018</th>\n",
       "      <th>0</th>\n",
       "      <td>6.0</td>\n",
       "      <td>10.0</td>\n",
       "    </tr>\n",
       "    <tr>\n",
       "      <th>2017</th>\n",
       "      <th>0</th>\n",
       "      <td>11.0</td>\n",
       "      <td>10.0</td>\n",
       "    </tr>\n",
       "    <tr>\n",
       "      <th>2016</th>\n",
       "      <th>0</th>\n",
       "      <td>7.0</td>\n",
       "      <td>10.0</td>\n",
       "    </tr>\n",
       "    <tr>\n",
       "      <th>2015</th>\n",
       "      <th>0</th>\n",
       "      <td>11.0</td>\n",
       "      <td>10.0</td>\n",
       "    </tr>\n",
       "    <tr>\n",
       "      <th>2014</th>\n",
       "      <th>0</th>\n",
       "      <td>7.0</td>\n",
       "      <td>10.0</td>\n",
       "    </tr>\n",
       "  </tbody>\n",
       "</table>\n",
       "</div>"
      ],
      "text/plain": [
       "            numerator  denominator\n",
       "     match                        \n",
       "2018 0            6.0         10.0\n",
       "2017 0           11.0         10.0\n",
       "2016 0            7.0         10.0\n",
       "2015 0           11.0         10.0\n",
       "2014 0            7.0         10.0"
      ]
     },
     "execution_count": 53,
     "metadata": {},
     "output_type": "execute_result"
    }
   ],
   "source": [
    "ratings.head()"
   ]
  },
  {
   "cell_type": "code",
   "execution_count": 54,
   "metadata": {},
   "outputs": [],
   "source": [
    "# unstack and average ratings\n",
    "ratings = ratings.unstack()\n",
    "ratings = pd.concat([ratings.numerator.mean(axis=1).rename('rating_numerator'),\n",
    "                     ratings.denominator.mean(axis=1).rename('rating_denominator')],\n",
    "                    axis = 1)"
   ]
  },
  {
   "cell_type": "code",
   "execution_count": 55,
   "metadata": {},
   "outputs": [
    {
     "data": {
      "text/html": [
       "<div>\n",
       "<style scoped>\n",
       "    .dataframe tbody tr th:only-of-type {\n",
       "        vertical-align: middle;\n",
       "    }\n",
       "\n",
       "    .dataframe tbody tr th {\n",
       "        vertical-align: top;\n",
       "    }\n",
       "\n",
       "    .dataframe thead th {\n",
       "        text-align: right;\n",
       "    }\n",
       "</style>\n",
       "<table border=\"1\" class=\"dataframe\">\n",
       "  <thead>\n",
       "    <tr style=\"text-align: right;\">\n",
       "      <th></th>\n",
       "      <th>rating_numerator</th>\n",
       "      <th>rating_denominator</th>\n",
       "    </tr>\n",
       "  </thead>\n",
       "  <tbody>\n",
       "    <tr>\n",
       "      <th>2436</th>\n",
       "      <td>84.0</td>\n",
       "      <td>70.0</td>\n",
       "    </tr>\n",
       "    <tr>\n",
       "      <th>2797</th>\n",
       "      <td>165.0</td>\n",
       "      <td>150.0</td>\n",
       "    </tr>\n",
       "    <tr>\n",
       "      <th>3001</th>\n",
       "      <td>204.0</td>\n",
       "      <td>170.0</td>\n",
       "    </tr>\n",
       "  </tbody>\n",
       "</table>\n",
       "</div>"
      ],
      "text/plain": [
       "      rating_numerator  rating_denominator\n",
       "2436              84.0                70.0\n",
       "2797             165.0               150.0\n",
       "3001             204.0               170.0"
      ]
     },
     "execution_count": 55,
     "metadata": {},
     "output_type": "execute_result"
    }
   ],
   "source": [
    "# get 'ratings' example of a denominator > 10 for later\n",
    "ratings.loc[ratings.rating_denominator > 10].head(3)"
   ]
  },
  {
   "cell_type": "code",
   "execution_count": 56,
   "metadata": {},
   "outputs": [],
   "source": [
    "# change ratings to base of denominator 10\n",
    "ratings['rating_numerator'] = ratings['rating_numerator'] / ratings['rating_denominator'] * 10\n",
    "ratings['rating_denominator'] = 10\n",
    "# round 'rating_numerator' to 2 digits\n",
    "ratings = ratings.round({'rating_numerator': 2})"
   ]
  },
  {
   "cell_type": "code",
   "execution_count": 57,
   "metadata": {},
   "outputs": [
    {
     "data": {
      "text/html": [
       "<div>\n",
       "<style scoped>\n",
       "    .dataframe tbody tr th:only-of-type {\n",
       "        vertical-align: middle;\n",
       "    }\n",
       "\n",
       "    .dataframe tbody tr th {\n",
       "        vertical-align: top;\n",
       "    }\n",
       "\n",
       "    .dataframe thead th {\n",
       "        text-align: right;\n",
       "    }\n",
       "</style>\n",
       "<table border=\"1\" class=\"dataframe\">\n",
       "  <thead>\n",
       "    <tr style=\"text-align: right;\">\n",
       "      <th></th>\n",
       "      <th>rating_numerator</th>\n",
       "      <th>rating_denominator</th>\n",
       "    </tr>\n",
       "  </thead>\n",
       "  <tbody>\n",
       "  </tbody>\n",
       "</table>\n",
       "</div>"
      ],
      "text/plain": [
       "Empty DataFrame\n",
       "Columns: [rating_numerator, rating_denominator]\n",
       "Index: []"
      ]
     },
     "execution_count": 57,
     "metadata": {},
     "output_type": "execute_result"
    }
   ],
   "source": [
    "# check for any denominators > 10\n",
    "ratings.loc[ratings.rating_denominator > 10]"
   ]
  },
  {
   "cell_type": "code",
   "execution_count": 58,
   "metadata": {
    "scrolled": true
   },
   "outputs": [
    {
     "data": {
      "text/plain": [
       "rating_numerator      12.0\n",
       "rating_denominator    10.0\n",
       "Name: 2436, dtype: float64"
      ]
     },
     "execution_count": 58,
     "metadata": {},
     "output_type": "execute_result"
    }
   ],
   "source": [
    "# check 'ratings' index that previously had a denominator > 10\n",
    "ratings.loc[2436]"
   ]
  },
  {
   "cell_type": "code",
   "execution_count": 59,
   "metadata": {},
   "outputs": [
    {
     "data": {
      "text/plain": [
       "tweet_id                                             820690176645140481\n",
       "timestamp                                     2017-01-15 17:52:40+00:00\n",
       "text                  The floofs have been released I repeat the flo...\n",
       "rating_numerator                                                     84\n",
       "rating_denominator                                                   70\n",
       "name                                                               None\n",
       "dog_stage                                                           NaN\n",
       "Name: 2436, dtype: object"
      ]
     },
     "execution_count": 59,
     "metadata": {},
     "output_type": "execute_result"
    }
   ],
   "source": [
    "# get 'tweet_archive_clean' test row by index to check after updating with 'ratings'\n",
    "tweet_archive_clean.loc[2436]"
   ]
  },
  {
   "cell_type": "code",
   "execution_count": 60,
   "metadata": {},
   "outputs": [
    {
     "name": "stdout",
     "output_type": "stream",
     "text": [
      "rows before update: 2097\n",
      "rows after update: 2097\n"
     ]
    }
   ],
   "source": [
    "# get number of rows before update\n",
    "print(\"rows before update: {}\".format(len(tweet_archive_clean)))\n",
    "# change rating types in 'tweet_archive_clean' to match 'ratings'\n",
    "tweet_archive_clean.rating_numerator = tweet_archive_clean.rating_numerator.astype(float)\n",
    "tweet_archive_clean.rating_denominator = tweet_archive_clean.rating_denominator.astype(float)\n",
    "# reset all values to 'NaN'\n",
    "tweet_archive_clean.rating_numerator = np.nan\n",
    "tweet_archive_clean.rating_denominator = np.nan\n",
    "# update numerator and denominator from 'ratings'\n",
    "tweet_archive_clean.update(ratings)\n",
    "# get number of rows after update\n",
    "print(\"rows after update: {}\".format(len(tweet_archive_clean)))"
   ]
  },
  {
   "cell_type": "code",
   "execution_count": 61,
   "metadata": {},
   "outputs": [],
   "source": [
    "tweet_archive_clean = tweet_archive_clean.round({'rating_numerator': 2})"
   ]
  },
  {
   "cell_type": "markdown",
   "metadata": {},
   "source": [
    "#### Test"
   ]
  },
  {
   "cell_type": "code",
   "execution_count": 62,
   "metadata": {},
   "outputs": [
    {
     "data": {
      "text/plain": [
       "tweet_id                                             820690176645140481\n",
       "timestamp                                     2017-01-15 17:52:40+00:00\n",
       "text                  The floofs have been released I repeat the flo...\n",
       "rating_numerator                                                     12\n",
       "rating_denominator                                                   10\n",
       "name                                                               None\n",
       "dog_stage                                                           NaN\n",
       "Name: 2436, dtype: object"
      ]
     },
     "execution_count": 62,
     "metadata": {},
     "output_type": "execute_result"
    }
   ],
   "source": [
    "# check that correct indices were updated successful\n",
    "tweet_archive_clean.loc[2436]"
   ]
  },
  {
   "cell_type": "code",
   "execution_count": 63,
   "metadata": {},
   "outputs": [
    {
     "data": {
      "text/plain": [
       "0.00     1\n",
       "1.00     4\n",
       "2.00     9\n",
       "3.00    19\n",
       "4.00    14\n",
       "4.50     1\n",
       "5.00    31\n",
       "5.50     1\n",
       "5.67     1\n",
       "6.00    32\n",
       "Name: rating_numerator, dtype: int64"
      ]
     },
     "execution_count": 63,
     "metadata": {},
     "output_type": "execute_result"
    }
   ],
   "source": [
    "# check that the regex captured decimals\n",
    "tweet_archive_clean.rating_numerator.value_counts().sort_index().head(10)"
   ]
  },
  {
   "cell_type": "code",
   "execution_count": 64,
   "metadata": {},
   "outputs": [
    {
     "data": {
      "text/plain": [
       "10.0    2096\n",
       "Name: rating_denominator, dtype: int64"
      ]
     },
     "execution_count": 64,
     "metadata": {},
     "output_type": "execute_result"
    }
   ],
   "source": [
    "# check that all denominators are now 10\n",
    "tweet_archive_clean.rating_denominator.value_counts()"
   ]
  },
  {
   "cell_type": "markdown",
   "metadata": {},
   "source": [
    "---\n",
    "#### Define\n",
    "Manually fix:\n",
    "    + Delete tweet_id = 855862651834028034 (Snoop Dogg is not a real dog)"
   ]
  },
  {
   "cell_type": "markdown",
   "metadata": {},
   "source": [
    "#### Code"
   ]
  },
  {
   "cell_type": "code",
   "execution_count": 65,
   "metadata": {},
   "outputs": [],
   "source": [
    "tweet_archive_clean = tweet_archive_clean[tweet_archive_clean.tweet_id != 855862651834028034]"
   ]
  },
  {
   "cell_type": "markdown",
   "metadata": {},
   "source": [
    "#### Test"
   ]
  },
  {
   "cell_type": "code",
   "execution_count": 66,
   "metadata": {},
   "outputs": [
    {
     "data": {
      "text/html": [
       "<div>\n",
       "<style scoped>\n",
       "    .dataframe tbody tr th:only-of-type {\n",
       "        vertical-align: middle;\n",
       "    }\n",
       "\n",
       "    .dataframe tbody tr th {\n",
       "        vertical-align: top;\n",
       "    }\n",
       "\n",
       "    .dataframe thead th {\n",
       "        text-align: right;\n",
       "    }\n",
       "</style>\n",
       "<table border=\"1\" class=\"dataframe\">\n",
       "  <thead>\n",
       "    <tr style=\"text-align: right;\">\n",
       "      <th></th>\n",
       "      <th>tweet_id</th>\n",
       "      <th>timestamp</th>\n",
       "      <th>text</th>\n",
       "      <th>rating_numerator</th>\n",
       "      <th>rating_denominator</th>\n",
       "      <th>name</th>\n",
       "      <th>dog_stage</th>\n",
       "    </tr>\n",
       "  </thead>\n",
       "  <tbody>\n",
       "  </tbody>\n",
       "</table>\n",
       "</div>"
      ],
      "text/plain": [
       "Empty DataFrame\n",
       "Columns: [tweet_id, timestamp, text, rating_numerator, rating_denominator, name, dog_stage]\n",
       "Index: []"
      ]
     },
     "execution_count": 66,
     "metadata": {},
     "output_type": "execute_result"
    }
   ],
   "source": [
    "# check that it was deleted\n",
    "tweet_archive_clean[tweet_archive_clean.tweet_id == 855862651834028034]"
   ]
  },
  {
   "cell_type": "markdown",
   "metadata": {},
   "source": [
    "---\n",
    "#### Define\n",
    "Fix dog names column to contain dog names\n",
    "* Remove lowercase entries\n",
    "* Remove 'None' entries\n",
    "* Apply manual fixes:\n",
    "    + \"O\" should be \"O'Malley\"\n",
    "    + \"Gin\" should be \"Gin & Tonic\"\n",
    "\n",
    "<b>Note</b>: Originally the `nltk` module was used to flag non-proper nouns using `nltk.tag.pos_tag`, but it only caught about half, resulting in scrolling through a lot of names. In the end, the list of names to get rid of was all lowercase words + 'None', so the exclusion has been updated to the much simpler way. The good thing that came from that is that some errors needing manual fixes were found."
   ]
  },
  {
   "cell_type": "markdown",
   "metadata": {},
   "source": [
    "#### Code"
   ]
  },
  {
   "cell_type": "code",
   "execution_count": 67,
   "metadata": {},
   "outputs": [],
   "source": [
    "# get all lowercase words in 'name'\n",
    "list_of_exclusion_words = list(tweet_archive_clean[tweet_archive_clean.name.map(lambda x: not x[0].isupper())].name.value_counts().index)\n",
    "# add 'None' to the exclusion list\n",
    "list_of_exclusion_words.extend(['None'])"
   ]
  },
  {
   "cell_type": "code",
   "execution_count": 68,
   "metadata": {},
   "outputs": [],
   "source": [
    "# get rid of entries for exclusion words\n",
    "tweet_archive_clean.name = tweet_archive_clean.name.where(~tweet_archive_clean.name.isin(list_of_exclusion_words))"
   ]
  },
  {
   "cell_type": "code",
   "execution_count": 69,
   "metadata": {},
   "outputs": [],
   "source": [
    "# manually fix problem names\n",
    "tweet_archive_clean.loc[tweet_archive_clean.name == 'O', 'name']=\"O'Malley\"\n",
    "tweet_archive_clean.loc[tweet_archive_clean.name == 'Gin', 'name']=\"Gin & Tonic\""
   ]
  },
  {
   "cell_type": "markdown",
   "metadata": {},
   "source": [
    "#### Test"
   ]
  },
  {
   "cell_type": "code",
   "execution_count": 70,
   "metadata": {},
   "outputs": [
    {
     "data": {
      "text/html": [
       "<div>\n",
       "<style scoped>\n",
       "    .dataframe tbody tr th:only-of-type {\n",
       "        vertical-align: middle;\n",
       "    }\n",
       "\n",
       "    .dataframe tbody tr th {\n",
       "        vertical-align: top;\n",
       "    }\n",
       "\n",
       "    .dataframe thead th {\n",
       "        text-align: right;\n",
       "    }\n",
       "</style>\n",
       "<table border=\"1\" class=\"dataframe\">\n",
       "  <thead>\n",
       "    <tr style=\"text-align: right;\">\n",
       "      <th></th>\n",
       "      <th>tweet_id</th>\n",
       "      <th>timestamp</th>\n",
       "      <th>text</th>\n",
       "      <th>rating_numerator</th>\n",
       "      <th>rating_denominator</th>\n",
       "      <th>name</th>\n",
       "      <th>dog_stage</th>\n",
       "    </tr>\n",
       "  </thead>\n",
       "  <tbody>\n",
       "  </tbody>\n",
       "</table>\n",
       "</div>"
      ],
      "text/plain": [
       "Empty DataFrame\n",
       "Columns: [tweet_id, timestamp, text, rating_numerator, rating_denominator, name, dog_stage]\n",
       "Index: []"
      ]
     },
     "execution_count": 70,
     "metadata": {},
     "output_type": "execute_result"
    }
   ],
   "source": [
    "# check that there aren't any entries with excluded words\n",
    "tweet_archive_clean[tweet_archive_clean.name.isin(list_of_exclusion_words)]"
   ]
  },
  {
   "cell_type": "code",
   "execution_count": 71,
   "metadata": {},
   "outputs": [
    {
     "data": {
      "text/html": [
       "<div>\n",
       "<style scoped>\n",
       "    .dataframe tbody tr th:only-of-type {\n",
       "        vertical-align: middle;\n",
       "    }\n",
       "\n",
       "    .dataframe tbody tr th {\n",
       "        vertical-align: top;\n",
       "    }\n",
       "\n",
       "    .dataframe thead th {\n",
       "        text-align: right;\n",
       "    }\n",
       "</style>\n",
       "<table border=\"1\" class=\"dataframe\">\n",
       "  <thead>\n",
       "    <tr style=\"text-align: right;\">\n",
       "      <th></th>\n",
       "      <th>tweet_id</th>\n",
       "      <th>timestamp</th>\n",
       "      <th>text</th>\n",
       "      <th>rating_numerator</th>\n",
       "      <th>rating_denominator</th>\n",
       "      <th>name</th>\n",
       "      <th>dog_stage</th>\n",
       "    </tr>\n",
       "  </thead>\n",
       "  <tbody>\n",
       "    <tr>\n",
       "      <th>3940</th>\n",
       "      <td>670755717859713024</td>\n",
       "      <td>2015-11-29 00:06:39+00:00</td>\n",
       "      <td>Say hello to Gin &amp;amp; Tonic. They're having a...</td>\n",
       "      <td>9.0</td>\n",
       "      <td>10.0</td>\n",
       "      <td>Gin &amp; Tonic</td>\n",
       "      <td>NaN</td>\n",
       "    </tr>\n",
       "    <tr>\n",
       "      <th>2691</th>\n",
       "      <td>776201521193218049</td>\n",
       "      <td>2016-09-14 23:30:38+00:00</td>\n",
       "      <td>This is O'Malley. That is how he sleeps. Doesn...</td>\n",
       "      <td>10.0</td>\n",
       "      <td>10.0</td>\n",
       "      <td>O'Malley</td>\n",
       "      <td>NaN</td>\n",
       "    </tr>\n",
       "  </tbody>\n",
       "</table>\n",
       "</div>"
      ],
      "text/plain": [
       "                tweet_id                 timestamp  \\\n",
       "3940  670755717859713024 2015-11-29 00:06:39+00:00   \n",
       "2691  776201521193218049 2016-09-14 23:30:38+00:00   \n",
       "\n",
       "                                                   text  rating_numerator  \\\n",
       "3940  Say hello to Gin &amp; Tonic. They're having a...               9.0   \n",
       "2691  This is O'Malley. That is how he sleeps. Doesn...              10.0   \n",
       "\n",
       "      rating_denominator         name dog_stage  \n",
       "3940                10.0  Gin & Tonic       NaN  \n",
       "2691                10.0     O'Malley       NaN  "
      ]
     },
     "execution_count": 71,
     "metadata": {},
     "output_type": "execute_result"
    }
   ],
   "source": [
    "tweet_archive_clean[tweet_archive_clean.name.isin([\"O'Malley\", \"Gin & Tonic\"])]"
   ]
  },
  {
   "cell_type": "markdown",
   "metadata": {},
   "source": [
    "<a id='clean-image_predictions_df'></a>\n",
    "## `image_predictions_df`"
   ]
  },
  {
   "cell_type": "code",
   "execution_count": 72,
   "metadata": {},
   "outputs": [],
   "source": [
    "# Copy to another DataFrame to clean\n",
    "image_predictions_clean = image_predictions_df.copy()"
   ]
  },
  {
   "cell_type": "markdown",
   "metadata": {},
   "source": [
    "---\n",
    "#### Define\n",
    "Delete tweets that weren't identified as dogs"
   ]
  },
  {
   "cell_type": "markdown",
   "metadata": {},
   "source": [
    "#### Code"
   ]
  },
  {
   "cell_type": "code",
   "execution_count": 73,
   "metadata": {},
   "outputs": [],
   "source": [
    "# save image predictions where at least one dog is identified\n",
    "image_predictions_clean = image_predictions_clean[(image_predictions_clean.p1_dog == True) |\n",
    "                                                  (image_predictions_clean.p2_dog == True) |\n",
    "                                                  (image_predictions_clean.p3_dog == True)]"
   ]
  },
  {
   "cell_type": "markdown",
   "metadata": {},
   "source": [
    "#### Test"
   ]
  },
  {
   "cell_type": "code",
   "execution_count": 74,
   "metadata": {},
   "outputs": [
    {
     "name": "stdout",
     "output_type": "stream",
     "text": [
      "original 'image_predictions_df' entries: 2075\n",
      "updated 'image_prediction_clean' entries: 1751\n"
     ]
    }
   ],
   "source": [
    "# check how many entries are \n",
    "print(\"original 'image_predictions_df' entries: {}\".format(len(image_predictions_df)))\n",
    "print(\"updated 'image_prediction_clean' entries: {}\".format(len(image_predictions_clean)))"
   ]
  },
  {
   "cell_type": "markdown",
   "metadata": {},
   "source": [
    "---\n",
    "#### Define\n",
    "Keep only the most probable dog identification"
   ]
  },
  {
   "cell_type": "markdown",
   "metadata": {},
   "source": [
    "#### Code"
   ]
  },
  {
   "cell_type": "code",
   "execution_count": 75,
   "metadata": {},
   "outputs": [],
   "source": [
    "def extract_breed_probabilities(row):\n",
    "    \"\"\" gather tuples for each (breed, probability, is_dog?) \"\"\"\n",
    "    try:\n",
    "        return [(row['p{}'.format(number)],row['p{}_conf'.format(number)]) for number in '123' if row['p{}_dog'.format(number)]]\n",
    "    except:\n",
    "        return np.nan\n",
    "    \n",
    "def get_probable_breed(row):\n",
    "    \"\"\" find most probable dog breed \"\"\"\n",
    "    # get values as tuples\n",
    "    probabilites = extract_breed_probabilities(row)\n",
    "    try:\n",
    "        # return breed (1st index) of tuple with highest probability (2nd index)\n",
    "        return sorted(probabilites, key=lambda x:x[1], reverse=True)[0][0]\n",
    "    except:\n",
    "        return np.nan"
   ]
  },
  {
   "cell_type": "code",
   "execution_count": 76,
   "metadata": {},
   "outputs": [],
   "source": [
    "dog_breeds = pd.Series({index: get_probable_breed(row) for index, row in image_predictions_clean.iterrows()})"
   ]
  },
  {
   "cell_type": "code",
   "execution_count": 77,
   "metadata": {},
   "outputs": [],
   "source": [
    "# append new 'dog_breed' column\n",
    "image_predictions_clean = pd.concat([image_predictions_clean, dog_breeds.rename('dog_breed')], axis=1)"
   ]
  },
  {
   "cell_type": "markdown",
   "metadata": {},
   "source": [
    "#### Test"
   ]
  },
  {
   "cell_type": "code",
   "execution_count": 78,
   "metadata": {},
   "outputs": [
    {
     "data": {
      "text/html": [
       "<div>\n",
       "<style scoped>\n",
       "    .dataframe tbody tr th:only-of-type {\n",
       "        vertical-align: middle;\n",
       "    }\n",
       "\n",
       "    .dataframe tbody tr th {\n",
       "        vertical-align: top;\n",
       "    }\n",
       "\n",
       "    .dataframe thead th {\n",
       "        text-align: right;\n",
       "    }\n",
       "</style>\n",
       "<table border=\"1\" class=\"dataframe\">\n",
       "  <thead>\n",
       "    <tr style=\"text-align: right;\">\n",
       "      <th></th>\n",
       "      <th>tweet_id</th>\n",
       "      <th>jpg_url</th>\n",
       "      <th>img_num</th>\n",
       "      <th>p1</th>\n",
       "      <th>p1_conf</th>\n",
       "      <th>p1_dog</th>\n",
       "      <th>p2</th>\n",
       "      <th>p2_conf</th>\n",
       "      <th>p2_dog</th>\n",
       "      <th>p3</th>\n",
       "      <th>p3_conf</th>\n",
       "      <th>p3_dog</th>\n",
       "      <th>dog_breed</th>\n",
       "    </tr>\n",
       "  </thead>\n",
       "  <tbody>\n",
       "    <tr>\n",
       "      <th>0</th>\n",
       "      <td>666020888022790149</td>\n",
       "      <td>https://pbs.twimg.com/media/CT4udn0WwAA0aMy.jpg</td>\n",
       "      <td>1</td>\n",
       "      <td>Welsh_springer_spaniel</td>\n",
       "      <td>0.465074</td>\n",
       "      <td>True</td>\n",
       "      <td>collie</td>\n",
       "      <td>0.156665</td>\n",
       "      <td>True</td>\n",
       "      <td>Shetland_sheepdog</td>\n",
       "      <td>0.061428</td>\n",
       "      <td>True</td>\n",
       "      <td>Welsh_springer_spaniel</td>\n",
       "    </tr>\n",
       "    <tr>\n",
       "      <th>1</th>\n",
       "      <td>666029285002620928</td>\n",
       "      <td>https://pbs.twimg.com/media/CT42GRgUYAA5iDo.jpg</td>\n",
       "      <td>1</td>\n",
       "      <td>redbone</td>\n",
       "      <td>0.506826</td>\n",
       "      <td>True</td>\n",
       "      <td>miniature_pinscher</td>\n",
       "      <td>0.074192</td>\n",
       "      <td>True</td>\n",
       "      <td>Rhodesian_ridgeback</td>\n",
       "      <td>0.072010</td>\n",
       "      <td>True</td>\n",
       "      <td>redbone</td>\n",
       "    </tr>\n",
       "    <tr>\n",
       "      <th>2</th>\n",
       "      <td>666033412701032449</td>\n",
       "      <td>https://pbs.twimg.com/media/CT4521TWwAEvMyu.jpg</td>\n",
       "      <td>1</td>\n",
       "      <td>German_shepherd</td>\n",
       "      <td>0.596461</td>\n",
       "      <td>True</td>\n",
       "      <td>malinois</td>\n",
       "      <td>0.138584</td>\n",
       "      <td>True</td>\n",
       "      <td>bloodhound</td>\n",
       "      <td>0.116197</td>\n",
       "      <td>True</td>\n",
       "      <td>German_shepherd</td>\n",
       "    </tr>\n",
       "  </tbody>\n",
       "</table>\n",
       "</div>"
      ],
      "text/plain": [
       "             tweet_id                                          jpg_url  \\\n",
       "0  666020888022790149  https://pbs.twimg.com/media/CT4udn0WwAA0aMy.jpg   \n",
       "1  666029285002620928  https://pbs.twimg.com/media/CT42GRgUYAA5iDo.jpg   \n",
       "2  666033412701032449  https://pbs.twimg.com/media/CT4521TWwAEvMyu.jpg   \n",
       "\n",
       "   img_num                      p1   p1_conf  p1_dog                  p2  \\\n",
       "0        1  Welsh_springer_spaniel  0.465074    True              collie   \n",
       "1        1                 redbone  0.506826    True  miniature_pinscher   \n",
       "2        1         German_shepherd  0.596461    True            malinois   \n",
       "\n",
       "    p2_conf  p2_dog                   p3   p3_conf  p3_dog  \\\n",
       "0  0.156665    True    Shetland_sheepdog  0.061428    True   \n",
       "1  0.074192    True  Rhodesian_ridgeback  0.072010    True   \n",
       "2  0.138584    True           bloodhound  0.116197    True   \n",
       "\n",
       "                dog_breed  \n",
       "0  Welsh_springer_spaniel  \n",
       "1                 redbone  \n",
       "2         German_shepherd  "
      ]
     },
     "execution_count": 78,
     "metadata": {},
     "output_type": "execute_result"
    }
   ],
   "source": [
    "image_predictions_clean.head(3)"
   ]
  },
  {
   "cell_type": "markdown",
   "metadata": {},
   "source": [
    "---\n",
    "#### Define\n",
    "All columns were leading to 'dog_breed'. Drop columns that are no longer needed (only keep 'tweet_id' and 'dog_breed')."
   ]
  },
  {
   "cell_type": "markdown",
   "metadata": {},
   "source": [
    "#### Code"
   ]
  },
  {
   "cell_type": "code",
   "execution_count": 79,
   "metadata": {},
   "outputs": [],
   "source": [
    "image_predictions_clean = image_predictions_clean[['tweet_id', 'dog_breed']]"
   ]
  },
  {
   "cell_type": "markdown",
   "metadata": {},
   "source": [
    "<a id='clean-tweet_json_df'></a>\n",
    "## `tweet_json_df`"
   ]
  },
  {
   "cell_type": "code",
   "execution_count": 80,
   "metadata": {},
   "outputs": [],
   "source": [
    "# Copy to another DataFrame to clean\n",
    "tweet_json_clean = tweet_json_df.copy()"
   ]
  },
  {
   "cell_type": "markdown",
   "metadata": {},
   "source": [
    "---\n",
    "#### Define\n",
    "Piece together information about missing tweets in `tweet_json_df` versus source of tweet ids, `tweet_archive_df`."
   ]
  },
  {
   "cell_type": "markdown",
   "metadata": {},
   "source": [
    "#### Code\n",
    "At the time of writing, the difference in retreived tweet JSONs from the API was very small. With so few missing tweets, we should be able to use `.get_status()` without fear of timeouts, etc."
   ]
  },
  {
   "cell_type": "code",
   "execution_count": 81,
   "metadata": {},
   "outputs": [],
   "source": [
    "# set up dict to ultimately create a DataFrame\n",
    "missing_tweets = defaultdict(list)\n",
    "# get values of missing tweet_id's\n",
    "missing_tweets['tweets_id'] = [tweet_id for index, tweet_id in tweet_archive_df.tweet_id.items() \\\n",
    "                               if tweet_id not in tweet_json_df.id.values]\n",
    "# get status codes\n",
    "for tweet_id in missing_tweets['tweets_id']:\n",
    "    try:\n",
    "        api.get_status(tweet_id)\n",
    "    except tweepy.TweepError as error:\n",
    "        error = eval(error.response.text)['errors'][0]\n",
    "        missing_tweets['code'].append(error['code'])\n",
    "        missing_tweets['message'].append(error['message'])\n",
    "# change `missing_tweets` to DataFrame\n",
    "missing_tweets = pd.DataFrame(missing_tweets)"
   ]
  },
  {
   "cell_type": "code",
   "execution_count": 82,
   "metadata": {},
   "outputs": [
    {
     "data": {
      "text/html": [
       "<div>\n",
       "<style scoped>\n",
       "    .dataframe tbody tr th:only-of-type {\n",
       "        vertical-align: middle;\n",
       "    }\n",
       "\n",
       "    .dataframe tbody tr th {\n",
       "        vertical-align: top;\n",
       "    }\n",
       "\n",
       "    .dataframe thead th {\n",
       "        text-align: right;\n",
       "    }\n",
       "</style>\n",
       "<table border=\"1\" class=\"dataframe\">\n",
       "  <thead>\n",
       "    <tr style=\"text-align: right;\">\n",
       "      <th></th>\n",
       "      <th>tweets_id</th>\n",
       "      <th>code</th>\n",
       "      <th>message</th>\n",
       "    </tr>\n",
       "  </thead>\n",
       "  <tbody>\n",
       "    <tr>\n",
       "      <th>0</th>\n",
       "      <td>888202515573088257</td>\n",
       "      <td>144</td>\n",
       "      <td>No status found with that ID.</td>\n",
       "    </tr>\n",
       "    <tr>\n",
       "      <th>1</th>\n",
       "      <td>873697596434513921</td>\n",
       "      <td>144</td>\n",
       "      <td>No status found with that ID.</td>\n",
       "    </tr>\n",
       "    <tr>\n",
       "      <th>2</th>\n",
       "      <td>869988702071779329</td>\n",
       "      <td>144</td>\n",
       "      <td>No status found with that ID.</td>\n",
       "    </tr>\n",
       "  </tbody>\n",
       "</table>\n",
       "</div>"
      ],
      "text/plain": [
       "            tweets_id  code                        message\n",
       "0  888202515573088257   144  No status found with that ID.\n",
       "1  873697596434513921   144  No status found with that ID.\n",
       "2  869988702071779329   144  No status found with that ID."
      ]
     },
     "execution_count": 82,
     "metadata": {},
     "output_type": "execute_result"
    }
   ],
   "source": [
    "# verify the gathering and encoding to DataFrame\n",
    "missing_tweets.head(3)"
   ]
  },
  {
   "cell_type": "code",
   "execution_count": 83,
   "metadata": {},
   "outputs": [
    {
     "data": {
      "text/plain": [
       "144    13\n",
       "Name: code, dtype: int64"
      ]
     },
     "execution_count": 83,
     "metadata": {},
     "output_type": "execute_result"
    }
   ],
   "source": [
    "# check occurances of error codes\n",
    "missing_tweets.code.value_counts()"
   ]
  },
  {
   "cell_type": "markdown",
   "metadata": {},
   "source": [
    "#### Verify"
   ]
  },
  {
   "cell_type": "markdown",
   "metadata": {},
   "source": [
    "All the codes are 144. According to the Twitter developer [Response Codes](https://developer.twitter.com/en/docs/basics/response-codes.html), code 144 means the tweets were most likely deleted. Therefore, no data recovery is possible; what's in the archive is what's available."
   ]
  },
  {
   "cell_type": "markdown",
   "metadata": {},
   "source": [
    "---\n",
    "#### Define\n",
    "Extract columns from JSON data that are non-duplicate information with the tweet archive:\n",
    "* 'retweet_count'\n",
    "* 'favorite_count'\n",
    "* <s>'users'['followers_count']</s> (determined to be useless)"
   ]
  },
  {
   "cell_type": "markdown",
   "metadata": {},
   "source": [
    "#### Code"
   ]
  },
  {
   "cell_type": "code",
   "execution_count": 84,
   "metadata": {},
   "outputs": [],
   "source": [
    "# extract 'followers_count' from 'user' dictionaries\n",
    "tweet_json_clean['followers_count'] = tweet_json_clean.user.map(lambda x: x['followers_count'])"
   ]
  },
  {
   "cell_type": "code",
   "execution_count": 85,
   "metadata": {},
   "outputs": [
    {
     "data": {
      "text/plain": [
       "1356    7087965\n",
       "270     7087965\n",
       "1602    7087965\n",
       "Name: followers_count, dtype: int64"
      ]
     },
     "execution_count": 85,
     "metadata": {},
     "output_type": "execute_result"
    }
   ],
   "source": [
    "# check 'followers_count' was created\n",
    "tweet_json_clean['followers_count'].sample(3)"
   ]
  },
  {
   "cell_type": "code",
   "execution_count": 86,
   "metadata": {},
   "outputs": [
    {
     "data": {
      "text/plain": [
       "7087965    2245\n",
       "7087964      98\n",
       "Name: followers_count, dtype: int64"
      ]
     },
     "execution_count": 86,
     "metadata": {},
     "output_type": "execute_result"
    }
   ],
   "source": [
    "# 'followers_count' doesn't seem viable (all values look the same)\n",
    "tweet_json_clean['followers_count'].value_counts()"
   ]
  },
  {
   "cell_type": "markdown",
   "metadata": {},
   "source": [
    "The 'followers_count' in the JSON user data must have been the follwers at the time of the API call rather than over the timeline of the tweets examined. Therefore, this column isn't viable and shouldn't be saved for analysis."
   ]
  },
  {
   "cell_type": "code",
   "execution_count": 87,
   "metadata": {},
   "outputs": [],
   "source": [
    "# discard all but 'retweet_count', 'favorite_count', and ''\n",
    "tweet_json_clean = tweet_json_clean[['id', 'favorite_count', 'retweet_count']]"
   ]
  },
  {
   "cell_type": "markdown",
   "metadata": {},
   "source": [
    "#### Verify"
   ]
  },
  {
   "cell_type": "code",
   "execution_count": 88,
   "metadata": {
    "scrolled": true
   },
   "outputs": [
    {
     "data": {
      "text/html": [
       "<div>\n",
       "<style scoped>\n",
       "    .dataframe tbody tr th:only-of-type {\n",
       "        vertical-align: middle;\n",
       "    }\n",
       "\n",
       "    .dataframe tbody tr th {\n",
       "        vertical-align: top;\n",
       "    }\n",
       "\n",
       "    .dataframe thead th {\n",
       "        text-align: right;\n",
       "    }\n",
       "</style>\n",
       "<table border=\"1\" class=\"dataframe\">\n",
       "  <thead>\n",
       "    <tr style=\"text-align: right;\">\n",
       "      <th></th>\n",
       "      <th>id</th>\n",
       "      <th>favorite_count</th>\n",
       "      <th>retweet_count</th>\n",
       "    </tr>\n",
       "  </thead>\n",
       "  <tbody>\n",
       "    <tr>\n",
       "      <th>0</th>\n",
       "      <td>876484053909872640</td>\n",
       "      <td>18717</td>\n",
       "      <td>2410</td>\n",
       "    </tr>\n",
       "    <tr>\n",
       "      <th>1</th>\n",
       "      <td>886366144734445568</td>\n",
       "      <td>21109</td>\n",
       "      <td>3203</td>\n",
       "    </tr>\n",
       "    <tr>\n",
       "      <th>2</th>\n",
       "      <td>877611172832227328</td>\n",
       "      <td>0</td>\n",
       "      <td>81</td>\n",
       "    </tr>\n",
       "    <tr>\n",
       "      <th>3</th>\n",
       "      <td>888078434458587136</td>\n",
       "      <td>21676</td>\n",
       "      <td>3500</td>\n",
       "    </tr>\n",
       "    <tr>\n",
       "      <th>4</th>\n",
       "      <td>891689557279858688</td>\n",
       "      <td>42013</td>\n",
       "      <td>8668</td>\n",
       "    </tr>\n",
       "  </tbody>\n",
       "</table>\n",
       "</div>"
      ],
      "text/plain": [
       "                   id  favorite_count  retweet_count\n",
       "0  876484053909872640           18717           2410\n",
       "1  886366144734445568           21109           3203\n",
       "2  877611172832227328               0             81\n",
       "3  888078434458587136           21676           3500\n",
       "4  891689557279858688           42013           8668"
      ]
     },
     "execution_count": 88,
     "metadata": {},
     "output_type": "execute_result"
    }
   ],
   "source": [
    "# DataFrame should contain:\n",
    "#  'id'\n",
    "#  'favorite_count'\n",
    "#  'reweet_count'\n",
    "tweet_json_clean.head()"
   ]
  },
  {
   "cell_type": "markdown",
   "metadata": {},
   "source": [
    "<a id='merge'></a>\n",
    "## Merge"
   ]
  },
  {
   "cell_type": "code",
   "execution_count": 89,
   "metadata": {},
   "outputs": [
    {
     "name": "stdout",
     "output_type": "stream",
     "text": [
      "<class 'pandas.core.frame.DataFrame'>\n",
      "Int64Index: 2097 entries, 2018 to 7031\n",
      "Data columns (total 7 columns):\n",
      "tweet_id              2097 non-null int64\n",
      "timestamp             2097 non-null datetime64[ns, UTC]\n",
      "text                  2097 non-null object\n",
      "rating_numerator      2096 non-null float64\n",
      "rating_denominator    2096 non-null float64\n",
      "name                  1390 non-null object\n",
      "dog_stage             335 non-null object\n",
      "dtypes: datetime64[ns, UTC](1), float64(2), int64(1), object(3)\n",
      "memory usage: 131.1+ KB\n",
      "\n",
      "<class 'pandas.core.frame.DataFrame'>\n",
      "Int64Index: 1751 entries, 0 to 2073\n",
      "Data columns (total 2 columns):\n",
      "tweet_id     1751 non-null int64\n",
      "dog_breed    1751 non-null object\n",
      "dtypes: int64(1), object(1)\n",
      "memory usage: 41.0+ KB\n",
      "\n",
      "<class 'pandas.core.frame.DataFrame'>\n",
      "RangeIndex: 2343 entries, 0 to 2342\n",
      "Data columns (total 3 columns):\n",
      "id                2343 non-null int64\n",
      "favorite_count    2343 non-null int64\n",
      "retweet_count     2343 non-null int64\n",
      "dtypes: int64(3)\n",
      "memory usage: 55.0 KB\n"
     ]
    }
   ],
   "source": [
    "tweet_archive_clean.info()\n",
    "print()\n",
    "image_predictions_clean.info()\n",
    "print()\n",
    "tweet_json_clean.info()"
   ]
  },
  {
   "cell_type": "markdown",
   "metadata": {},
   "source": [
    "All tweet_id's are type int64, but the JSON DataFrame has a different column name, which needs to match in order\n",
    "to more easily merge."
   ]
  },
  {
   "cell_type": "code",
   "execution_count": 90,
   "metadata": {},
   "outputs": [],
   "source": [
    "# change id column in 'tweet_json_clean' from id' to 'tweet_id'\n",
    "tweet_json_clean.rename(index=str, columns={\"id\": \"tweet_id\"}, inplace=True)"
   ]
  },
  {
   "cell_type": "code",
   "execution_count": 91,
   "metadata": {},
   "outputs": [],
   "source": [
    "# merge all the DataFrames together\n",
    "# the default left outer join seems fine for now\n",
    "tweet_archive_master = tweet_archive_clean.merge(image_predictions_clean, on='tweet_id').merge(tweet_json_clean, on='tweet_id')"
   ]
  },
  {
   "cell_type": "markdown",
   "metadata": {},
   "source": [
    "<a id='store'></a>\n",
    "## Store"
   ]
  },
  {
   "cell_type": "code",
   "execution_count": 92,
   "metadata": {},
   "outputs": [],
   "source": [
    "# save merged DataFrame to file\n",
    "tweet_archive_master_name = 'twitter_archive_master.csv'\n",
    "tweet_archive_master_path = os.path.join(folder_name, tweet_archive_master_name)\n",
    "tweet_archive_master.to_csv(tweet_archive_master_path)"
   ]
  },
  {
   "cell_type": "code",
   "execution_count": 93,
   "metadata": {},
   "outputs": [
    {
     "data": {
      "text/plain": [
       "Index(['tweet_id', 'timestamp', 'text', 'rating_numerator',\n",
       "       'rating_denominator', 'name', 'dog_stage', 'dog_breed',\n",
       "       'favorite_count', 'retweet_count'],\n",
       "      dtype='object')"
      ]
     },
     "execution_count": 93,
     "metadata": {},
     "output_type": "execute_result"
    }
   ],
   "source": [
    "tweet_archive_master.columns"
   ]
  },
  {
   "cell_type": "markdown",
   "metadata": {},
   "source": [
    "<a id='analysis'></a>\n",
    "## Analyze and Visualize"
   ]
  },
  {
   "cell_type": "markdown",
   "metadata": {},
   "source": [
    "<a id='tweet_counts_by_month'></a>\n",
    "#### Tweet counts by month"
   ]
  },
  {
   "cell_type": "code",
   "execution_count": 94,
   "metadata": {},
   "outputs": [],
   "source": [
    "tweet_counts_by_month = tweet_archive_master[['timestamp', 'favorite_count', 'retweet_count']].groupby(pd.Grouper(key='timestamp', freq='M')).sum()"
   ]
  },
  {
   "cell_type": "code",
   "execution_count": 95,
   "metadata": {},
   "outputs": [],
   "source": [
    "tweet_counts_by_month['tweet_count'] = tweet_archive_master[['timestamp', 'tweet_id']].groupby(pd.Grouper(key='timestamp', freq='M')).count()"
   ]
  },
  {
   "cell_type": "code",
   "execution_count": 96,
   "metadata": {},
   "outputs": [],
   "source": [
    "# matplotlib doesn't like the timezone, so we can strip it in the groupby\n",
    "def strip_date(a_datetime):\n",
    "    return datetime.strptime(a_datetime.strftime('%Y-%m-%d'), '%Y-%m-%d')\n",
    "tweet_counts_by_month.index = tweet_counts_by_month.index.map(strip_date)"
   ]
  },
  {
   "cell_type": "code",
   "execution_count": 97,
   "metadata": {},
   "outputs": [
    {
     "data": {
      "text/plain": [
       "<matplotlib.axes._subplots.AxesSubplot at 0x1a19efa198>"
      ]
     },
     "execution_count": 97,
     "metadata": {},
     "output_type": "execute_result"
    },
    {
     "data": {
      "image/png": "[encoded data removed]",
      "text/plain": [
       "<Figure size 432x288 with 1 Axes>"
      ]
     },
     "metadata": {},
     "output_type": "display_data"
    }
   ],
   "source": [
    "tweet_counts_by_month.plot()"
   ]
  },
  {
   "cell_type": "markdown",
   "metadata": {},
   "source": [
    "'tweet_count' looks flat on this scale, so it may need to be pulled out and looked at individually."
   ]
  },
  {
   "cell_type": "code",
   "execution_count": 98,
   "metadata": {},
   "outputs": [
    {
     "data": {
      "text/plain": [
       "<matplotlib.axes._subplots.AxesSubplot at 0x1a1a5173c8>"
      ]
     },
     "execution_count": 98,
     "metadata": {},
     "output_type": "execute_result"
    },
    {
     "data": {
      "image/png": "[encoded data removed]",
      "text/plain": [
       "<Figure size 432x288 with 1 Axes>"
      ]
     },
     "metadata": {},
     "output_type": "display_data"
    }
   ],
   "source": [
    "# plot 'tweet_count' individually\n",
    "tweet_counts_by_month.tweet_count.plot()"
   ]
  },
  {
   "cell_type": "markdown",
   "metadata": {},
   "source": [
    "The tweet count was more per month at the beginning of the archive and then levelled off. More tweets in the beginning may explain the bump at the beginning with higher favorites and retweets. As time went on, it seems that the popularity grew, so there were more retweets and favorites.\n",
    "\n",
    "After looking at 'tweet_count', the other variables should be pulled out to see if scaling by themselves will make the variable plots look different."
   ]
  },
  {
   "cell_type": "code",
   "execution_count": 99,
   "metadata": {},
   "outputs": [
    {
     "data": {
      "text/plain": [
       "array([<matplotlib.axes._subplots.AxesSubplot object at 0x1a1a7b73c8>,\n",
       "       <matplotlib.axes._subplots.AxesSubplot object at 0x1a1a863668>,\n",
       "       <matplotlib.axes._subplots.AxesSubplot object at 0x1a1a91dcc0>],\n",
       "      dtype=object)"
      ]
     },
     "execution_count": 99,
     "metadata": {},
     "output_type": "execute_result"
    },
    {
     "data": {
      "image/png": "[encoded data removed]",
      "text/plain": [
       "<Figure size 432x288 with 3 Axes>"
      ]
     },
     "metadata": {},
     "output_type": "display_data"
    }
   ],
   "source": [
    "tweet_counts_by_month.plot(subplots=True)"
   ]
  },
  {
   "cell_type": "markdown",
   "metadata": {},
   "source": [
    "Sure enough, when the scale is changed, the variations in the curves more or less match."
   ]
  },
  {
   "cell_type": "markdown",
   "metadata": {},
   "source": [
    "To get a better gauge of popularity, looking at the retweets and favorites per tweet may help account for the peak at the beginning of the archive."
   ]
  },
  {
   "cell_type": "code",
   "execution_count": 100,
   "metadata": {},
   "outputs": [],
   "source": [
    "per_tweet_archive_by_month = tweet_counts_by_month.copy()\n",
    "per_tweet_archive_by_month['favorite_count'] /= per_tweet_archive_by_month['tweet_count']\n",
    "per_tweet_archive_by_month['retweet_count'] /= per_tweet_archive_by_month['tweet_count']\n",
    "per_tweet_archive_by_month.drop('tweet_count', axis=1, inplace=True)\n",
    "per_tweet_archive_by_month.columns = ['favorite_count_per_tweet', 'retweet_count_per_tweet']"
   ]
  },
  {
   "cell_type": "code",
   "execution_count": 101,
   "metadata": {},
   "outputs": [
    {
     "data": {
      "text/plain": [
       "<matplotlib.axes._subplots.AxesSubplot at 0x1a1a7a4630>"
      ]
     },
     "execution_count": 101,
     "metadata": {},
     "output_type": "execute_result"
    },
    {
     "data": {
      "image/png": "[encoded data removed]",
      "text/plain": [
       "<Figure size 432x288 with 1 Axes>"
      ]
     },
     "metadata": {},
     "output_type": "display_data"
    }
   ],
   "source": [
    "per_tweet_archive_by_month.plot()"
   ]
  },
  {
   "cell_type": "markdown",
   "metadata": {},
   "source": [
    "The 'per_tweet' plot paints a clearer picture of growing popularity."
   ]
  },
  {
   "cell_type": "markdown",
   "metadata": {},
   "source": [
    "<a id='tweet_counts_by_hour'></a>\n",
    "#### Tweet counts by hour of day"
   ]
  },
  {
   "cell_type": "code",
   "execution_count": 102,
   "metadata": {},
   "outputs": [
    {
     "name": "stderr",
     "output_type": "stream",
     "text": [
      "/Users/charlesdellinger/anaconda2/envs/Python3/lib/python3.6/site-packages/pandas/core/generic.py:4405: SettingWithCopyWarning: \n",
      "A value is trying to be set on a copy of a slice from a DataFrame.\n",
      "Try using .loc[row_indexer,col_indexer] = value instead\n",
      "\n",
      "See the caveats in the documentation: http://pandas.pydata.org/pandas-docs/stable/indexing.html#indexing-view-versus-copy\n",
      "  self[name] = value\n"
     ]
    }
   ],
   "source": [
    "tweet_counts_by_hour = tweet_archive_master[['timestamp', 'favorite_count', 'retweet_count']]\n",
    "tweet_counts_by_hour.timestamp = tweet_counts_by_hour.timestamp.map(lambda x: x.hour)"
   ]
  },
  {
   "cell_type": "code",
   "execution_count": 103,
   "metadata": {},
   "outputs": [
    {
     "data": {
      "text/plain": [
       "<matplotlib.axes._subplots.AxesSubplot at 0x1a1b030c88>"
      ]
     },
     "execution_count": 103,
     "metadata": {},
     "output_type": "execute_result"
    },
    {
     "data": {
      "image/png": "[encoded data removed]",
      "text/plain": [
       "<Figure size 432x288 with 1 Axes>"
      ]
     },
     "metadata": {},
     "output_type": "display_data"
    }
   ],
   "source": [
    "tweet_counts_by_hour = pd.concat([tweet_counts_by_hour.groupby('timestamp').sum(), \n",
    "                                  tweet_counts_by_hour.groupby('timestamp').count()['favorite_count'].rename('tweet_count')],\n",
    "                                 axis = 1)\n",
    "tweet_counts_by_hour.index.names = ['hour of day']\n",
    "tweet_counts_by_hour.plot()"
   ]
  },
  {
   "cell_type": "markdown",
   "metadata": {},
   "source": [
    "There seems to be sharp peaks in the 'favorite_count' and 'retweet_count', but because of the scale, the 'tweet_count' looks flat again, so it need to be pulled out."
   ]
  },
  {
   "cell_type": "code",
   "execution_count": 104,
   "metadata": {},
   "outputs": [
    {
     "data": {
      "text/plain": [
       "array([<matplotlib.axes._subplots.AxesSubplot object at 0x1a1b199e80>,\n",
       "       <matplotlib.axes._subplots.AxesSubplot object at 0x1a1b241240>,\n",
       "       <matplotlib.axes._subplots.AxesSubplot object at 0x1a1b2e2588>],\n",
       "      dtype=object)"
      ]
     },
     "execution_count": 104,
     "metadata": {},
     "output_type": "execute_result"
    },
    {
     "data": {
      "image/png": "[encoded data removed]",
      "text/plain": [
       "<Figure size 432x288 with 3 Axes>"
      ]
     },
     "metadata": {},
     "output_type": "display_data"
    }
   ],
   "source": [
    "tweet_counts_by_hour.plot(subplots=True)"
   ]
  },
  {
   "cell_type": "markdown",
   "metadata": {},
   "source": [
    "When pulled out and scaled, all the variations more or less match, but at different scales."
   ]
  },
  {
   "cell_type": "markdown",
   "metadata": {},
   "source": [
    "As a whole, there seems to be not too many tweets during business hours. The amount of tweets sharply peaks near the close of business and then trails off towards individuals' bedtimes. Suprisingly, there is another peak in the middle of the night."
   ]
  },
  {
   "cell_type": "markdown",
   "metadata": {},
   "source": [
    "<a id='dog_ratings_over_time'></a>\n",
    "#### Dog ratings over time"
   ]
  },
  {
   "cell_type": "code",
   "execution_count": 105,
   "metadata": {},
   "outputs": [
    {
     "ename": "NameError",
     "evalue": "name 'tweet_archive_by_month' is not defined",
     "output_type": "error",
     "traceback": [
      "\u001b[0;31m---------------------------------------------------------------------------\u001b[0m",
      "\u001b[0;31mNameError\u001b[0m                                 Traceback (most recent call last)",
      "\u001b[0;32m<ipython-input-105-baab9c6c0987>\u001b[0m in \u001b[0;36m<module>\u001b[0;34m()\u001b[0m\n\u001b[1;32m      1\u001b[0m \u001b[0mave_ratings_over_time\u001b[0m \u001b[0;34m=\u001b[0m \u001b[0mtweet_archive_master\u001b[0m\u001b[0;34m[\u001b[0m\u001b[0;34m[\u001b[0m\u001b[0;34m'timestamp'\u001b[0m\u001b[0;34m,\u001b[0m \u001b[0;34m'rating_numerator'\u001b[0m\u001b[0;34m]\u001b[0m\u001b[0;34m]\u001b[0m\u001b[0;34m.\u001b[0m\u001b[0mgroupby\u001b[0m\u001b[0;34m(\u001b[0m\u001b[0mpd\u001b[0m\u001b[0;34m.\u001b[0m\u001b[0mGrouper\u001b[0m\u001b[0;34m(\u001b[0m\u001b[0mkey\u001b[0m\u001b[0;34m=\u001b[0m\u001b[0;34m'timestamp'\u001b[0m\u001b[0;34m,\u001b[0m \u001b[0mfreq\u001b[0m\u001b[0;34m=\u001b[0m\u001b[0;34m'M'\u001b[0m\u001b[0;34m)\u001b[0m\u001b[0;34m)\u001b[0m\u001b[0;34m.\u001b[0m\u001b[0mmean\u001b[0m\u001b[0;34m(\u001b[0m\u001b[0;34m)\u001b[0m\u001b[0;34m\u001b[0m\u001b[0m\n\u001b[1;32m      2\u001b[0m \u001b[0;31m# strip date to month like before\u001b[0m\u001b[0;34m\u001b[0m\u001b[0;34m\u001b[0m\u001b[0m\n\u001b[0;32m----> 3\u001b[0;31m \u001b[0mave_ratings_over_time\u001b[0m\u001b[0;34m.\u001b[0m\u001b[0mindex\u001b[0m \u001b[0;34m=\u001b[0m \u001b[0mtweet_archive_by_month\u001b[0m\u001b[0;34m.\u001b[0m\u001b[0mindex\u001b[0m\u001b[0;34m.\u001b[0m\u001b[0mmap\u001b[0m\u001b[0;34m(\u001b[0m\u001b[0mstrip_date\u001b[0m\u001b[0;34m)\u001b[0m\u001b[0;34m\u001b[0m\u001b[0m\n\u001b[0m",
      "\u001b[0;31mNameError\u001b[0m: name 'tweet_archive_by_month' is not defined"
     ]
    }
   ],
   "source": [
    "ave_ratings_over_time = tweet_archive_master[['timestamp', 'rating_numerator']].groupby(pd.Grouper(key='timestamp', freq='M')).mean()\n",
    "# strip date to month like before\n",
    "ave_ratings_over_time.index = tweet_archive_by_month.index.map(strip_date)"
   ]
  },
  {
   "cell_type": "code",
   "execution_count": null,
   "metadata": {},
   "outputs": [],
   "source": [
    "ave_ratings_over_time.plot()"
   ]
  },
  {
   "cell_type": "markdown",
   "metadata": {},
   "source": [
    "It isn't a huge increase, but as time went on, the average dog rating increased. The increase in rating may be because the tweet account started to develop its character to keep pace with follower expectations as the following grew."
   ]
  },
  {
   "cell_type": "code",
   "execution_count": null,
   "metadata": {},
   "outputs": [],
   "source": [
    "pd.concat([per_tweet_archive_by_month, ave_ratings_over_time], axis=1).plot(subplots=True)"
   ]
  },
  {
   "cell_type": "markdown",
   "metadata": {},
   "source": [
    "Looking at the trends, the increase in 'rating_numerator' kept pace with the increase of the 'per_tweet' variables but on a lesser scale."
   ]
  },
  {
   "cell_type": "markdown",
   "metadata": {},
   "source": [
    "<a id='dog_breed_ratings'></a>\n",
    "#### Average dog breed popularity"
   ]
  },
  {
   "cell_type": "markdown",
   "metadata": {},
   "source": [
    "There may be too many breeds to have a reasonable analysis of the breeds."
   ]
  },
  {
   "cell_type": "code",
   "execution_count": null,
   "metadata": {},
   "outputs": [],
   "source": [
    "print('number of breeds: {}'.format(len(tweet_archive_master['dog_breed'].value_counts())))"
   ]
  },
  {
   "cell_type": "markdown",
   "metadata": {},
   "source": [
    "There are definitely too many breeds to look at all at once, so the top 20 based on number of tweets will be chosen to look at since they have each have a larger sample size."
   ]
  },
  {
   "cell_type": "code",
   "execution_count": null,
   "metadata": {},
   "outputs": [],
   "source": [
    "top_20_breeds = tweet_archive_master['dog_breed'].value_counts().index[:20]"
   ]
  },
  {
   "cell_type": "code",
   "execution_count": null,
   "metadata": {},
   "outputs": [],
   "source": [
    "top_20_breed_archive = tweet_archive_master[tweet_archive_master.dog_breed.isin(top_20_breeds)]"
   ]
  },
  {
   "cell_type": "code",
   "execution_count": null,
   "metadata": {},
   "outputs": [],
   "source": [
    "top_20_breed_stats = top_20_breed_archive.groupby('dog_breed').mean()"
   ]
  },
  {
   "cell_type": "markdown",
   "metadata": {},
   "source": [
    "From the analysis over time, the 'rating_numerator' shouldn't have too much variation, so that column needs to be pulled out by itself."
   ]
  },
  {
   "cell_type": "code",
   "execution_count": null,
   "metadata": {},
   "outputs": [],
   "source": [
    "top_20_breed_stats['rating_numerator'].sort_values(ascending=False).plot(kind='bar', ylim=[10,12])"
   ]
  },
  {
   "cell_type": "markdown",
   "metadata": {},
   "source": [
    "There isn't a lot of difference overall, but the average rating starts dropping more sharply after rank 16.\n",
    "\n",
    "The average 'favorite_count' and 'retweet_count' by breed would be the only other interesting things."
   ]
  },
  {
   "cell_type": "code",
   "execution_count": null,
   "metadata": {},
   "outputs": [],
   "source": [
    "top_20_breed_stats[['favorite_count','retweet_count']].sort_values(by='favorite_count', ascending=False).plot(kind='bar', subplots=True)"
   ]
  },
  {
   "cell_type": "markdown",
   "metadata": {},
   "source": [
    "Nothing stands out except that 'French_bulldog' is a clear winner."
   ]
  },
  {
   "cell_type": "code",
   "execution_count": null,
   "metadata": {},
   "outputs": [],
   "source": [
    "top_20_breed_stats['favorite_count'].sort_values(ascending=False).plot(kind='bar', subplots=True)"
   ]
  },
  {
   "cell_type": "markdown",
   "metadata": {},
   "source": [
    "Pulling 'favorite_count' out shows that there is a huge jump even between 'French_bulldog' and the next highest average favorite count. 'French_bulldog' is definitely the most liked dog based on average favorite count."
   ]
  },
  {
   "cell_type": "markdown",
   "metadata": {},
   "source": [
    "<a id='dog_stage_ratings'></a>\n",
    "#### Dog stage ratings"
   ]
  },
  {
   "cell_type": "code",
   "execution_count": null,
   "metadata": {},
   "outputs": [],
   "source": [
    "dog_stage_stats = tweet_archive_master[['dog_stage', 'rating_numerator', 'favorite_count', 'retweet_count']].groupby('dog_stage').mean()\n"
   ]
  },
  {
   "cell_type": "code",
   "execution_count": null,
   "metadata": {},
   "outputs": [],
   "source": [
    "dog_stage_stats['rating_numerator'].sort_values(ascending=False).plot(kind='bar', ylim=[10,13])"
   ]
  },
  {
   "cell_type": "code",
   "execution_count": null,
   "metadata": {},
   "outputs": [],
   "source": [
    "dog_stage_stats[['favorite_count', 'retweet_count']].sort_values(by='favorite_count', ascending=False).plot(kind='bar', subplots=True)"
   ]
  },
  {
   "cell_type": "markdown",
   "metadata": {},
   "source": [
    "Based on retweets and favorite counts, people tend to like puppos and doggos the most."
   ]
  }
 ],
 "metadata": {
  "kernelspec": {
   "display_name": "Python 3",
   "language": "python",
   "name": "python3"
  },
  "language_info": {
   "codemirror_mode": {
    "name": "ipython",
    "version": 3
   },
   "file_extension": ".py",
   "mimetype": "text/x-python",
   "name": "python",
   "nbconvert_exporter": "python",
   "pygments_lexer": "ipython3",
   "version": "3.6.5"
  }
 },
 "nbformat": 4,
 "nbformat_minor": 2
}
